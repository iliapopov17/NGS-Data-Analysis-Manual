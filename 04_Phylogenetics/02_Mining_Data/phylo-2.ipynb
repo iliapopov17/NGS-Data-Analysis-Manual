{
 "cells": [
  {
   "cell_type": "markdown",
   "metadata": {},
   "source": [
    "# Molecular Phylogenetics\n",
    "## Homework №2 - Mining Data\n",
    "Done by Ilia Popov"
   ]
  },
  {
   "cell_type": "markdown",
   "metadata": {},
   "source": [
    "### Part I - Python"
   ]
  },
  {
   "cell_type": "markdown",
   "metadata": {},
   "source": [
    "0) First I log in so I don't get 'shadow-ban'"
   ]
  },
  {
   "cell_type": "code",
   "execution_count": 18,
   "metadata": {},
   "outputs": [],
   "source": [
    "from Bio import Entrez\n",
    "Entrez.email = 'iljapopov17@gmail.com'"
   ]
  },
  {
   "cell_type": "markdown",
   "metadata": {},
   "source": [
    "1) Search PubMed for articles on the query \"Cyclophilin A AND Open reading frame AND Real-time PCR\" and see the abstracts of first two articles in plain text format."
   ]
  },
  {
   "cell_type": "code",
   "execution_count": 19,
   "metadata": {},
   "outputs": [
    {
     "name": "stdout",
     "output_type": "stream",
     "text": [
      "{'Count': '3', 'RetMax': '3', 'RetStart': '0', 'IdList': ['29097323', '19041262', '18819019'], 'TranslationSet': [{'From': 'Cyclophilin A', 'To': '\"cyclophilin a\"[MeSH Terms] OR \"cyclophilin a\"[All Fields]'}, {'From': 'Open reading frame', 'To': '\"open reading frames\"[MeSH Terms] OR (\"open\"[All Fields] AND \"reading\"[All Fields] AND \"frames\"[All Fields]) OR \"open reading frames\"[All Fields] OR (\"open\"[All Fields] AND \"reading\"[All Fields] AND \"frame\"[All Fields]) OR \"open reading frame\"[All Fields]'}, {'From': 'Real-time PCR', 'To': '\"real-time polymerase chain reaction\"[MeSH Terms] OR (\"real-time\"[All Fields] AND \"polymerase\"[All Fields] AND \"chain\"[All Fields] AND \"reaction\"[All Fields]) OR \"real-time polymerase chain reaction\"[All Fields] OR (\"real\"[All Fields] AND \"time\"[All Fields] AND \"pcr\"[All Fields]) OR \"real time pcr\"[All Fields]'}], 'QueryTranslation': '(\"cyclophilin a\"[MeSH Terms] OR \"cyclophilin a\"[All Fields]) AND (\"open reading frames\"[MeSH Terms] OR (\"open\"[All Fields] AND \"reading\"[All Fields] AND \"frames\"[All Fields]) OR \"open reading frames\"[All Fields] OR (\"open\"[All Fields] AND \"reading\"[All Fields] AND \"frame\"[All Fields]) OR \"open reading frame\"[All Fields]) AND (\"real time polymerase chain reaction\"[MeSH Terms] OR (\"real time\"[All Fields] AND \"polymerase\"[All Fields] AND \"chain\"[All Fields] AND \"reaction\"[All Fields]) OR \"real time polymerase chain reaction\"[All Fields] OR (\"real\"[All Fields] AND \"time\"[All Fields] AND \"pcr\"[All Fields]) OR \"real time pcr\"[All Fields])'}\n",
      "1. Fish Shellfish Immunol. 2018 Jan;72:383-388. doi: 10.1016/j.fsi.2017.10.053. \n",
      "Epub 2017 Oct 31.\n",
      "\n",
      "Molecular identification and expression analysis of a novel cyclophilin a gene \n",
      "in the red swamp crayfish, Procambarus clarkii.\n",
      "\n",
      "Zhu J(1), Lin F(2), Li F(2), Wang Y(3).\n",
      "\n",
      "Author information:\n",
      "(1)College of Animal Sciences, Zhejiang University, Hangzhou, 310058, China; \n",
      "School of Life Sciences, RanHuzhou University, Huzhou, 313000, China.\n",
      "(2)Zhejiang Institute of Freshwater Fisheries, Huzhou, 313001, China.\n",
      "(3)College of Animal Sciences, Zhejiang University, Hangzhou, 310058, China. \n",
      "Electronic address: ywang@zju.edu.cn.\n",
      "\n",
      "Cyclophilin A (Cyp A) is the main intracellular receptor of cyclosporin A (CsA) \n",
      "belonging to the immunophilin family, which is known as an effective \n",
      "immunosuppressive drug. This study aimed to gain insights into the structure and \n",
      "biological function of cyclophilin A in the red swamp crayfish, Procambarus \n",
      "clarkii (PcCypA). We cloned PcCypA by homology cloning and anchored polymerase \n",
      "chain reaction (PCR), and assessed its mRNA and protein expression levels in \n",
      "different tissues using quantitative real-time PCR and western blot analysis, \n",
      "respectively. The full-length DNA contained a 5' untranslated region (UTR) \n",
      "comprising 108 base pairs (bp), an open reading frame of 495 bp encoding a \n",
      "polypeptide of 164 amino acids with an estimated molecular mass of 17.3 kDa, and \n",
      "a 3' UTR of 281 bp including a significant poly(A) plus tail sequence. The \n",
      "predicted amino acid sequence of PcCypA shared high identity with CypA in other \n",
      "organisms. PcCypA transcripts were detected in the hepatopancreas, gill, heart, \n",
      "muscle, testis, and ovary of crayfish, with the highest expression levels in the \n",
      "heart. Western blot analysis found one 17-kDa band in all of the tissues \n",
      "examined, except for the ovary. Molecular identification and expression analysis \n",
      "of PcCypA will facilitate further studies of the immune defense mechanisms in \n",
      "red swamp crayfish, and provide new insights into freshwater invertebrate \n",
      "immunology.\n",
      "\n",
      "Copyright © 2017 Elsevier Ltd. All rights reserved.\n",
      "\n",
      "DOI: 10.1016/j.fsi.2017.10.053\n",
      "PMID: 29097323 [Indexed for MEDLINE]\n",
      "\n",
      "\n",
      "2. Fish Shellfish Immunol. 2009 Jan;26(1):115-21. doi: 10.1016/j.fsi.2008.03.022.\n",
      " Epub 2008 Apr 7.\n",
      "\n",
      "Molecular cloning and mRNA expression of cyclophilin A gene in black tiger \n",
      "shrimp (Penaeus monodon).\n",
      "\n",
      "Qiu L(1), Jiang S, Huang J, Wang W, Zhu C, Su T.\n",
      "\n",
      "Author information:\n",
      "(1)The South China Sea Fisheries Research Institute, Chinese Academy of Fishery \n",
      "Sciences, Guangzhou, PR China.\n",
      "\n",
      "The techniques of homology cloning and anchored PCR were used to clone the \n",
      "cyclophilin A (CypA) gene from black tiger shrimp (Penaeus monodon). The \n",
      "full-length cDNA of black tiger shrimp CypA (btsCypA) contained a 5' \n",
      "untranslated region (UTR) of 81 bp, an ORF (open reading frame) of 495 bp \n",
      "encoding a polypeptide of 164 amino acids with an estimated molecular mass of \n",
      "17.68 kDa and a 3' UTR of 308 bp. The predicted amino acid sequence of btsCypA \n",
      "shared high identity with CypA in other organisms. A quantitative reverse \n",
      "transcriptase Real-Time PCR (qRT-PCR) assay was developed to assess the mRNA \n",
      "expression of btsCypA in different tissues and the temporal expression of \n",
      "btsCypA in the hepatopancreas challenged by lipopolyssacharide (LPS). \n",
      "Higher-level mRNA expression of btsCypA was detected in the tissues of \n",
      "hepatopancreas and blood. The expression of btsCypA in the hepatopancreas was up \n",
      "regulated after stimulated by LPS. The results indicated that btsCypA was a \n",
      "constitutive and inducible expressed protein and could be induced by LPS.\n",
      "\n",
      "DOI: 10.1016/j.fsi.2008.03.022\n",
      "PMID: 19041262 [Indexed for MEDLINE]\n"
     ]
    }
   ],
   "source": [
    "handle = Entrez.esearch(db = \"pubmed\", term = \"Cyclophilin A AND Open reading frame AND Real-time PCR\")\n",
    "record = Entrez.read(handle)\n",
    "print(record)\n",
    "mshandle = Entrez.efetch(db=\"pubmed\", id=record[\"IdList\"][0:2], rettype=\"abstract\", retmode=\"text\")\n",
    "print(mshandle.read())"
   ]
  },
  {
   "cell_type": "markdown",
   "metadata": {},
   "source": [
    "2) Find the ID of the organism \"_Procambarus clarkii_\" by name in the taxonomy database"
   ]
  },
  {
   "cell_type": "code",
   "execution_count": 20,
   "metadata": {},
   "outputs": [
    {
     "name": "stdout",
     "output_type": "stream",
     "text": [
      "{'Count': '1', 'RetMax': '1', 'RetStart': '0', 'IdList': ['6728'], 'TranslationSet': [], 'TranslationStack': [{'Term': 'Procambarus clarkii[All Names]', 'Field': 'All Names', 'Count': '1', 'Explode': 'N'}, 'GROUP'], 'QueryTranslation': 'Procambarus clarkii[All Names]'}\n",
      "['6728']\n"
     ]
    }
   ],
   "source": [
    "handle = Entrez.esearch(db = \"taxonomy\", term = \"Procambarus clarkii\")\n",
    "record = Entrez.read(handle)\n",
    "print(record)\n",
    "print(record['IdList'])"
   ]
  },
  {
   "cell_type": "markdown",
   "metadata": {},
   "source": [
    "3) Let's query the nucleotide sequence database for the gene name \"cyclophilin\", and then return a table with:\n",
    "- UID\n",
    "- Accession number\n",
    "- Sequence length\n",
    "\n",
    "I changed the command we used in the lecture because in the lecture we searched the protein sequence database, and I needed to find the UID of a nucleotide for the assignment"
   ]
  },
  {
   "cell_type": "code",
   "execution_count": 21,
   "metadata": {},
   "outputs": [
    {
     "name": "stdout",
     "output_type": "stream",
     "text": [
      "1940114972\tMT601694\t636\n",
      "429843488\tJX878886\t495\n"
     ]
    }
   ],
   "source": [
    "handle = Entrez.esearch(db=\"nucleotide\", term=\"cyclophilin AND Procambarus clarkii[orgn]\")\n",
    "record = Entrez.read(handle)\n",
    "for rec in record[\"IdList\"]:\n",
    "        temphandle = Entrez.read(Entrez.esummary(db=\"nucleotide\", id=rec, retmode=\"text\"))\n",
    "        print(temphandle[0]['Id']+\"\\t\"+temphandle[0]['Caption']+\"\\t\"+str(int(temphandle[0]['Length'])))#+\"\\n\")"
   ]
  },
  {
   "cell_type": "markdown",
   "metadata": {},
   "source": [
    "4) Let's give the protein sequence database a text query and then return the sequences in fasta format, which we write to a file"
   ]
  },
  {
   "cell_type": "code",
   "execution_count": 22,
   "metadata": {},
   "outputs": [
    {
     "name": "stdout",
     "output_type": "stream",
     "text": [
      "['>QPM92673.1 cyclophilin [Procambarus clarkii]\\n', 'MKALVAVVALLVIFSVFNRADGQAGESKGPKVTHKVFFDITIGGVPKGTVVIGLFGSTVPRTAQNFFELA\\n', 'QKPVGEGYKGSVFHRVIKDFMIQGGDFTRGDGTGGRSIYGERFADENFKLKHFGAGWLSMANAGKDTNGS\\n', 'QFFITTNKTTWLDGKHVVFGKVLAGMPIIREIEASATDGRDRPVAEVKIVDSRGEALSQPFESVAKEDAT\\n', 'D\\n']\n"
     ]
    }
   ],
   "source": [
    "handle = Entrez.esearch(db=\"protein\", term=\"cyclophilin AND Procambarus clarkii[orgn]\")\n",
    "record = Entrez.read(handle)\n",
    "Entrez.efetch(db=\"protein\", id=record[\"IdList\"], retmode=\"text\", rettype=\"fasta\").read()\n",
    "with open(\"cyclophilin.fasta\", \"w\") as ouf:\n",
    "    for rec in record[\"IdList\"]:\n",
    "        lne = Entrez.efetch(db=\"protein\", id=rec, retmode=\"text\", rettype=\"fasta\").read()\n",
    "        ouf.write(lne+\"\\n\")\n",
    "with open(\"cyclophilin.fasta\", \"r\") as fastaf:\n",
    "    snippet = [next(fastaf) for x in range(5)]\n",
    "    print(snippet)"
   ]
  },
  {
   "cell_type": "markdown",
   "metadata": {},
   "source": [
    "5) Download the protein corresponding to the known UID of the nucleotide"
   ]
  },
  {
   "cell_type": "code",
   "execution_count": 23,
   "metadata": {},
   "outputs": [
    {
     "name": "stdout",
     "output_type": "stream",
     "text": [
      "['>AGA16578.1 cyclophilin A [Procambarus clarkii]\\n', 'MGNPQVFFDITANGKPLGRIVMELRADVVPKTAENFRALCTGEKGFGYKGSTFHRVIPNFMCQGGDFTAG\\n', 'NGTGGKSIYGSKFADENFQLPHDGPGILSMANAGPNTNGSQFFLCTVRTNWLDGKHVVLGKVTEGMDVVR\\n', 'QIEGYGKPSGETSAKIVVANCGQL\\n', '\\n']\n"
     ]
    }
   ],
   "source": [
    "lhandle = Entrez.elink(dbfrom=\"nucleotide\", db=\"protein\", id=\"429843488\") \n",
    "lrecord = Entrez.read(lhandle)\n",
    "prothandle = lrecord[0][\"LinkSetDb\"][0]['Link'][0]['Id']\n",
    "rrecord = Entrez.efetch(db=\"protein\", id=prothandle, rettype=\"fasta\", retmode=\"text\")\n",
    "with open (\"prot_from_nt.fasta\", \"w\") as ouf:\n",
    "    ouf.write(rrecord.read()+\"\\n\")\n",
    "with open(\"prot_from_nt.fasta\", \"r\") as fastaf:\n",
    "    snippet = [next(fastaf) for x in range(5)]\n",
    "    print(snippet)"
   ]
  },
  {
   "cell_type": "markdown",
   "metadata": {},
   "source": [
    "6) Finally, let's download all the sequences from working with PMID 19041262 and write them to the fasta file"
   ]
  },
  {
   "cell_type": "code",
   "execution_count": 24,
   "metadata": {},
   "outputs": [
    {
     "name": "stdout",
     "output_type": "stream",
     "text": [
      "['>EU164775.1 Penaeus monodon cyclophilin A mRNA, complete cds\\n', 'CTCGTCCTCGGTTCCCGGCGATCCTCTGGAGATTGTTGCCGTAGATGGACTTGCGAGCAGACCTACACCA\\n', 'ACTTAGCCACCATGGGCAACCCCAAAGTCTTTTTCGACATTACCGCTGACAACCAGCCCGTTGGCAGGAT\\n', 'CGTCATGGAGCTCCGCGCCGACGTGGTCCCCAAGACCGCCGAGAACTTCCGGTCGCTGTGCACGGGCGAG\\n', 'AAGGGCTTCGGCTACAAGGGTTCCTGCTTCCACCGCGTGATCCCCAACTTCATGTGTCAGGGAGGCGACT\\n']\n"
     ]
    }
   ],
   "source": [
    "lhandle = Entrez.elink(dbfrom=\"pubmed\", db=\"nucleotide\", id=\"19041262\")\n",
    "lrecord = Entrez.read(lhandle)\n",
    "ids = []\n",
    "for el in lrecord[0][\"LinkSetDb\"][0][\"Link\"]:\n",
    "    ids.append(el['Id'])\n",
    "rrecord = Entrez.efetch(db=\"nucleotide\", id=ids[:4], rettype=\"fasta\", retmode=\"text\")\n",
    "with open (\"py_fasta_pmid.fasta\", \"w\") as ouf:\n",
    "    ouf.write(rrecord.read()+\"\\n\")\n",
    "with open(\"py_fasta_pmid.fasta\", \"r\") as fastaf:\n",
    "    snippet = [next(fastaf) for x in range(5)]\n",
    "    print(snippet)"
   ]
  },
  {
   "cell_type": "markdown",
   "metadata": {},
   "source": [
    "### Part II - Bash"
   ]
  },
  {
   "cell_type": "markdown",
   "metadata": {},
   "source": [
    "1) Search PubMed for articles on the query \"Cyclophilin A AND Open reading frame AND Real-time PCR\" and see the abstracts of first two articles in plain text format."
   ]
  },
  {
   "cell_type": "code",
   "execution_count": 1,
   "metadata": {},
   "outputs": [
    {
     "name": "stdout",
     "output_type": "stream",
     "text": [
      "1. Fish Shellfish Immunol. 2018 Jan;72:383-388. doi: 10.1016/j.fsi.2017.10.053. \n",
      "Epub 2017 Oct 31.\n",
      "\n",
      "Molecular identification and expression analysis of a novel cyclophilin a gene \n",
      "in the red swamp crayfish, Procambarus clarkii.\n",
      "\n",
      "Zhu J(1), Lin F(2), Li F(2), Wang Y(3).\n",
      "\n",
      "Author information:\n",
      "(1)College of Animal Sciences, Zhejiang University, Hangzhou, 310058, China; \n",
      "School of Life Sciences, RanHuzhou University, Huzhou, 313000, China.\n",
      "(2)Zhejiang Institute of Freshwater Fisheries, Huzhou, 313001, China.\n",
      "(3)College of Animal Sciences, Zhejiang University, Hangzhou, 310058, China. \n",
      "Electronic address: ywang@zju.edu.cn.\n",
      "\n",
      "Cyclophilin A (Cyp A) is the main intracellular receptor of cyclosporin A (CsA) \n",
      "belonging to the immunophilin family, which is known as an effective \n",
      "immunosuppressive drug. This study aimed to gain insights into the structure and \n",
      "biological function of cyclophilin A in the red swamp crayfish, Procambarus \n",
      "clarkii (PcCypA). We cloned PcCypA by homology cloning and anchored polymerase \n",
      "chain reaction (PCR), and assessed its mRNA and protein expression levels in \n",
      "different tissues using quantitative real-time PCR and western blot analysis, \n",
      "respectively. The full-length DNA contained a 5' untranslated region (UTR) \n",
      "comprising 108 base pairs (bp), an open reading frame of 495 bp encoding a \n",
      "polypeptide of 164 amino acids with an estimated molecular mass of 17.3 kDa, and \n",
      "a 3' UTR of 281 bp including a significant poly(A) plus tail sequence. The \n",
      "predicted amino acid sequence of PcCypA shared high identity with CypA in other \n",
      "organisms. PcCypA transcripts were detected in the hepatopancreas, gill, heart, \n",
      "muscle, testis, and ovary of crayfish, with the highest expression levels in the \n",
      "heart. Western blot analysis found one 17-kDa band in all of the tissues \n",
      "examined, except for the ovary. Molecular identification and expression analysis \n",
      "of PcCypA will facilitate further studies of the immune defense mechanisms in \n",
      "red swamp crayfish, and provide new insights into freshwater invertebrate \n",
      "immunology.\n",
      "\n",
      "Copyright © 2017 Elsevier Ltd. All rights reserved.\n",
      "\n",
      "DOI: 10.1016/j.fsi.2017.10.053\n",
      "PMID: 29097323 [Indexed for MEDLINE]\n",
      "\n",
      "\n",
      "2. Fish Shellfish Immunol. 2009 Jan;26(1):115-21. doi: 10.1016/j.fsi.2008.03.022.\n",
      " Epub 2008 Apr 7.\n",
      "\n",
      "Molecular cloning and mRNA expression of cyclophilin A gene in black tiger \n",
      "shrimp (Penaeus monodon).\n",
      "\n",
      "Qiu L(1), Jiang S, Huang J, Wang W, Zhu C, Su T.\n",
      "\n",
      "Author information:\n",
      "(1)The South China Sea Fisheries Research Institute, Chinese Academy of Fishery \n",
      "Sciences, Guangzhou, PR China.\n",
      "\n",
      "The techniques of homology cloning and anchored PCR were used to clone the \n",
      "cyclophilin A (CypA) gene from black tiger shrimp (Penaeus monodon). The \n",
      "full-length cDNA of black tiger shrimp CypA (btsCypA) contained a 5' \n",
      "untranslated region (UTR) of 81 bp, an ORF (open reading frame) of 495 bp \n",
      "encoding a polypeptide of 164 amino acids with an estimated molecular mass of \n",
      "17.68 kDa and a 3' UTR of 308 bp. The predicted amino acid sequence of btsCypA \n",
      "shared high identity with CypA in other organisms. A quantitative reverse \n",
      "transcriptase Real-Time PCR (qRT-PCR) assay was developed to assess the mRNA \n",
      "expression of btsCypA in different tissues and the temporal expression of \n",
      "btsCypA in the hepatopancreas challenged by lipopolyssacharide (LPS). \n",
      "Higher-level mRNA expression of btsCypA was detected in the tissues of \n",
      "hepatopancreas and blood. The expression of btsCypA in the hepatopancreas was up \n",
      "regulated after stimulated by LPS. The results indicated that btsCypA was a \n",
      "constitutive and inducible expressed protein and could be induced by LPS.\n",
      "\n",
      "DOI: 10.1016/j.fsi.2008.03.022\n",
      "PMID: 19041262 [Indexed for MEDLINE]\n",
      "\n",
      "\n",
      "3. Mol Biol Rep. 2009 Jul;36(6):1637-45. doi: 10.1007/s11033-008-9363-8. Epub\n",
      "2008  Sep 26.\n",
      "\n",
      "A cyclophilin A inducible expressed in gonad of zhikong scallop Chlamys farreri.\n",
      "\n",
      "Song X(1), Wang L, Song L, Zhao J, Zhang H, Zheng P, Qiu L, Liu X, Wu L.\n",
      "\n",
      "Author information:\n",
      "(1)College of Animal Science and Technology, Northwest A&F University, Yangling, \n",
      "Shaanxi, 712100, China.\n",
      "\n",
      "Cyclophilin A (CypA), a receptor for the immunosuppressive agent cyclosporin A \n",
      "(CsA), is a cis-trans peptidyl-prolyl isomerase (PPIase) which accelerates the \n",
      "cis-trans isomerization of prolyl-peptide bonds, interacts with a variety of \n",
      "proteins and therefore regulates their activities. One CypA (designated CfCypA) \n",
      "cDNA was cloned from Chlamys farreri by expressed sequence tag (EST) and rapid \n",
      "amplification of cDNA ends (RACE) techniques. The full-length cDNA of CfCypA \n",
      "consisted of 1,248 nucleotides with a canonical polyadenylation signal sequence \n",
      "AATAAA, a poly (A) tail, and an open reading frame (ORF) of 495 nucleotides \n",
      "encoding a polypeptide of 164 amino acids. The deduced amino acid sequence \n",
      "shared high similarity with CypA from the other species, indicating that CfCypA \n",
      "should be a new member of the CypA family. Quantitative real-time (RT) PCR was \n",
      "employed to assess the mRNA expression of CfCypA in various tissues and its \n",
      "temporal expression in haemocytes and gonad of scallops challenged with Vibrio \n",
      "anguillarum. The mRNA transcripts of CfCypA could be detected in all the \n",
      "examined tissues with highest expression level in gonad. After bacterial \n",
      "challenge, the expression level of CfCypA was almost unchanged in haemocytes, \n",
      "but up-regulated in gonad and increased to the peak (22.59-fold; P < 0.05) at 4 \n",
      "h post-injection, and then dropped to the original level at 8 h post-injection. \n",
      "These results indicated that CfCypA was constitutive expressed in haemocytes, \n",
      "but could be induced in gonad, and perhaps played a critical role in response to \n",
      "the bacterial challenge in gonad.\n",
      "\n",
      "DOI: 10.1007/s11033-008-9363-8\n",
      "PMID: 18819019 [Indexed for MEDLINE]\n"
     ]
    }
   ],
   "source": [
    "! esearch -email iljapopov17@gmail.com -db pubmed -query \"Cyclophilin A AND Open reading frame AND Real-time PCR\" | efetch -mode text -format abstract"
   ]
  },
  {
   "cell_type": "markdown",
   "metadata": {},
   "source": [
    "2) Find the ID of the organism \"_Procambarus clarkii_\" by name in the taxonomy database"
   ]
  },
  {
   "cell_type": "code",
   "execution_count": 2,
   "metadata": {},
   "outputs": [
    {
     "name": "stdout",
     "output_type": "stream",
     "text": [
      "    <TaxId>6728</TaxId>\n",
      "    <AkaTaxId>0</AkaTaxId>\n"
     ]
    }
   ],
   "source": [
    "! esearch -email iljapopov17@gmail.com -db taxonomy -query \"Procambarus clarkii\" | esummary | grep TaxId"
   ]
  },
  {
   "cell_type": "markdown",
   "metadata": {},
   "source": [
    "3) Let's query the nucleotide sequence database for the gene name \"cyclophilin\", and then return a table with:\n",
    "- UID\n",
    "- Accession number\n",
    "- Sequence length\n",
    "\n",
    "I changed the command we used in the lecture because in the lecture we searched the protein sequence database, and I needed to find the UID of a nucleotide for the assignment"
   ]
  },
  {
   "cell_type": "code",
   "execution_count": 3,
   "metadata": {},
   "outputs": [
    {
     "name": "stdout",
     "output_type": "stream",
     "text": [
      "1940114972\tMT601694\t636\n",
      "429843488\tJX878886\t495\n"
     ]
    }
   ],
   "source": [
    "! esearch -email iljapopov17@gmail.com -db nucleotide -query \"cyclophilin AND Procambarus clarkii[orgn]\" | esummary -mode xml | xtract -pattern DocumentSummary -element Id Caption Slen"
   ]
  },
  {
   "cell_type": "markdown",
   "metadata": {},
   "source": [
    "4) Let's give the protein sequence database a text query and then return the sequences in fasta format, which we write to a file"
   ]
  },
  {
   "cell_type": "code",
   "execution_count": 4,
   "metadata": {},
   "outputs": [
    {
     "name": "stdout",
     "output_type": "stream",
     "text": [
      ">QPM92673.1 cyclophilin [Procambarus clarkii]\n",
      "MKALVAVVALLVIFSVFNRADGQAGESKGPKVTHKVFFDITIGGVPKGTVVIGLFGSTVPRTAQNFFELA\n",
      "QKPVGEGYKGSVFHRVIKDFMIQGGDFTRGDGTGGRSIYGERFADENFKLKHFGAGWLSMANAGKDTNGS\n",
      "QFFITTNKTTWLDGKHVVFGKVLAGMPIIREIEASATDGRDRPVAEVKIVDSRGEALSQPFESVAKEDAT\n",
      "D\n",
      ">AGA16578.1 cyclophilin A [Procambarus clarkii]\n",
      "MGNPQVFFDITANGKPLGRIVMELRADVVPKTAENFRALCTGEKGFGYKGSTFHRVIPNFMCQGGDFTAG\n",
      "NGTGGKSIYGSKFADENFQLPHDGPGILSMANAGPNTNGSQFFLCTVRTNWLDGKHVVLGKVTEGMDVVR\n",
      "QIEGYGKPSGETSAKIVVANCGQL\n"
     ]
    }
   ],
   "source": [
    "! esearch -email iljapopov17@gmail.com -db protein -query \"cyclophilin AND Procambarus clarkii[orgn]\" | efetch -format fasta -mode text >cyclophilin.fa\n",
    "! head cyclophilin.fa"
   ]
  },
  {
   "cell_type": "markdown",
   "metadata": {},
   "source": [
    "5) Download the protein corresponding to the known UID of the nucleotide"
   ]
  },
  {
   "cell_type": "code",
   "execution_count": 6,
   "metadata": {},
   "outputs": [
    {
     "name": "stdout",
     "output_type": "stream",
     "text": [
      ">AGA16578.1 cyclophilin A [Procambarus clarkii]\n",
      "MGNPQVFFDITANGKPLGRIVMELRADVVPKTAENFRALCTGEKGFGYKGSTFHRVIPNFMCQGGDFTAG\n",
      "NGTGGKSIYGSKFADENFQLPHDGPGILSMANAGPNTNGSQFFLCTVRTNWLDGKHVVLGKVTEGMDVVR\n",
      "QIEGYGKPSGETSAKIVVANCGQL\n"
     ]
    }
   ],
   "source": [
    "! elink -id 429843488 -db nuccore -target protein | efetch -format fasta -mode text > prot_from_nt.fa\n",
    "! head prot_from_nt.fa"
   ]
  },
  {
   "cell_type": "markdown",
   "metadata": {},
   "source": [
    "6) Finally, let's download all the sequences from working with PMID 19041262 and write them to the fasta file"
   ]
  },
  {
   "cell_type": "code",
   "execution_count": 7,
   "metadata": {},
   "outputs": [
    {
     "name": "stdout",
     "output_type": "stream",
     "text": [
      ">EU164775.1 Penaeus monodon cyclophilin A mRNA, complete cds\n",
      "CTCGTCCTCGGTTCCCGGCGATCCTCTGGAGATTGTTGCCGTAGATGGACTTGCGAGCAGACCTACACCA\n",
      "ACTTAGCCACCATGGGCAACCCCAAAGTCTTTTTCGACATTACCGCTGACAACCAGCCCGTTGGCAGGAT\n",
      "CGTCATGGAGCTCCGCGCCGACGTGGTCCCCAAGACCGCCGAGAACTTCCGGTCGCTGTGCACGGGCGAG\n",
      "AAGGGCTTCGGCTACAAGGGTTCCTGCTTCCACCGCGTGATCCCCAACTTCATGTGTCAGGGAGGCGACT\n",
      "TCACCGCCGGCAACGGCACGGGCGGCAAGTCCATCTACGGCAACAAATTCGAGGACGAGAACTTCGCACT\n",
      "GAAGCACACCGGCCCCGGCACCCTGTCCATGGCCAACGCCGGCCCCAACACCAACGGGTCGCAATTCTTC\n",
      "ATCTGCACCGTCAAAACCCCCTGGCTGGACAACAAGCACGTGGTTTTCGGCTCCGTGGTGGAGGGCATGG\n",
      "ACATCGTGCGCCAGGTCGAGGGTTTCGGCACCCCCAACGGCTCTTGCAAGCGGAAAGTGATGATCGCCAA\n",
      "CTGCGGCCAGCTGTAAAGTTTCAGAACATTCCCCCTTAGCCGCCCACCCCTTTTTTTTTTGATGTAATTG\n"
     ]
    }
   ],
   "source": [
    "! elink -db pubmed -target nucleotide -id 19041262 | efetch -format fasta -mode text > py_fasta_pmid.fa\n",
    "! head py_fasta_pmid.fa"
   ]
  }
 ],
 "metadata": {
  "kernelspec": {
   "display_name": "phylo2",
   "language": "python",
   "name": "python3"
  },
  "language_info": {
   "codemirror_mode": {
    "name": "ipython",
    "version": 3
   },
   "file_extension": ".py",
   "mimetype": "text/x-python",
   "name": "python",
   "nbconvert_exporter": "python",
   "pygments_lexer": "ipython3",
   "version": "3.6.15"
  }
 },
 "nbformat": 4,
 "nbformat_minor": 2
}
