{
 "cells": [
  {
   "cell_type": "markdown",
   "metadata": {},
   "source": [
    "## **Part 1. Phylogeny of selected mammalian species based on mitochondrial genomes.**"
   ]
  },
  {
   "cell_type": "markdown",
   "metadata": {},
   "source": [
    ">**Objective**: construct a phylogeny for 13 mitochondrial protein-coding genes using a supermatrix of concatenated genes"
   ]
  },
  {
   "cell_type": "markdown",
   "metadata": {},
   "source": [
    "### **Preparation**"
   ]
  },
  {
   "cell_type": "markdown",
   "metadata": {},
   "source": [
    "First we create the directories to store the data<br>\n",
    "There will be 2 parts of `Phylogenomics` manual, that's why we will store mitochondrion data to the `part_1` directory"
   ]
  },
  {
   "cell_type": "code",
   "execution_count": 1,
   "metadata": {},
   "outputs": [],
   "source": [
    "! mkdir data/\n",
    "! mkdir data/part_1/"
   ]
  },
  {
   "cell_type": "markdown",
   "metadata": {},
   "source": [
    "Now create `mitochondrions` directory to store exactly the data we will be working with"
   ]
  },
  {
   "cell_type": "code",
   "execution_count": 2,
   "metadata": {},
   "outputs": [],
   "source": [
    "! mkdir data/part_1/mitochondrions/"
   ]
  },
  {
   "cell_type": "markdown",
   "metadata": {},
   "source": [
    "### **Downloading the data**"
   ]
  },
  {
   "cell_type": "markdown",
   "metadata": {},
   "source": [
    "Download mitochondrial protein-coding genes of _Physeter catodon_"
   ]
  },
  {
   "cell_type": "code",
   "execution_count": 3,
   "metadata": {},
   "outputs": [],
   "source": [
    "! esearch -db nuccore -query NC_002503 | efetch -format fasta_cds_aa > data/part_1/mitochondrions/Physeter_catodon_mt_prot.fa "
   ]
  },
  {
   "cell_type": "markdown",
   "metadata": {},
   "source": [
    "Download mitochondrial protein-coding genes of _Ovis aries_"
   ]
  },
  {
   "cell_type": "code",
   "execution_count": 4,
   "metadata": {},
   "outputs": [],
   "source": [
    "! esearch -db nuccore -query NC_001941 | efetch -format fasta_cds_aa > data/part_1/mitochondrions/Ovis_aries_mt_prot.fa "
   ]
  },
  {
   "cell_type": "markdown",
   "metadata": {},
   "source": [
    "Download mitochondrial protein-coding genes of _Equus caballus_"
   ]
  },
  {
   "cell_type": "code",
   "execution_count": 5,
   "metadata": {},
   "outputs": [],
   "source": [
    "! esearch -db nuccore -query NC_001640 | efetch -format fasta_cds_aa > data/part_1/mitochondrions/Equus_caballus_mt_prot.fa "
   ]
  },
  {
   "cell_type": "markdown",
   "metadata": {},
   "source": [
    "Download mitochondrial protein-coding genes of _Felis catus_"
   ]
  },
  {
   "cell_type": "code",
   "execution_count": 6,
   "metadata": {},
   "outputs": [],
   "source": [
    "! esearch -db nuccore -query NC_001700 | efetch -format fasta_cds_aa > data/part_1/mitochondrions/Felis_catus_mt_prot.fa "
   ]
  },
  {
   "cell_type": "markdown",
   "metadata": {},
   "source": [
    "Download mitochondrial protein-coding genes of _Canis lupus familiaris_"
   ]
  },
  {
   "cell_type": "code",
   "execution_count": 7,
   "metadata": {},
   "outputs": [],
   "source": [
    "! esearch -db nuccore -query NC_002008 | efetch -format fasta_cds_aa > data/part_1/mitochondrions/Canis_lupus_familiaris_mt_prot.fa "
   ]
  },
  {
   "cell_type": "markdown",
   "metadata": {},
   "source": [
    "Download mitochondrial protein-coding genes of _Myotis lucifugus_"
   ]
  },
  {
   "cell_type": "code",
   "execution_count": 8,
   "metadata": {},
   "outputs": [],
   "source": [
    "! esearch -db nuccore -query NC_029849 | efetch -format fasta_cds_aa > data/part_1/mitochondrions/Myotis_lucifugus_mt_prot.fa "
   ]
  },
  {
   "cell_type": "markdown",
   "metadata": {},
   "source": [
    "Download mitochondrial protein-coding genes of _Mus spretus_"
   ]
  },
  {
   "cell_type": "code",
   "execution_count": 9,
   "metadata": {},
   "outputs": [],
   "source": [
    "! esearch -db nuccore -query NC_025952 | efetch -format fasta_cds_aa > data/part_1/mitochondrions/Mus_spretus_mt_prot.fa  "
   ]
  },
  {
   "cell_type": "markdown",
   "metadata": {},
   "source": [
    "Download mitochondrial protein-coding genes of _Mus musculus_"
   ]
  },
  {
   "cell_type": "code",
   "execution_count": 10,
   "metadata": {},
   "outputs": [],
   "source": [
    "! esearch -db nuccore -query NC_005089 | efetch -format fasta_cds_aa > data/part_1/mitochondrions/Mus_musculus_mt_prot.fa  "
   ]
  },
  {
   "cell_type": "markdown",
   "metadata": {},
   "source": [
    "Download mitochondrial protein-coding genes of _Marmota marmota_"
   ]
  },
  {
   "cell_type": "code",
   "execution_count": 11,
   "metadata": {},
   "outputs": [],
   "source": [
    "! esearch -db nuccore -query MN935776 | efetch -format fasta_cds_aa > data/part_1/mitochondrions/Marmota_marmota_mt_prot.fa"
   ]
  },
  {
   "cell_type": "markdown",
   "metadata": {},
   "source": [
    "Download mitochondrial protein-coding genes of _Macaca mulatta_"
   ]
  },
  {
   "cell_type": "code",
   "execution_count": 12,
   "metadata": {},
   "outputs": [],
   "source": [
    "! esearch -db nuccore -query NC_005943 | efetch -format fasta_cds_aa > data/part_1/mitochondrions/Macaca_mulatta_mt_prot.fa"
   ]
  },
  {
   "cell_type": "markdown",
   "metadata": {},
   "source": [
    "Download mitochondrial protein-coding genes of _Ornithorhynchus anatinus_"
   ]
  },
  {
   "cell_type": "code",
   "execution_count": 13,
   "metadata": {},
   "outputs": [],
   "source": [
    "! esearch -db nuccore -query NC_000891 | efetch -format fasta_cds_aa > data/part_1/mitochondrions/Ornithorhynchus_anatinus_mt_prot.fa"
   ]
  },
  {
   "cell_type": "markdown",
   "metadata": {},
   "source": [
    "Download mitochondrial protein-coding genes of _Vombatus ursinus_"
   ]
  },
  {
   "cell_type": "code",
   "execution_count": 14,
   "metadata": {},
   "outputs": [],
   "source": [
    "! esearch -db nuccore -query NC_003322 | efetch -format fasta_cds_aa > data/part_1/mitochondrions/Vombatus_ursinus_mt_prot.fa"
   ]
  },
  {
   "cell_type": "markdown",
   "metadata": {},
   "source": [
    "Now let's check the `data/part_1/mitochondrions/` directory!"
   ]
  },
  {
   "cell_type": "code",
   "execution_count": 15,
   "metadata": {},
   "outputs": [
    {
     "name": "stdout",
     "output_type": "stream",
     "text": [
      "Canis_lupus_familiaris_mt_prot.fa  Mus_spretus_mt_prot.fa\n",
      "Equus_caballus_mt_prot.fa\t   Myotis_lucifugus_mt_prot.fa\n",
      "Felis_catus_mt_prot.fa\t\t   Ornithorhynchus_anatinus_mt_prot.fa\n",
      "Macaca_mulatta_mt_prot.fa\t   Ovis_aries_mt_prot.fa\n",
      "Marmota_marmota_mt_prot.fa\t   Physeter_catodon_mt_prot.fa\n",
      "Mus_musculus_mt_prot.fa\t\t   Vombatus_ursinus_mt_prot.fa\n"
     ]
    }
   ],
   "source": [
    "! ls data/part_1/mitochondrions/"
   ]
  },
  {
   "cell_type": "markdown",
   "metadata": {},
   "source": [
    "All right! We have all the data we need to work with, but...<br>\n",
    "Let's take a look at how the sequences are named in these files"
   ]
  },
  {
   "cell_type": "code",
   "execution_count": 16,
   "metadata": {},
   "outputs": [
    {
     "name": "stdout",
     "output_type": "stream",
     "text": [
      ">lcl|NC_002008.4_prot_NP_008471.1_1 [gene=ND1] [locus_tag=KEF55_p13] [db_xref=GeneID:804476] [protein=NADH dehydrogenase subunit 1] [transl_except=(pos:955..956,aa:TERM)] [protein_id=NP_008471.1] [location=2747..3702] [gbkey=CDS]\n"
     ]
    }
   ],
   "source": [
    "! head -1 data/part_1/mitochondrions/Canis_lupus_familiaris_mt_prot.fa"
   ]
  },
  {
   "cell_type": "markdown",
   "metadata": {},
   "source": [
    "Total mess!<br>\n",
    "Yes, there are a lot of information, but any tool will complain that this is too much! We need to rename the sequences!<br>\n",
    "For that let's create another directory called `mitochondrions_renamed`"
   ]
  },
  {
   "cell_type": "markdown",
   "metadata": {},
   "source": [
    "### **1st seqs renaming**"
   ]
  },
  {
   "cell_type": "code",
   "execution_count": 24,
   "metadata": {},
   "outputs": [],
   "source": [
    "! mkdir data/part_1/mitochondrions_renamed/"
   ]
  },
  {
   "cell_type": "markdown",
   "metadata": {},
   "source": [
    "Now let's rename `>lcl|NC_002008.4_prot_NP_008471.1_1 [gene=ND1]...` to just `>ND1` and store renamed files in another directory (`data/part_1/mitochondrions_renamed/`)"
   ]
  },
  {
   "cell_type": "code",
   "execution_count": 25,
   "metadata": {},
   "outputs": [],
   "source": [
    "%%bash\n",
    "\n",
    "for file in data/part_1/mitochondrions/*mt_prot.fa\n",
    "do sed -e 's/.*ND1.*/>ND1/' $file | sed -e 's/.*ND2.*/>ND2/' | sed -e 's/.*ND3.*/>ND3/' | sed -e 's/.*ND4].*/>ND4/' | sed -e 's/.*ND4L].*/>ND4L/' | sed -e 's/.*ND5.*/>ND5/' |  sed -e 's/.*ND6.*/>ND6/' | sed -e 's/.*COX1.*/>COX1/' | sed -e 's/.*COX2.*/>COX2/'  | sed -e 's/.*COX3.*/>COX3/' | sed -e 's/.*ATP6.*/>ATP6/'  | sed -e 's/.*ATP8.*/>ATP8/' | sed -e 's/.*CYTB.*/>CYTB/' >data/part_1/mitochondrions_renamed/$(basename \"$file\" _mt_prot.fa)_renamed_mt_prot.fa\n",
    "done"
   ]
  },
  {
   "cell_type": "markdown",
   "metadata": {},
   "source": [
    "Let's check `mitochondrions_renamed` directory!"
   ]
  },
  {
   "cell_type": "code",
   "execution_count": 59,
   "metadata": {},
   "outputs": [
    {
     "name": "stdout",
     "output_type": "stream",
     "text": [
      "Canis_lupus_familiaris_renamed_mt_prot.fa\n",
      "Equus_caballus_renamed_mt_prot.fa\n",
      "Felis_catus_renamed_mt_prot.fa\n",
      "Macaca_mulatta_renamed_mt_prot.fa\n",
      "Marmota_marmota_renamed_mt_prot.fa\n",
      "Mus_musculus_renamed_mt_prot.fa\n",
      "Mus_spretus_renamed_mt_prot.fa\n",
      "Myotis_lucifugus_renamed_mt_prot.fa\n",
      "Ornithorhynchus_anatinus_renamed_mt_prot.fa\n",
      "Ovis_aries_renamed_mt_prot.fa\n",
      "Physeter_catodon_renamed_mt_prot.fa\n",
      "Vombatus_ursinus_renamed_mt_prot.fa\n"
     ]
    }
   ],
   "source": [
    "! ls data/part_1/mitochondrions_renamed/"
   ]
  },
  {
   "cell_type": "markdown",
   "metadata": {},
   "source": [
    "Hooray! we have all 12 files with renamed sequences!<br>\n",
    "Anyway let's check that we did everything fine..."
   ]
  },
  {
   "cell_type": "code",
   "execution_count": 26,
   "metadata": {},
   "outputs": [
    {
     "name": "stdout",
     "output_type": "stream",
     "text": [
      ">ND1\n"
     ]
    }
   ],
   "source": [
    "! head -1 data/part_1/mitochondrions_renamed/Canis_lupus_familiaris_renamed_mt_prot.fa"
   ]
  },
  {
   "cell_type": "markdown",
   "metadata": {},
   "source": [
    "Yep! That's just it!<br>\n",
    "But it is still not perfect...<br>\n",
    "Let's rename `>ND1` to `>species_ND1`<br>\n",
    "For that we need to install `BBMap`!"
   ]
  },
  {
   "cell_type": "markdown",
   "metadata": {},
   "source": [
    "### **Install `BBMap`**"
   ]
  },
  {
   "cell_type": "markdown",
   "metadata": {},
   "source": [
    "Download `.tar.gz` archive"
   ]
  },
  {
   "cell_type": "code",
   "execution_count": null,
   "metadata": {},
   "outputs": [],
   "source": [
    "! wget https://sourceforge.net/projects/bbmap/files/latest/download -O BBMap.tar.gz"
   ]
  },
  {
   "cell_type": "markdown",
   "metadata": {},
   "source": [
    "Unpack it"
   ]
  },
  {
   "cell_type": "code",
   "execution_count": null,
   "metadata": {},
   "outputs": [],
   "source": [
    "! tar -xvzf BBMap.tar.gz"
   ]
  },
  {
   "cell_type": "markdown",
   "metadata": {},
   "source": [
    "Delete the initial archive"
   ]
  },
  {
   "cell_type": "code",
   "execution_count": 19,
   "metadata": {},
   "outputs": [],
   "source": [
    "! rm -rf BBMap.tar.gz"
   ]
  },
  {
   "cell_type": "markdown",
   "metadata": {},
   "source": [
    "### **2nd seqs renaming**"
   ]
  },
  {
   "cell_type": "markdown",
   "metadata": {},
   "source": [
    "To store our final files let's create the `mitochondrions_renamed_final` directory"
   ]
  },
  {
   "cell_type": "code",
   "execution_count": 27,
   "metadata": {},
   "outputs": [],
   "source": [
    "! mkdir data/part_1/mitochondrions_renamed_final/"
   ]
  },
  {
   "cell_type": "markdown",
   "metadata": {},
   "source": [
    "Now we rename sequences from `>ND1` to `>species_ND1` (it works for every gene)<br>\n",
    "The `BBMap` tool will take species name from the file name (e.g. `Canis_lupus_familiaris_renamed_mt_prot.fa` = `Canis_lupus_familiaris`)"
   ]
  },
  {
   "cell_type": "code",
   "execution_count": null,
   "metadata": {},
   "outputs": [],
   "source": [
    "%%bash\n",
    "\n",
    "for file in data/part_1/mitochondrions_renamed/*mt_prot.fa\n",
    "do export species_name=$(basename $file _renamed_mt_prot.fa)\n",
    "bbmap/rename.sh in=$file prefix=\"$species_name\" addprefix=true out=data/part_1/mitochondrions_renamed_final/$species_name.mt_prots.fa ignorejunk=true ;\n",
    "done"
   ]
  },
  {
   "cell_type": "markdown",
   "metadata": {},
   "source": [
    "Now let's check `data/part_1/mitochondrions_renamed_final/` directory!"
   ]
  },
  {
   "cell_type": "code",
   "execution_count": 1,
   "metadata": {},
   "outputs": [
    {
     "name": "stdout",
     "output_type": "stream",
     "text": [
      "Canis_lupus_familiaris.mt_prots.fa  Mus_spretus.mt_prots.fa\n",
      "Equus_caballus.mt_prots.fa\t    Myotis_lucifugus.mt_prots.fa\n",
      "Felis_catus.mt_prots.fa\t\t    Ornithorhynchus_anatinus.mt_prots.fa\n",
      "Macaca_mulatta.mt_prots.fa\t    Ovis_aries.mt_prots.fa\n",
      "Marmota_marmota.mt_prots.fa\t    Physeter_catodon.mt_prots.fa\n",
      "Mus_musculus.mt_prots.fa\t    Vombatus_ursinus.mt_prots.fa\n"
     ]
    }
   ],
   "source": [
    "! ls data/part_1/mitochondrions_renamed_final/"
   ]
  },
  {
   "cell_type": "markdown",
   "metadata": {},
   "source": [
    "Yay! All the 12 files! Finally, let's check the sequences names!"
   ]
  },
  {
   "cell_type": "code",
   "execution_count": 29,
   "metadata": {},
   "outputs": [
    {
     "name": "stdout",
     "output_type": "stream",
     "text": [
      ">Canis_lupus_familiaris_ND1\n"
     ]
    }
   ],
   "source": [
    "! head -1 data/part_1/mitochondrions_renamed_final/Canis_lupus_familiaris.mt_prots.fa"
   ]
  },
  {
   "cell_type": "markdown",
   "metadata": {},
   "source": [
    "Just perfect! That's what we need!"
   ]
  },
  {
   "cell_type": "markdown",
   "metadata": {},
   "source": [
    "### **Phylogenomics on the mitochondrial proteins**"
   ]
  },
  {
   "cell_type": "markdown",
   "metadata": {},
   "source": [
    "For the 1st step let's create the directory where we will store `.txt` files with gene names and call it `gene_names`"
   ]
  },
  {
   "cell_type": "code",
   "execution_count": 30,
   "metadata": {},
   "outputs": [],
   "source": [
    "! mkdir data/part_1/gene_names/"
   ]
  },
  {
   "cell_type": "markdown",
   "metadata": {},
   "source": [
    "Now we will reconstruct the phylogeny 2 times:\n",
    "1. Only on `CYTB` protein\n",
    "2. On every protein"
   ]
  },
  {
   "cell_type": "markdown",
   "metadata": {},
   "source": [
    "### **CYTB phylogeny**"
   ]
  },
  {
   "cell_type": "markdown",
   "metadata": {},
   "source": [
    "Extract the `CYTB` gene names from each file we have<br>\n",
    "And write it to the `CYTB_names.txt` file"
   ]
  },
  {
   "cell_type": "code",
   "execution_count": 5,
   "metadata": {},
   "outputs": [],
   "source": [
    "! grep CYTB data/part_1/mitochondrions_renamed_final/*mt_prots.fa --no-filename | cut -c2- > data/part_1/gene_names/CYTB_names.txt"
   ]
  },
  {
   "cell_type": "markdown",
   "metadata": {},
   "source": [
    "Now let's chek the `CYTB_names.txt` file"
   ]
  },
  {
   "cell_type": "code",
   "execution_count": 32,
   "metadata": {},
   "outputs": [
    {
     "name": "stdout",
     "output_type": "stream",
     "text": [
      "Canis_lupus_familiaris_CYTB\n",
      "Equus_caballus_CYTB\n",
      "Felis_catus_CYTB\n",
      "Macaca_mulatta_CYTB\n",
      "Marmota_marmota_CYTB\n",
      "Mus_musculus_CYTB\n",
      "Mus_spretus_CYTB\n",
      "Myotis_lucifugus_CYTB\n",
      "Ornithorhynchus_anatinus_CYTB\n",
      "Ovis_aries_CYTB\n"
     ]
    }
   ],
   "source": [
    "! head -10 data/part_1/gene_names/CYTB_names.txt"
   ]
  },
  {
   "cell_type": "markdown",
   "metadata": {},
   "source": [
    "Excellent!\n",
    "Now let's extract `CYTB` sequences only!"
   ]
  },
  {
   "cell_type": "markdown",
   "metadata": {},
   "source": [
    "For that we will create a directory called `mt_genes` and there will be 2 sub-directories:\n",
    "1. `sep` - there will be stored 12 genes separately for each one of the species we are working with\n",
    "2. `merged` - there will be stored a merged `.fasta` file with 12 genes in 1 file"
   ]
  },
  {
   "cell_type": "code",
   "execution_count": 33,
   "metadata": {},
   "outputs": [],
   "source": [
    "! mkdir data/part_1/mt_genes/\n",
    "! mkdir data/part_1/mt_genes/sep/\n",
    "! mkdir data/part_1/mt_genes/merged/"
   ]
  },
  {
   "cell_type": "markdown",
   "metadata": {},
   "source": [
    "Now we extract `CYTB` gene sequences from the species mitochondrions using `BBMap` and previously created `CYTB_names.txt` file"
   ]
  },
  {
   "cell_type": "code",
   "execution_count": null,
   "metadata": {},
   "outputs": [],
   "source": [
    "%%bash\n",
    "\n",
    "for file in data/part_1/mitochondrions_renamed_final/*.mt_prots.fa\n",
    "do bbmap/filterbyname.sh in=$file out=data/part_1/mt_genes/sep/$(basename \"$file\" .mt_prots.fa).CYTB.aa.fa include=t names=data/part_1/gene_names/CYTB_names.txt overwrite=true ignorejunk=true\n",
    "done"
   ]
  },
  {
   "cell_type": "markdown",
   "metadata": {},
   "source": [
    "Merge 12 separate sequences to 1 `.fasta` file with 12 sequences!"
   ]
  },
  {
   "cell_type": "code",
   "execution_count": 37,
   "metadata": {},
   "outputs": [],
   "source": [
    "! cat data/part_1/mt_genes/sep/*CYTB.aa.fa > data/part_1/mt_genes/merged/CYTB.aa.fa"
   ]
  },
  {
   "cell_type": "markdown",
   "metadata": {},
   "source": [
    "Now let's align 12 `CYTB` gene sequences!<br>\n",
    "For that let's create the `mt_aligns` directory"
   ]
  },
  {
   "cell_type": "code",
   "execution_count": 38,
   "metadata": {},
   "outputs": [],
   "source": [
    "! mkdir data/part_1/mt_aligns/"
   ]
  },
  {
   "cell_type": "markdown",
   "metadata": {},
   "source": [
    "Now let's do the alignment with `MAFFT`"
   ]
  },
  {
   "cell_type": "code",
   "execution_count": null,
   "metadata": {},
   "outputs": [],
   "source": [
    "! mafft --auto data/part_1/mt_genes/merged/CYTB.aa.fa > data/part_1/mt_aligns/CYTB.aa.aln"
   ]
  },
  {
   "cell_type": "markdown",
   "metadata": {},
   "source": [
    "Done!<br>\n",
    "And the final step - phylogeny reconstruction with `IQ-TREE`!<br>\n",
    "For that let's create another directory to store tree files"
   ]
  },
  {
   "cell_type": "code",
   "execution_count": 40,
   "metadata": {},
   "outputs": [],
   "source": [
    "! mkdir data/part_1/CYTB_tree/"
   ]
  },
  {
   "cell_type": "markdown",
   "metadata": {},
   "source": [
    "Run the `IQ-TREE`!"
   ]
  },
  {
   "cell_type": "code",
   "execution_count": null,
   "metadata": {},
   "outputs": [],
   "source": [
    "! iqtree2 -s data/part_1/mt_aligns/CYTB.aa.aln --prefix data/part_1/CYTB_tree/CYTB -alrt 1000 -abayes -o Ornithorhynchus_anatinus_CYTB,Vombatus_ursinus_CYTB --redo"
   ]
  },
  {
   "cell_type": "markdown",
   "metadata": {},
   "source": [
    "Now let's make the directory to store all the images"
   ]
  },
  {
   "cell_type": "code",
   "execution_count": 47,
   "metadata": {},
   "outputs": [],
   "source": [
    "! mkdir imgs"
   ]
  },
  {
   "cell_type": "markdown",
   "metadata": {},
   "source": [
    "And finally let's visualize the tree with `ggtree` in `R`!"
   ]
  },
  {
   "cell_type": "code",
   "execution_count": null,
   "metadata": {},
   "outputs": [],
   "source": [
    "! Rscript scripts/draw_tree.R data/part_1/CYTB_tree/CYTB.treefile imgs/CYTB_tree.png"
   ]
  },
  {
   "cell_type": "markdown",
   "metadata": {},
   "source": [
    "Let's take a look at it:"
   ]
  },
  {
   "cell_type": "markdown",
   "metadata": {},
   "source": [
    "![alt text](imgs/CYTB_tree.png)"
   ]
  },
  {
   "cell_type": "markdown",
   "metadata": {},
   "source": [
    "Well... This is a total mess...<br>\n",
    "The bat is closer to the cat... The dog is almost a brother to the sheep...<br>\n",
    "What's wrong? We did the phylogeny using `CYTB` gene only!!! That's the problem. But how do we reconstruct the phylogeny with every mitochondrial gene?<br>\n",
    "Watch'n'learn..."
   ]
  },
  {
   "cell_type": "markdown",
   "metadata": {},
   "source": [
    "### **All mitochondrial genes phylogeny**"
   ]
  },
  {
   "cell_type": "markdown",
   "metadata": {},
   "source": [
    "We already have all the data we need in `mitochondrions_renamed_final` directory<br>\n",
    "We just need to repeat all the steps we did with `CYTB` gene but now using every other gene<br>\n",
    "We can do it manually, but it is BORING!<br>\n",
    "That's why let's take a look on `one_gene_tree.sh` script:"
   ]
  },
  {
   "cell_type": "code",
   "execution_count": 17,
   "metadata": {},
   "outputs": [
    {
     "name": "stdout",
     "output_type": "stream",
     "text": [
      "grep $gene$ data/part_1/mitochondrions_renamed_final/*mt_prots.fa --no-filename | cut -c2- > data/part_1/gene_names/$(basename \"$gene\")_names.txt\n",
      "for file in data/part_1/mitochondrions_renamed_final/*.mt_prots.fa; do bbmap/filterbyname.sh in=$file out=data/part_1/mt_genes/sep/$(basename \"$file\" .mt_prots.fa).$gene.aa.fa include=t names=data/part_1/gene_names/$gene_names.txt overwrite=true ignorejunk=true; done\n",
      "cat data/part_1/mt_genes/sep/*$gene.aa.fa > data/part_1/mt_genes/merged/$gene.aa.fa\n",
      "mafft --auto data/part_1/mt_genes/merged/$gene.aa.fa > data/part_1/mt_aligns/$gene.aa.aln\n"
     ]
    }
   ],
   "source": [
    "! cat scripts/one_gene_tree.sh"
   ]
  },
  {
   "cell_type": "markdown",
   "metadata": {},
   "source": [
    "It looks just perfect! It does all the steps from creating `$gene$_names.txt` file to aligning the seqs with `MAFFT`<br>\n",
    "Now let's launch this script with 12 other genes!"
   ]
  },
  {
   "cell_type": "markdown",
   "metadata": {},
   "source": [
    "**COX1 gene**"
   ]
  },
  {
   "cell_type": "code",
   "execution_count": null,
   "metadata": {},
   "outputs": [],
   "source": [
    "! export gene=COX1; scripts/one_gene_tree.sh"
   ]
  },
  {
   "cell_type": "markdown",
   "metadata": {},
   "source": [
    "**ND2 gene**"
   ]
  },
  {
   "cell_type": "code",
   "execution_count": null,
   "metadata": {},
   "outputs": [],
   "source": [
    "! export gene=ND2; scripts/one_gene_tree.sh"
   ]
  },
  {
   "cell_type": "markdown",
   "metadata": {},
   "source": [
    "**ND3 gene**"
   ]
  },
  {
   "cell_type": "code",
   "execution_count": null,
   "metadata": {},
   "outputs": [],
   "source": [
    "! export gene=ND3; scripts/one_gene_tree.sh"
   ]
  },
  {
   "cell_type": "markdown",
   "metadata": {},
   "source": [
    "**ND4 gene**"
   ]
  },
  {
   "cell_type": "code",
   "execution_count": null,
   "metadata": {},
   "outputs": [],
   "source": [
    "! export gene=ND4; scripts/one_gene_tree.sh"
   ]
  },
  {
   "cell_type": "markdown",
   "metadata": {},
   "source": [
    "**ND4L gene**"
   ]
  },
  {
   "cell_type": "code",
   "execution_count": null,
   "metadata": {},
   "outputs": [],
   "source": [
    "! export gene=ND4L; scripts/one_gene_tree.sh"
   ]
  },
  {
   "cell_type": "markdown",
   "metadata": {},
   "source": [
    "**ND5 gene**"
   ]
  },
  {
   "cell_type": "code",
   "execution_count": null,
   "metadata": {},
   "outputs": [],
   "source": [
    "! export gene=ND5; scripts/one_gene_tree.sh"
   ]
  },
  {
   "cell_type": "markdown",
   "metadata": {},
   "source": [
    "**ND6 gene**"
   ]
  },
  {
   "cell_type": "code",
   "execution_count": null,
   "metadata": {},
   "outputs": [],
   "source": [
    "! export gene=ND6; scripts/one_gene_tree.sh"
   ]
  },
  {
   "cell_type": "markdown",
   "metadata": {},
   "source": [
    "**COX2 gene**"
   ]
  },
  {
   "cell_type": "code",
   "execution_count": null,
   "metadata": {},
   "outputs": [],
   "source": [
    "! export gene=COX2; scripts/one_gene_tree.sh"
   ]
  },
  {
   "cell_type": "markdown",
   "metadata": {},
   "source": [
    "**COX3 gene**"
   ]
  },
  {
   "cell_type": "code",
   "execution_count": null,
   "metadata": {},
   "outputs": [],
   "source": [
    "! export gene=COX3; scripts/one_gene_tree.sh"
   ]
  },
  {
   "cell_type": "markdown",
   "metadata": {},
   "source": [
    "**ATP6 gene**"
   ]
  },
  {
   "cell_type": "code",
   "execution_count": null,
   "metadata": {},
   "outputs": [],
   "source": [
    "! export gene=ATP6; scripts/one_gene_tree.sh"
   ]
  },
  {
   "cell_type": "markdown",
   "metadata": {},
   "source": [
    "**ATP8 gene**"
   ]
  },
  {
   "cell_type": "code",
   "execution_count": null,
   "metadata": {},
   "outputs": [],
   "source": [
    "! export gene=ATP8; scripts/one_gene_tree.sh"
   ]
  },
  {
   "cell_type": "markdown",
   "metadata": {},
   "source": [
    "**ND1 gene**"
   ]
  },
  {
   "cell_type": "code",
   "execution_count": null,
   "metadata": {},
   "outputs": [],
   "source": [
    "! export gene=ND1; scripts/one_gene_tree.sh"
   ]
  },
  {
   "cell_type": "markdown",
   "metadata": {},
   "source": [
    "Perfect! Now let's check how did the script work. Let's check the `mt_aligns` directory"
   ]
  },
  {
   "cell_type": "code",
   "execution_count": 18,
   "metadata": {},
   "outputs": [
    {
     "name": "stdout",
     "output_type": "stream",
     "text": [
      "ATP6.aa.aln  COX2.aa.aln  ND1.aa.aln  ND4.aa.aln   ND6.aa.aln\n",
      "ATP8.aa.aln  COX3.aa.aln  ND2.aa.aln  ND4L.aa.aln\n",
      "COX1.aa.aln  CYTB.aa.aln  ND3.aa.aln  ND5.aa.aln\n"
     ]
    }
   ],
   "source": [
    "! ls data/part_1/mt_aligns/"
   ]
  },
  {
   "cell_type": "markdown",
   "metadata": {},
   "source": [
    "Yay! There are 13 alignments! But we cannot lauch `IQ-TREE` right now... Because:"
   ]
  },
  {
   "cell_type": "code",
   "execution_count": 36,
   "metadata": {},
   "outputs": [
    {
     "name": "stdout",
     "output_type": "stream",
     "text": [
      ">Canis_lupus_familiaris_ATP6\n"
     ]
    }
   ],
   "source": [
    "! head -1 data/part_1/mt_aligns/ATP6.aa.aln"
   ]
  },
  {
   "cell_type": "code",
   "execution_count": 33,
   "metadata": {},
   "outputs": [
    {
     "name": "stdout",
     "output_type": "stream",
     "text": [
      ">Canis_lupus_familiaris_ND6\n"
     ]
    }
   ],
   "source": [
    "! head -1 data/part_1/mt_aligns/ND6.aa.aln"
   ]
  },
  {
   "cell_type": "markdown",
   "metadata": {},
   "source": [
    "Because organisms names are not uniform! In `ATP6.aa.aln` file _Canis lupus familiaris_ is called `Canis_lupus_familiaris_ATP6` and in `ND6.aa.aln` file it is called `Canis_lupus_familiaris_ND6`! We need to make it `Canis_lupus` everywhere!"
   ]
  },
  {
   "cell_type": "markdown",
   "metadata": {},
   "source": [
    "For that let's make a directory where we will store renamed alignments"
   ]
  },
  {
   "cell_type": "code",
   "execution_count": 58,
   "metadata": {},
   "outputs": [],
   "source": [
    "! mkdir data/part_1/mt_aligns_renamed/"
   ]
  },
  {
   "cell_type": "markdown",
   "metadata": {},
   "source": [
    "And now let's just rename them!"
   ]
  },
  {
   "cell_type": "code",
   "execution_count": 60,
   "metadata": {},
   "outputs": [],
   "source": [
    "! for file in data/part_1/mt_aligns/*aln; do cut -d_ -f1,2 $file > data/part_1/mt_aligns_renamed/$(basename \"$file\" .aa.aln)_renamed.aa.aln; done"
   ]
  },
  {
   "cell_type": "code",
   "execution_count": 34,
   "metadata": {},
   "outputs": [
    {
     "name": "stdout",
     "output_type": "stream",
     "text": [
      ">Canis_lupus\n"
     ]
    }
   ],
   "source": [
    "! head -1 data/part_1/mt_aligns_renamed/ATP6_renamed.aa.aln"
   ]
  },
  {
   "cell_type": "code",
   "execution_count": 37,
   "metadata": {},
   "outputs": [
    {
     "name": "stdout",
     "output_type": "stream",
     "text": [
      ">Canis_lupus\n"
     ]
    }
   ],
   "source": [
    "! head -1 data/part_1/mt_aligns_renamed/ND6_renamed.aa.aln"
   ]
  },
  {
   "cell_type": "markdown",
   "metadata": {},
   "source": [
    "That's it! It is a perfect input to `IQ-TREE`!<br>\n",
    "So we are ready to run it<bt>\n",
    "But first let's make a directory for that tree"
   ]
  },
  {
   "cell_type": "code",
   "execution_count": 61,
   "metadata": {},
   "outputs": [],
   "source": [
    "! mkdir data/part_1/mt_tree/"
   ]
  },
  {
   "cell_type": "markdown",
   "metadata": {},
   "source": [
    "Run the `IQ-TREE`!"
   ]
  },
  {
   "cell_type": "code",
   "execution_count": null,
   "metadata": {},
   "outputs": [],
   "source": [
    "! iqtree2 -s data/part_1/mt_aligns_renamed --prefix data/part_1/mt_tree/mt_tree -alrt 1000 -abayes -o Ornithorhynchus_anatinus,Vombatus_ursinus --redo"
   ]
  },
  {
   "cell_type": "markdown",
   "metadata": {},
   "source": [
    "And finally let's visualize the tree with `ggtree` in `R`!"
   ]
  },
  {
   "cell_type": "code",
   "execution_count": null,
   "metadata": {},
   "outputs": [],
   "source": [
    "! Rscript scripts/draw_tree.R data/part_1/mt_tree/mt_tree.treefile imgs/mt_proteins_alns_tree.png"
   ]
  },
  {
   "cell_type": "markdown",
   "metadata": {},
   "source": [
    "Let's take a look at it:"
   ]
  },
  {
   "cell_type": "markdown",
   "metadata": {},
   "source": [
    "![alt text](imgs/mt_proteins_alns_tree.png)"
   ]
  },
  {
   "cell_type": "markdown",
   "metadata": {},
   "source": [
    "It is sooo much better now!!! _Canis lupus_ and _Felis catus_ are on the same clade!<br>\n",
    "But still there are some strange moments... What is wrong with _Macaca mulata_...? It can be explained by the fact that we were working with mitochondrial genes. It is not the perfect material to work with. In the 2nd part of this manual we will work with proteomes!"
   ]
  },
  {
   "cell_type": "markdown",
   "metadata": {},
   "source": [
    "## **Part 2. Phylogeny of selected mammalian species based on proteomes.**"
   ]
  },
  {
   "cell_type": "markdown",
   "metadata": {},
   "source": [
    ">**Objective**: construct a phylogeny for 13 proteomes"
   ]
  },
  {
   "cell_type": "markdown",
   "metadata": {},
   "source": [
    "### **Preparation**"
   ]
  },
  {
   "cell_type": "markdown",
   "metadata": {},
   "source": [
    "First we create the directories to store the data<br>\n",
    "It is the 2nd part of `Phylogenomics` manual, that's why we will store proteomes data to the `part_2` directory"
   ]
  },
  {
   "cell_type": "code",
   "execution_count": 64,
   "metadata": {},
   "outputs": [],
   "source": [
    "! mkdir data/part_2/"
   ]
  },
  {
   "cell_type": "markdown",
   "metadata": {},
   "source": [
    "Now create `proteomes` directory to store exactly the data we will be working with"
   ]
  },
  {
   "cell_type": "code",
   "execution_count": null,
   "metadata": {},
   "outputs": [],
   "source": [
    "! mkdir data/part_2/proteomes/"
   ]
  },
  {
   "cell_type": "markdown",
   "metadata": {},
   "source": [
    "### **Downloading the data**"
   ]
  },
  {
   "cell_type": "markdown",
   "metadata": {},
   "source": [
    "Download _Physeter catodon_ proteome"
   ]
  },
  {
   "cell_type": "code",
   "execution_count": null,
   "metadata": {},
   "outputs": [],
   "source": [
    "! wget https://ftp.ensembl.org/pub/release-110/fasta/physeter_catodon/pep/Physeter_catodon.ASM283717v2.pep.all.fa.gz -P data/part_2/proteomes/"
   ]
  },
  {
   "cell_type": "markdown",
   "metadata": {},
   "source": [
    "Download _Ovis aries_ proteome"
   ]
  },
  {
   "cell_type": "code",
   "execution_count": null,
   "metadata": {},
   "outputs": [],
   "source": [
    "! wget https://ftp.ensembl.org/pub/release-110/fasta/ovis_aries_rambouillet/pep/Ovis_aries_rambouillet.Oar_rambouillet_v1.0.pep.all.fa.gz -P data/part_2/proteomes/"
   ]
  },
  {
   "cell_type": "markdown",
   "metadata": {},
   "source": [
    "Download _Equus caballus_ proteome"
   ]
  },
  {
   "cell_type": "code",
   "execution_count": null,
   "metadata": {},
   "outputs": [],
   "source": [
    "! wget https://ftp.ensembl.org/pub/release-110/fasta/equus_caballus/pep/Equus_caballus.EquCab3.0.pep.all.fa.gz -P data/part_2/proteomes/"
   ]
  },
  {
   "cell_type": "markdown",
   "metadata": {},
   "source": [
    "Download _Felis catus_ proteome"
   ]
  },
  {
   "cell_type": "code",
   "execution_count": null,
   "metadata": {},
   "outputs": [],
   "source": [
    "! wget https://ftp.ensembl.org/pub/release-110/fasta/felis_catus/pep/Felis_catus.Felis_catus_9.0.pep.all.fa.gz -P data/part_2/proteomes/"
   ]
  },
  {
   "cell_type": "markdown",
   "metadata": {},
   "source": [
    "Download _Canis lupus familiaris_ proteome"
   ]
  },
  {
   "cell_type": "code",
   "execution_count": null,
   "metadata": {},
   "outputs": [],
   "source": [
    "! wget https://ftp.ensembl.org/pub/release-110/fasta/canis_lupus_familiaris/pep/Canis_lupus_familiaris.ROS_Cfam_1.0.pep.all.fa.gz -P data/part_2/proteomes/"
   ]
  },
  {
   "cell_type": "markdown",
   "metadata": {},
   "source": [
    "Download _Myotis lucifugus_ proteome"
   ]
  },
  {
   "cell_type": "code",
   "execution_count": null,
   "metadata": {},
   "outputs": [],
   "source": [
    "! wget https://ftp.ensembl.org/pub/release-110/fasta/myotis_lucifugus/pep/Myotis_lucifugus.Myoluc2.0.pep.all.fa.gz -P data/part_2/proteomes/"
   ]
  },
  {
   "cell_type": "markdown",
   "metadata": {},
   "source": [
    "Download _Mus spretus_ proteome"
   ]
  },
  {
   "cell_type": "code",
   "execution_count": null,
   "metadata": {},
   "outputs": [],
   "source": [
    "! wget https://ftp.ensembl.org/pub/release-110/fasta/mus_spretus/pep/Mus_spretus.SPRET_EiJ_v1.pep.all.fa.gz -P data/part_2/proteomes/"
   ]
  },
  {
   "cell_type": "markdown",
   "metadata": {},
   "source": [
    "Download _Mus musculus_ proteome"
   ]
  },
  {
   "cell_type": "code",
   "execution_count": null,
   "metadata": {},
   "outputs": [],
   "source": [
    "! wget https://ftp.ensembl.org/pub/release-110/fasta/mus_musculus/pep/Mus_musculus.GRCm39.pep.all.fa.gz -P data/part_2/proteomes/"
   ]
  },
  {
   "cell_type": "markdown",
   "metadata": {},
   "source": [
    "Download _Marmota marmota_ proteome"
   ]
  },
  {
   "cell_type": "code",
   "execution_count": null,
   "metadata": {},
   "outputs": [],
   "source": [
    "! wget https://ftp.ensembl.org/pub/release-110/fasta/marmota_marmota_marmota/pep/Marmota_marmota_marmota.marMar2.1.pep.all.fa.gz -P data/part_2/proteomes/"
   ]
  },
  {
   "cell_type": "markdown",
   "metadata": {},
   "source": [
    "Download _Macaca mulatta_ proteome"
   ]
  },
  {
   "cell_type": "code",
   "execution_count": null,
   "metadata": {},
   "outputs": [],
   "source": [
    "! wget https://ftp.ensembl.org/pub/release-110/fasta/macaca_mulatta/pep/Macaca_mulatta.Mmul_10.pep.all.fa.gz -P data/part_2/proteomes/"
   ]
  },
  {
   "cell_type": "markdown",
   "metadata": {},
   "source": [
    "Download _Ornithorhynchus anatinus_ proteome"
   ]
  },
  {
   "cell_type": "code",
   "execution_count": null,
   "metadata": {},
   "outputs": [],
   "source": [
    "! wget https://ftp.ensembl.org/pub/release-110/fasta/ornithorhynchus_anatinus/pep/Ornithorhynchus_anatinus.mOrnAna1.p.v1.pep.all.fa.gz -P data/part_2/proteomes/"
   ]
  },
  {
   "cell_type": "markdown",
   "metadata": {},
   "source": [
    "Download _Vombatus ursinus_ proteome"
   ]
  },
  {
   "cell_type": "code",
   "execution_count": null,
   "metadata": {},
   "outputs": [],
   "source": [
    "! wget https://ftp.ensembl.org/pub/release-110/fasta/vombatus_ursinus/pep/Vombatus_ursinus.bare-nosed_wombat_genome_assembly.pep.all.fa.gz -P data/part_2/proteomes/"
   ]
  },
  {
   "cell_type": "markdown",
   "metadata": {},
   "source": [
    "Now let's unzip the downloaded data"
   ]
  },
  {
   "cell_type": "code",
   "execution_count": 78,
   "metadata": {},
   "outputs": [],
   "source": [
    "! gunzip data/part_2/proteomes/*fa.gz"
   ]
  },
  {
   "cell_type": "markdown",
   "metadata": {},
   "source": [
    "Now let's check the `data/part_2/proteomes/` directory!"
   ]
  },
  {
   "cell_type": "code",
   "execution_count": 1,
   "metadata": {},
   "outputs": [
    {
     "name": "stdout",
     "output_type": "stream",
     "text": [
      "Canis_lupus_familiaris.ROS_Cfam_1.0.pep.all.fa\n",
      "Equus_caballus.EquCab3.0.pep.all.fa\n",
      "Felis_catus.Felis_catus_9.0.pep.all.fa\n",
      "Macaca_mulatta.Mmul_10.pep.all.fa\n",
      "Marmota_marmota_marmota.marMar2.1.pep.all.fa\n",
      "Mus_musculus.GRCm39.pep.all.fa\n",
      "Mus_spretus.SPRET_EiJ_v1.pep.all.fa\n",
      "Myotis_lucifugus.Myoluc2.0.pep.all.fa\n",
      "Ornithorhynchus_anatinus.mOrnAna1.p.v1.pep.all.fa\n",
      "Ovis_aries_rambouillet.Oar_rambouillet_v1.0.pep.all.fa\n",
      "Physeter_catodon.ASM283717v2.pep.all.fa\n",
      "Vombatus_ursinus.bare-nosed_wombat_genome_assembly.pep.all.fa\n"
     ]
    }
   ],
   "source": [
    "! ls data/part_2/proteomes/"
   ]
  },
  {
   "cell_type": "markdown",
   "metadata": {},
   "source": [
    "All right! We have all the data we need to work with, but...<br>\n",
    "Let's take a look at how the sequences are named in these files"
   ]
  },
  {
   "cell_type": "code",
   "execution_count": 79,
   "metadata": {},
   "outputs": [
    {
     "name": "stdout",
     "output_type": "stream",
     "text": [
      ">ENSCAFP00845002002.1 pep primary_assembly:ROS_Cfam_1.0:8:2544435:2544737:1 gene:ENSCAFG00845001473.1 transcript:ENSCAFT00845002518.1 gene_biotype:TR_V_gene transcript_biotype:TR_V_gene\n"
     ]
    }
   ],
   "source": [
    "! head -1 data/part_2/proteomes/Canis_lupus_familiaris.ROS_Cfam_1.0.pep.all.fa"
   ]
  },
  {
   "cell_type": "markdown",
   "metadata": {},
   "source": [
    "Total mess!<br>\n",
    "Yes, there are a lot of information, but any tool will complain that this is too much! We need to rename the sequences!<br>\n",
    "For that let's create another directory called `proteomes_renamed`"
   ]
  },
  {
   "cell_type": "markdown",
   "metadata": {},
   "source": [
    "### **1st seqs renaming**"
   ]
  },
  {
   "cell_type": "code",
   "execution_count": 80,
   "metadata": {},
   "outputs": [],
   "source": [
    "! mkdir data/part_2/proteomes_renamed/"
   ]
  },
  {
   "cell_type": "markdown",
   "metadata": {},
   "source": [
    "Now let's rename `>ENSCAFP00845002002.1 pep primary_assembly...` to just `>ENSCAFP00845002002.1` and store renamed files in another directory (`data/part_2/proteomes_renamed/`)\n",
    "\n",
    ">**Note**: What is `ENSCAFP00845002002.1`? It is _Canis lupus familiaris_. Do not ask questions. It is."
   ]
  },
  {
   "cell_type": "code",
   "execution_count": 81,
   "metadata": {},
   "outputs": [],
   "source": [
    "! for file in data/part_2/proteomes/*fa; do sed -e's/\\ .*//' $file > data/part_2/proteomes_renamed/$(basename \"$file\" .pep.all.fa)_renamed.pep.all.fa; done"
   ]
  },
  {
   "cell_type": "markdown",
   "metadata": {},
   "source": [
    "Let's check `proteomes_renamed` directory!"
   ]
  },
  {
   "cell_type": "code",
   "execution_count": 2,
   "metadata": {},
   "outputs": [
    {
     "name": "stdout",
     "output_type": "stream",
     "text": [
      "Canis_lupus_familiaris.ROS_Cfam_1.0_renamed.pep.all.fa\n",
      "Equus_caballus.EquCab3.0_renamed.pep.all.fa\n",
      "Felis_catus.Felis_catus_9.0_renamed.pep.all.fa\n",
      "Macaca_mulatta.Mmul_10_renamed.pep.all.fa\n",
      "Marmota_marmota_marmota.marMar2.1_renamed.pep.all.fa\n",
      "Mus_musculus.GRCm39_renamed.pep.all.fa\n",
      "Mus_spretus.SPRET_EiJ_v1_renamed.pep.all.fa\n",
      "Myotis_lucifugus.Myoluc2.0_renamed.pep.all.fa\n",
      "Ornithorhynchus_anatinus.mOrnAna1.p.v1_renamed.pep.all.fa\n",
      "Ovis_aries_rambouillet.Oar_rambouillet_v1.0_renamed.pep.all.fa\n",
      "Physeter_catodon.ASM283717v2_renamed.pep.all.fa\n",
      "Vombatus_ursinus.bare-nosed_wombat_genome_assembly_renamed.pep.all.fa\n"
     ]
    }
   ],
   "source": [
    "! ls data/part_2/proteomes_renamed/"
   ]
  },
  {
   "cell_type": "markdown",
   "metadata": {},
   "source": [
    "Hooray! we have all 12 files with renamed sequences!<br>\n",
    "Anyway let's check that we did everything fine..."
   ]
  },
  {
   "cell_type": "code",
   "execution_count": 82,
   "metadata": {},
   "outputs": [
    {
     "name": "stdout",
     "output_type": "stream",
     "text": [
      ">ENSCAFP00845002002.1\n"
     ]
    }
   ],
   "source": [
    "! head -1 data/part_2/proteomes_renamed/Canis_lupus_familiaris.ROS_Cfam_1.0_renamed.pep.all.fa"
   ]
  },
  {
   "cell_type": "markdown",
   "metadata": {},
   "source": [
    "Yep! That's just it!<br>\n",
    "But it is still not perfect...<br>\n",
    "In proteomes from `ensembl` there are some `*` symbols<br>\n",
    "Further we will use `proteinortho`and it will crash with error if it sees `*`<br>\n",
    "That's why let's remove `*`'s!"
   ]
  },
  {
   "cell_type": "markdown",
   "metadata": {},
   "source": [
    "### **2nd seqs renaming**"
   ]
  },
  {
   "cell_type": "markdown",
   "metadata": {},
   "source": [
    "To store our final files let's create the `proteomes_renamed_final` directory"
   ]
  },
  {
   "cell_type": "code",
   "execution_count": 83,
   "metadata": {},
   "outputs": [],
   "source": [
    "! mkdir data/part_2/proteomes_renamed_final/"
   ]
  },
  {
   "cell_type": "markdown",
   "metadata": {},
   "source": [
    "Now we remove ALL the `*`'s from every single file"
   ]
  },
  {
   "cell_type": "code",
   "execution_count": 84,
   "metadata": {},
   "outputs": [],
   "source": [
    "! for file in data/part_2/proteomes_renamed/*fa; do cat $file | sed -e's/\\*//g' > data/part_2/proteomes_renamed_final/$(basename \"$file\" _renamed.pep.all.fa)_final.pep.all.fa; done"
   ]
  },
  {
   "cell_type": "markdown",
   "metadata": {},
   "source": [
    "### **`Proteinortho`: Finding orthologs**"
   ]
  },
  {
   "cell_type": "markdown",
   "metadata": {},
   "source": [
    ">**Note**: if you want to use ANY tool to work with orthologs I stringly recommend to use `DIAMOND` v2.0.9<br>\n",
    ">**Reason**: https://github.com/davidemms/OrthoFinder/issues/603"
   ]
  },
  {
   "cell_type": "markdown",
   "metadata": {},
   "source": [
    "Launch `Proteinortho`"
   ]
  },
  {
   "cell_type": "code",
   "execution_count": null,
   "metadata": {},
   "outputs": [],
   "source": [
    "! proteinortho data/part_2/proteomes_renamed_final/*.fa -cpus=24"
   ]
  },
  {
   "cell_type": "markdown",
   "metadata": {},
   "source": [
    "Unfortunatelly, `Proteinortho` does not let you to redirect output to any directory you want...<br>\n",
    "That's why let's move the files ourselves!<br>\n",
    "For that first let's create a directory - `protein_ortho_output`"
   ]
  },
  {
   "cell_type": "code",
   "execution_count": 86,
   "metadata": {},
   "outputs": [],
   "source": [
    "! mkdir data/part_2/protein_ortho_output/"
   ]
  },
  {
   "cell_type": "markdown",
   "metadata": {},
   "source": [
    "Then let's just move any `myproject*` file to `protein_ortho_output` directory"
   ]
  },
  {
   "cell_type": "code",
   "execution_count": 87,
   "metadata": {},
   "outputs": [],
   "source": [
    "! mv myproject* data/part_2/protein_ortho_output/"
   ]
  },
  {
   "cell_type": "markdown",
   "metadata": {},
   "source": [
    "So, `myproject.proteinortho.tsv` file there are a lot of entries on any ortholog. But how many Single-Copy Orthologs are there?"
   ]
  },
  {
   "cell_type": "code",
   "execution_count": 88,
   "metadata": {},
   "outputs": [
    {
     "name": "stdout",
     "output_type": "stream",
     "text": [
      "625\n"
     ]
    }
   ],
   "source": [
    "! grep -v  \\* data/part_2/protein_ortho_output/myproject.proteinortho.tsv  | grep -v -c \",\" "
   ]
  },
  {
   "cell_type": "markdown",
   "metadata": {},
   "source": [
    "Okay. That's good. Now, let's filter that `.tsv` file to store only them (Single-Copy Orthologs)"
   ]
  },
  {
   "cell_type": "code",
   "execution_count": 1,
   "metadata": {},
   "outputs": [],
   "source": [
    "! grep -v  \\* data/part_2/protein_ortho_output/myproject.proteinortho.tsv  | grep -v \",\" > data/part_2/protein_ortho_output/myproject.proteinortho.filt.tsv"
   ]
  },
  {
   "cell_type": "markdown",
   "metadata": {},
   "source": [
    "Okay. Okay. Okay. We have a `.tsv` file with info on Single-Copy Orthologs. How do we extract their sequences?<br>"
   ]
  },
  {
   "cell_type": "markdown",
   "metadata": {},
   "source": [
    "### **Getting orthologs names**"
   ]
  },
  {
   "cell_type": "markdown",
   "metadata": {},
   "source": [
    "Meet the `write_family_names.R` script!"
   ]
  },
  {
   "cell_type": "code",
   "execution_count": 92,
   "metadata": {},
   "outputs": [
    {
     "name": "stdout",
     "output_type": "stream",
     "text": [
      "#!/usr/bin/env Rscript\n",
      "args <- commandArgs(trailingOnly=TRUE)\n",
      "\n",
      "# Read the proteinortho table\n",
      "onetoone <- read.delim(args[1])\n",
      "\n",
      "  # Create directory to store SCOs\n",
      "  dir.create(args[2]) #e.g. data/SCOs\n",
      "\n",
      "  # Write name lists to later extract\n",
      "   for (i in 4:ncol(onetoone)) {\n",
      "   writeLines(onetoone[,i], paste0(args[2], names(onetoone[i]), \".names.txt\"))\n",
      "   }\n",
      "   dir.create(args[3])  \n",
      "   # And gene lists grouped by families\n",
      "   for (i in 1:nrow(onetoone)) {\n",
      "   oo <- as.matrix(onetoone)\n",
      "   writeLines(oo[i, 4:ncol(onetoone)], paste0(args[3], \"family\", as.character(i), \".names.txt\"))\n",
      "   }"
     ]
    }
   ],
   "source": [
    "! cat scripts/write_family_names.R"
   ]
  },
  {
   "cell_type": "markdown",
   "metadata": {},
   "source": [
    "So, this script needs 3 inputs:\n",
    "1. `.tsv` file with info on Single-Copy Orthologs (SCOs)\n",
    "2. Path to directory where to store names of the SCOs in `.txt` format\n",
    "3. Path to directory where to store names of all the protein families in `.txt` format"
   ]
  },
  {
   "cell_type": "markdown",
   "metadata": {},
   "source": [
    "Run the script!"
   ]
  },
  {
   "cell_type": "code",
   "execution_count": null,
   "metadata": {},
   "outputs": [],
   "source": [
    "! Rscript scripts/write_family_names.R data/part_2/protein_ortho_output/myproject.proteinortho.filt.tsv data/part_2/SCOs/ data/part_2/families_tree/"
   ]
  },
  {
   "cell_type": "markdown",
   "metadata": {},
   "source": [
    "Now let's take a look on some of the outputs"
   ]
  },
  {
   "cell_type": "code",
   "execution_count": 4,
   "metadata": {},
   "outputs": [
    {
     "name": "stdout",
     "output_type": "stream",
     "text": [
      "ENSCAFP00845000007.1\n",
      "ENSCAFP00845000060.1\n",
      "ENSCAFP00845000100.1\n",
      "ENSCAFP00845000116.1\n",
      "ENSCAFP00845000148.1\n",
      "ENSCAFP00845000229.1\n",
      "ENSCAFP00845000280.1\n",
      "ENSCAFP00845000290.1\n",
      "ENSCAFP00845000294.1\n",
      "ENSCAFP00845000434.1\n"
     ]
    }
   ],
   "source": [
    "! head -10 data/part_2/SCOs/Canis_lupus_familiaris.ROS_Cfam_1.0.pep.all.fa.clean.fa.faa.names.txt"
   ]
  },
  {
   "cell_type": "markdown",
   "metadata": {},
   "source": [
    "So, in the `Canis_lupus_familiaris.ROS_Cfam_1.0.pep.all.fa.clean.fa.faa.names.txt` file there are names of SCOs that belong to _Canis lupus familiaris_"
   ]
  },
  {
   "cell_type": "code",
   "execution_count": 3,
   "metadata": {},
   "outputs": [
    {
     "name": "stdout",
     "output_type": "stream",
     "text": [
      "ENSCAFP00845000007.1\n",
      "ENSECAP00000004501.1\n",
      "ENSFCAP00000010065.4\n",
      "ENSMMUP00000023901.1\n",
      "ENSMMMP00000018299.1\n",
      "ENSMUSP00000019920.7\n",
      "MGP_SPRETEiJ_P0023739\n",
      "ENSMLUP00000008174.2\n",
      "ENSOANP00000021746.2\n",
      "ENSOARP00020026787.1\n"
     ]
    }
   ],
   "source": [
    "! head -10 data/part_2/families_tree/family1.names.txt"
   ]
  },
  {
   "cell_type": "markdown",
   "metadata": {},
   "source": [
    "And in the `family1.names.txt` there are names of the orthologs that belong to one family"
   ]
  },
  {
   "cell_type": "markdown",
   "metadata": {},
   "source": [
    "### **Extracting orthologs**"
   ]
  },
  {
   "cell_type": "markdown",
   "metadata": {},
   "source": [
    "Remember the `proteomes_renamed_final` directory?<br>\n",
    "There are proteomes with all the filtration done<br>\n",
    "Now let's merge all the proteomes to ONE `.fasta` file<br>\n",
    "Yeah, now there a lot of files from `Proteinortho` launch<br>\n",
    "But we will take only `.fasta` files as the input!"
   ]
  },
  {
   "cell_type": "code",
   "execution_count": 91,
   "metadata": {},
   "outputs": [],
   "source": [
    "! cat data/part_2/proteomes_renamed_final/*.fa > data/part_2/all_pep.fa"
   ]
  },
  {
   "cell_type": "markdown",
   "metadata": {},
   "source": [
    "Now we will extract the sequences of SCOs<br>\n",
    "Where to store them? Good question. Make a directory named `families_seqs`"
   ]
  },
  {
   "cell_type": "code",
   "execution_count": 93,
   "metadata": {},
   "outputs": [],
   "source": [
    "! mkdir data/part_2/families_seqs/"
   ]
  },
  {
   "cell_type": "markdown",
   "metadata": {},
   "source": [
    "Now we will use `BBMap` (it was installed during the 1st part of this manual)<br>\n",
    "As the input we will provide:\n",
    "1. `all_pep.fa` - all 12 proteomes merged\n",
    "2. `data/part_2/families_tree/family*txt` - list of SCOs names that belong to one family<br>\n",
    "\n",
    "As the output we will get:\n",
    "1. `data/part_2/families_seqs/family*.seq.fa` - `.fasta` file with the sequences of SCOs that belong to one family"
   ]
  },
  {
   "cell_type": "code",
   "execution_count": null,
   "metadata": {},
   "outputs": [],
   "source": [
    "%%bash\n",
    "\n",
    "for list in data/part_2/families_tree/family*txt\n",
    "do bbmap/filterbyname.sh in=data/part_2/all_pep.fa out=data/part_2/families_seqs/$(basename \"$list\" .names.txt).seq.fa include=t names=$list overwrite=true ignorejunk=true\n",
    "done"
   ]
  },
  {
   "cell_type": "markdown",
   "metadata": {},
   "source": [
    "Let's check the output"
   ]
  },
  {
   "cell_type": "code",
   "execution_count": 96,
   "metadata": {},
   "outputs": [
    {
     "name": "stdout",
     "output_type": "stream",
     "text": [
      ">ENSCAFP00845000007.1\n",
      "MTHLQAGLSPETLEKARLELNENPDTLHQDIQEVRDMVITRPDIGFLRTDDAFILRFLRARKFHHFEAFR\n",
      "LLAQYFEYRQQNLDMFKSFKATDPGIKQALKDGFPGGLANLDHYGRKILVLFAANWDQSRYTLVDILRAI\n",
      "LLSLEAMIEDPELQVNGFVLIIDWSNFTFKQASKLTPSMLRLAIEGLQDSFPARFGGIHFVNQPWYIHAL\n",
      "YTVIRPFLKEKTRKRIFLHGNNLNSLHQLIHPEILPSEFGGMLPPYDMGTWARTLLDHEYDDDSEYNVDS\n",
      "YSMPVKEVEKELSPKSMKRSQSVVDPTVLKRMDKNEEENMQPLLSLD\n",
      ">ENSECAP00000004501.1\n",
      "MTHLQAGLSPETLEKARLELNENPDTLHQDIQEVRDMVITRPDIGFLRTDDAFILRFLRARKFHHFEAFR\n",
      "LLAQYFEYRQQNLDMFKSFKATDPGIKQALKDGFPGGLANLDHYGRKILVLFAANWDQSRYTLVDILRAI\n",
      "LLSLEAMIEDPELQVNGFVLIIDWSNFTFKQASKLTPSMLRLAIEGLQDSFPARFGGIHFVNQPWYIHAL\n"
     ]
    }
   ],
   "source": [
    "! head -10 data/part_2/families_seqs/family1.seq.fa"
   ]
  },
  {
   "cell_type": "markdown",
   "metadata": {},
   "source": [
    "Hooray!!!<bt>\n",
    "But... Are we good with sequences names like `>ENSCAFP00845000007.1`?<br>\n",
    "Of course not!<br>\n",
    "Let's rename the sequences (in every 600+ files...)"
   ]
  },
  {
   "cell_type": "markdown",
   "metadata": {},
   "source": [
    "For that we need to create a directory to store renamed sequences and call it `families_seqs_renamed`"
   ]
  },
  {
   "cell_type": "code",
   "execution_count": null,
   "metadata": {},
   "outputs": [],
   "source": [
    "! mkdir data/part_2/families_seqs_renamed/"
   ]
  },
  {
   "cell_type": "markdown",
   "metadata": {},
   "source": [
    "Simple `bash` script using `sed` to rename `>ENSCAFP00845000007.1` to `>Canis_lupus_familiaris` etc."
   ]
  },
  {
   "cell_type": "code",
   "execution_count": 98,
   "metadata": {},
   "outputs": [],
   "source": [
    "%%bash\n",
    "\n",
    "for file in data/part_2/families_seqs/*fa\n",
    "do sed -e 's/ENSCAFP.*/Canis_lupus_familiaris/' $file | sed -e 's/ENSECAP.*/Equus_caballus/' | sed -e 's/ENSFCAP.*/Felis_catus/' | sed -e 's/ENSMMUP.*/Macaca_mulatta/' | sed -e 's/ENSMMMP.*/Marmota_marmota/' | sed -e 's/ENSMUSP.*/Mus_musculus/' | sed -e 's/MGP_SPRETEiJ.*/Mus_spretus/' | sed -e 's/ENSMLUP.*/Myotis_lucifugus/' | sed -e 's/ENSOANP.*/Ornithorhynchus_anatinus/' | sed -e 's/ENSOARP.*/Ovis_aries/' | sed -e 's/ENSPCTP.*/Physeter_catodon/' | sed -e 's/ENSVURP.*/Vombatus_ursinus/' > data/part_2/families_seqs_renamed/$(basename \"$file\" .seq.fa).seq\n",
    "done"
   ]
  },
  {
   "cell_type": "markdown",
   "metadata": {},
   "source": [
    "Let's check the output"
   ]
  },
  {
   "cell_type": "code",
   "execution_count": 99,
   "metadata": {},
   "outputs": [
    {
     "name": "stdout",
     "output_type": "stream",
     "text": [
      ">Canis_lupus_familiaris\n",
      "MTHLQAGLSPETLEKARLELNENPDTLHQDIQEVRDMVITRPDIGFLRTDDAFILRFLRARKFHHFEAFR\n",
      "LLAQYFEYRQQNLDMFKSFKATDPGIKQALKDGFPGGLANLDHYGRKILVLFAANWDQSRYTLVDILRAI\n",
      "LLSLEAMIEDPELQVNGFVLIIDWSNFTFKQASKLTPSMLRLAIEGLQDSFPARFGGIHFVNQPWYIHAL\n",
      "YTVIRPFLKEKTRKRIFLHGNNLNSLHQLIHPEILPSEFGGMLPPYDMGTWARTLLDHEYDDDSEYNVDS\n",
      "YSMPVKEVEKELSPKSMKRSQSVVDPTVLKRMDKNEEENMQPLLSLD\n",
      ">Equus_caballus\n",
      "MTHLQAGLSPETLEKARLELNENPDTLHQDIQEVRDMVITRPDIGFLRTDDAFILRFLRARKFHHFEAFR\n",
      "LLAQYFEYRQQNLDMFKSFKATDPGIKQALKDGFPGGLANLDHYGRKILVLFAANWDQSRYTLVDILRAI\n",
      "LLSLEAMIEDPELQVNGFVLIIDWSNFTFKQASKLTPSMLRLAIEGLQDSFPARFGGIHFVNQPWYIHAL\n"
     ]
    }
   ],
   "source": [
    "! head -10 data/part_2/families_seqs_renamed/family1.seq"
   ]
  },
  {
   "cell_type": "markdown",
   "metadata": {},
   "source": [
    "YAY! Good!"
   ]
  },
  {
   "cell_type": "markdown",
   "metadata": {},
   "source": [
    "### **Phylogeny on proteomes**"
   ]
  },
  {
   "cell_type": "markdown",
   "metadata": {},
   "source": [
    "Now we are ready to reconstruct the phylogeny<br>\n",
    "What's the 1st step? Right! MSA!<br>\n",
    "Let's make a directory to store the alignments"
   ]
  },
  {
   "cell_type": "code",
   "execution_count": 100,
   "metadata": {},
   "outputs": [],
   "source": [
    "! mkdir data/part_2/families_align/"
   ]
  },
  {
   "cell_type": "markdown",
   "metadata": {},
   "source": [
    "Now let's use `MAFFT` on every single SCOs families sequences"
   ]
  },
  {
   "cell_type": "code",
   "execution_count": null,
   "metadata": {},
   "outputs": [],
   "source": [
    "! for file in data/part_2/families_seqs_renamed/*.seq; do mafft --auto \"$file\" > data/part_2/families_align/$(basename \"$file\" .seq).aln; done"
   ]
  },
  {
   "cell_type": "markdown",
   "metadata": {},
   "source": [
    "We can also trim the alignments with `trimAl`<br>\n",
    "First let's make a directory where the trimmed alignments will be stored"
   ]
  },
  {
   "cell_type": "code",
   "execution_count": 102,
   "metadata": {},
   "outputs": [],
   "source": [
    "! mkdir data/part_2/families_trimmed_alns/"
   ]
  },
  {
   "cell_type": "markdown",
   "metadata": {},
   "source": [
    "Run `trimAl`"
   ]
  },
  {
   "cell_type": "code",
   "execution_count": 103,
   "metadata": {},
   "outputs": [
    {
     "name": "stdout",
     "output_type": "stream",
     "text": [
      "\n",
      "ERROR: Alignment not loaded: \"data/part_2/families_align/family55.aln\" Check the file's content.\n",
      "\n"
     ]
    }
   ],
   "source": [
    "! for file in data/part_2/families_align/*aln; do trimal -in $file -out data/part_2/families_trimmed_alns/trimmed_$(basename \"$file\") -automated1; done"
   ]
  },
  {
   "cell_type": "markdown",
   "metadata": {},
   "source": [
    "Now everything is ready to launch `IQ-TREE`<br>\n",
    "(Of course we need to make a directory where to store tree files)"
   ]
  },
  {
   "cell_type": "code",
   "execution_count": 89,
   "metadata": {},
   "outputs": [],
   "source": [
    "! mkdir data/part_2/tree/"
   ]
  },
  {
   "cell_type": "markdown",
   "metadata": {},
   "source": [
    "Run `IQ-TREE`"
   ]
  },
  {
   "cell_type": "code",
   "execution_count": null,
   "metadata": {},
   "outputs": [],
   "source": [
    "! iqtree2 -s data/part_2/families_trimmed_alns/ --prefix data/part_2/tree/tree -alrt 1000 -abayes -o Ornithorhynchus_anatinus,Vombatus_ursinus -nt 24"
   ]
  },
  {
   "cell_type": "markdown",
   "metadata": {},
   "source": [
    "Yes! We have the tree!<br>\n",
    "Let's visualize it with `ggtree` in `R`<br>\n",
    "But for now let's use some more difficult scripts"
   ]
  },
  {
   "cell_type": "markdown",
   "metadata": {},
   "source": [
    "### **Add icons to the tree**"
   ]
  },
  {
   "cell_type": "markdown",
   "metadata": {},
   "source": [
    "Run `draw_tree_icons.R` script and see the tree"
   ]
  },
  {
   "cell_type": "code",
   "execution_count": null,
   "metadata": {},
   "outputs": [],
   "source": [
    "! Rscript scripts/draw_tree_icons.R data/part_2/tree/tree.treefile imgs/icons_tree.png"
   ]
  },
  {
   "cell_type": "markdown",
   "metadata": {},
   "source": [
    "![alt text](imgs/icons_tree.png)"
   ]
  },
  {
   "cell_type": "markdown",
   "metadata": {},
   "source": [
    "Wow! Looking good! The phylogeny and the tree itself with the icons! <br>\n",
    "`draw_tree_icons.R` script uses `phylopic_uid()` function from `ggimage` package to make it possible<br>\n",
    "But we can do even cooler"
   ]
  },
  {
   "cell_type": "markdown",
   "metadata": {},
   "source": [
    "### **Add photos to the tree**"
   ]
  },
  {
   "cell_type": "code",
   "execution_count": null,
   "metadata": {},
   "outputs": [],
   "source": [
    "! Rscript scripts/draw_tree_photos.R data/part_2/tree/tree.treefile photos/ imgs/photos_tree.png"
   ]
  },
  {
   "cell_type": "markdown",
   "metadata": {},
   "source": [
    "Let's take a look at the tree!"
   ]
  },
  {
   "cell_type": "markdown",
   "metadata": {},
   "source": [
    "![alt text](imgs/photos_tree.png)"
   ]
  },
  {
   "cell_type": "markdown",
   "metadata": {},
   "source": [
    "Magnificent!\n",
    "So this script just takes a folder with photos as the input and that's all the magic!"
   ]
  }
 ],
 "metadata": {
  "kernelspec": {
   "display_name": "phylo",
   "language": "python",
   "name": "python3"
  },
  "language_info": {
   "codemirror_mode": {
    "name": "ipython",
    "version": 3
   },
   "file_extension": ".py",
   "mimetype": "text/x-python",
   "name": "python",
   "nbconvert_exporter": "python",
   "pygments_lexer": "ipython3",
   "version": "3.7.16"
  }
 },
 "nbformat": 4,
 "nbformat_minor": 2
}
