{
 "cells": [
  {
   "cell_type": "markdown",
   "metadata": {},
   "source": [
    "# **Molecular Phylogenetics**\n",
    "## **Visualization Pro**"
   ]
  },
  {
   "cell_type": "markdown",
   "metadata": {},
   "source": [
    "### **0) Introduction**"
   ]
  },
  {
   "cell_type": "markdown",
   "metadata": {},
   "source": [
    "> For this work, we will use sequences and metadata from the viral hemorrhagic septicemia virus (VHSV). This virus is a fish novirhabdovirus (negative stranded RNA virus) with an unusually broad host spectra: it has been isolated from more than 80 fish species in locations around the Northern hemisphere.<br>\n",
    ">\n",
    ">This guide was inspired by: https://github.com/acarafat/tutorials. Yet there are some new adjustments!"
   ]
  },
  {
   "cell_type": "markdown",
   "metadata": {},
   "source": [
    "### **1) Programmes used**"
   ]
  },
  {
   "cell_type": "markdown",
   "metadata": {},
   "source": [
    "|Program|\n",
    "|-------|\n",
    "|mafft|\n",
    "|iqtree|\n",
    "|pandas|\n",
    "\n",
    "- OS: Windows 11, WSL2 (Ubuntu 22.04)\n",
    "- CPU: Intel Xeon E5 2670v3 (12 cores/24 threads)\n",
    "- RAM: 32GB (16GB for WSL2)"
   ]
  },
  {
   "cell_type": "markdown",
   "metadata": {},
   "source": [
    "### **2) Multiple Sequences Alignment**"
   ]
  },
  {
   "cell_type": "markdown",
   "metadata": {},
   "source": [
    "Run multiple sequences alignment with `mafft`"
   ]
  },
  {
   "cell_type": "code",
   "execution_count": null,
   "metadata": {},
   "outputs": [],
   "source": [
    "! mafft data/vhsv.fasta > data/vhsv_mafft.fa"
   ]
  },
  {
   "cell_type": "markdown",
   "metadata": {},
   "source": [
    "### **3) Selecting a model in ModelFinder (IQ-TREE)**"
   ]
  },
  {
   "cell_type": "markdown",
   "metadata": {},
   "source": [
    "Create a directory for `ModelFinder` output"
   ]
  },
  {
   "cell_type": "code",
   "execution_count": 3,
   "metadata": {},
   "outputs": [],
   "source": [
    "! mkdir data/modelfinder"
   ]
  },
  {
   "cell_type": "markdown",
   "metadata": {},
   "source": [
    "Run `ModelFinder`"
   ]
  },
  {
   "cell_type": "code",
   "execution_count": null,
   "metadata": {},
   "outputs": [],
   "source": [
    "! iqtree2 -m MFP -s data/vhsv_mafft.fa --prefix data/modelfinder/vhsv_MF2"
   ]
  },
  {
   "cell_type": "markdown",
   "metadata": {},
   "source": [
    "Examine the best model of evolution that is the most suitable for our alignment"
   ]
  },
  {
   "cell_type": "code",
   "execution_count": 5,
   "metadata": {},
   "outputs": [
    {
     "name": "stdout",
     "output_type": "stream",
     "text": [
      "Best-fit model according to BIC: TVMe+I+R2\n",
      "\n",
      "List of models sorted by BIC scores: \n",
      "\n",
      "Model                  LogL         AIC      w-AIC        AICc     w-AICc         BIC      w-BIC\n",
      "TVMe+I+R2         -6984.748   14221.497 -  0.00151   14244.406 -   0.0031   14892.963 +    0.719\n"
     ]
    }
   ],
   "source": [
    "! head -42 data/modelfinder/vhsv_MF2.iqtree | tail -6"
   ]
  },
  {
   "cell_type": "markdown",
   "metadata": {},
   "source": [
    "In total we see that the model `TVMe+I+R2` is recognised as the best!"
   ]
  },
  {
   "cell_type": "markdown",
   "metadata": {},
   "source": [
    "### **4) Build an ML-tree in IQ-TREE using the selected model**"
   ]
  },
  {
   "cell_type": "markdown",
   "metadata": {},
   "source": [
    "Create a directory for `IQ-TREE` output"
   ]
  },
  {
   "cell_type": "code",
   "execution_count": 7,
   "metadata": {},
   "outputs": [],
   "source": [
    "! mkdir data/iqtree"
   ]
  },
  {
   "cell_type": "markdown",
   "metadata": {},
   "source": [
    "Run `IQ-TREE` with 1000 replicates of `bootstrap` and `alrt`"
   ]
  },
  {
   "cell_type": "code",
   "execution_count": null,
   "metadata": {},
   "outputs": [],
   "source": [
    "! iqtree2 -s data/vhsv_mafft.fa -m TVMe+I+R2 -pre data/iqtree/vhsv -bb 1000 -alrt 1000"
   ]
  },
  {
   "cell_type": "markdown",
   "metadata": {},
   "source": [
    "Examine the `IQ-TREE` output folder"
   ]
  },
  {
   "cell_type": "code",
   "execution_count": 1,
   "metadata": {},
   "outputs": [
    {
     "name": "stdout",
     "output_type": "stream",
     "text": [
      "vhsv.bionj   vhsv.contree  vhsv.log\tvhsv.splits.nex\n",
      "vhsv.ckp.gz  vhsv.iqtree   vhsv.mldist\tvhsv.treefile\n"
     ]
    }
   ],
   "source": [
    "! ls data/iqtree"
   ]
  },
  {
   "cell_type": "markdown",
   "metadata": {},
   "source": [
    "Examine `vhsv.treefile` file"
   ]
  },
  {
   "cell_type": "code",
   "execution_count": 4,
   "metadata": {},
   "outputs": [
    {
     "name": "stdout",
     "output_type": "stream",
     "text": [
      "(AU-8-95:0.0110908144,(CH-FI262BFH:0.0131626927,(DK-200098:0.0013245216,DK-9995144:0.0000021124)99.9/100:0.0095461686)9/64:0.0007239176,((((((((DK-1p40:0.0019819713,DK-1p86:0.0019797009)76.6/97:0.0006555511,((DK-1p8:0.0000009918,(((((DK-4p37:0.0000009918,SE-SVA14:0.0006553525)86.8/99:0.0006552139,DK-5e59:0.0013137944)0/59:0.0000009918,SE-SVA-1033:0.0000009918)78.3/95:0.0006575436,((DK-6p403:0.0006555940,SE-SVA31:0.0006553577)0/84:0.0000009918,UK-MLA98-6HE1:0.0000009918)85.8/98:0.0019746439)74.9/96:0.0006544639,KRRV9601:0.0006553263)0/5:0.0000009918)0/35:0.0000009918,UK-9643:0.0033018138)77.4/95:0.0006559696)99.4/100:0.0054050544,DK-M.rhabdo:0.0026557033)97.1/99:0.0043768013,((((((DK-1p53:0.0006554948,DK-1p55:0.0000009918)100/100:0.0816239127,(US-Makah:0.0285256070,US-Goby1-5:0.0140617136)100/100:0.1210196539)45.4/78:0.0178122396,(((DK-4p101:0.0098266846,((DK-4p168:0.0013124829,(UK-H17-2-95:0.0026484120,(UK-H17-5-93:0.0006595661,UK-MLA98-6PT11:0.0013182714)76.2/99:0.0006379007)76.8/99:0.0006676816)79.4/100:0.0010717553,IR-F13.02.97:0.0055710520)87.9/96:0.0020014929)75.6/98:0.0009426132,FR-L59X:0.0128796948)94.9/100:0.0075738902,UK-860-94:0.0158845820)100/100:0.0465027783)99.6/100:0.0335713781,GE-1.2:0.0179796623)90.6/90:0.0051656186,(((DK-2835:0.0040058973,(DK-5123:0.0028538659,DK-5131:0.0044317727)78/92:0.0031564427)99.9/100:0.0132939283,DK-Hededam:0.0099438696)73.4/75:0.0008365002,DK-F1:0.0114614651)0/60:0.0000024805)79.3/82:0.0007471327,((FI-ka422:0.0032972674,FI-ka66:0.0000009918)92.8/100:0.0026339174,NO-A16368G:0.0019943447)92.3/97:0.0020403429)61.6/78:0.0002733446)98.6/96:0.0054285225,(FR-1458:0.0099883404,FR-2375:0.0066740966)90.8/95:0.0027197676)93.6/99:0.0031601931,(((((((((((DK-200027-3:0.0020089775,DK-200079-1:0.0020149815)76.7/89:0.0006222640,(DK-9795568:0.0019716416,DK-9995007:0.0013117492)0/86:0.0000009918)83/84:0.0006608276,DK-9895093:0.0013141923)0/73:0.0000020835,DK-7380:0.0026333937)52.9/85:0.0012862237,DK-9595168:0.0020301147)95.9/99:0.0026894771,DK-6045:0.0000009918)97.5/100:0.0026369103,DK-7974:0.0039639852)0/85:0.0000009918,DK-5151:0.0000009918)75.6/97:0.0006726697,DK-6137:0.0006450449)99.9/100:0.0115741245,((DK-3592B:0.0019729337,(DK-3946:0.0006552354,Fil3:0.0006618033)0/65:0.0000009918)0/86:0.0000742921,DK-3971:0.0025543911)99.5/100:0.0068250583)0/86:0.0002859106,(DK-5741:0.0000009918,(DK-9695377:0.0013153923,(DK-9895024:0.0000009918,DK-9895174:0.0013114345)85.7/98:0.0013140555)90.9/99:0.0013147689)99.7/100:0.0081963781)95.9/77:0.0050968140)79.8/66:0.0033929129,FR-0284:0.0121797246)78.3/89:0.0028127442,FR-0771:0.0001556512)99.4/100:0.0075113449);\n"
     ]
    }
   ],
   "source": [
    "! cat data/iqtree/vhsv.treefile"
   ]
  },
  {
   "cell_type": "markdown",
   "metadata": {},
   "source": [
    "This is the tree in `Newick` format that we will use for visualization!"
   ]
  },
  {
   "cell_type": "markdown",
   "metadata": {},
   "source": [
    "### **5) Examine metadata**"
   ]
  },
  {
   "cell_type": "markdown",
   "metadata": {},
   "source": [
    "Import `pandas`"
   ]
  },
  {
   "cell_type": "code",
   "execution_count": 1,
   "metadata": {},
   "outputs": [],
   "source": [
    "import pandas as pd"
   ]
  },
  {
   "cell_type": "markdown",
   "metadata": {},
   "source": [
    "Read the metadata file"
   ]
  },
  {
   "cell_type": "code",
   "execution_count": 3,
   "metadata": {},
   "outputs": [
    {
     "data": {
      "text/html": [
       "<div>\n",
       "<style scoped>\n",
       "    .dataframe tbody tr th:only-of-type {\n",
       "        vertical-align: middle;\n",
       "    }\n",
       "\n",
       "    .dataframe tbody tr th {\n",
       "        vertical-align: top;\n",
       "    }\n",
       "\n",
       "    .dataframe thead th {\n",
       "        text-align: right;\n",
       "    }\n",
       "</style>\n",
       "<table border=\"1\" class=\"dataframe\">\n",
       "  <thead>\n",
       "    <tr style=\"text-align: right;\">\n",
       "      <th></th>\n",
       "      <th>Strain</th>\n",
       "      <th>Host</th>\n",
       "      <th>Water</th>\n",
       "      <th>Country</th>\n",
       "      <th>ACCNo</th>\n",
       "      <th>Year</th>\n",
       "    </tr>\n",
       "  </thead>\n",
       "  <tbody>\n",
       "    <tr>\n",
       "      <th>0</th>\n",
       "      <td>AU-8-95</td>\n",
       "      <td>Rainbow trout</td>\n",
       "      <td>Fresh water</td>\n",
       "      <td>AU</td>\n",
       "      <td>AY546570.1</td>\n",
       "      <td>1995</td>\n",
       "    </tr>\n",
       "    <tr>\n",
       "      <th>1</th>\n",
       "      <td>CH-FI262BFH</td>\n",
       "      <td>Rainbow trout</td>\n",
       "      <td>Fresh water</td>\n",
       "      <td>CH</td>\n",
       "      <td>AY546571.1</td>\n",
       "      <td>1999</td>\n",
       "    </tr>\n",
       "    <tr>\n",
       "      <th>2</th>\n",
       "      <td>DK-1p40</td>\n",
       "      <td>Rockling</td>\n",
       "      <td>Sea water</td>\n",
       "      <td>DK</td>\n",
       "      <td>AY546575.1</td>\n",
       "      <td>1996</td>\n",
       "    </tr>\n",
       "    <tr>\n",
       "      <th>3</th>\n",
       "      <td>DK-1p53</td>\n",
       "      <td>Atlantic Herring</td>\n",
       "      <td>Sea water</td>\n",
       "      <td>DK</td>\n",
       "      <td>AY546577.1</td>\n",
       "      <td>1996</td>\n",
       "    </tr>\n",
       "    <tr>\n",
       "      <th>4</th>\n",
       "      <td>DK-1p55</td>\n",
       "      <td>Sprat</td>\n",
       "      <td>Sea water</td>\n",
       "      <td>DK</td>\n",
       "      <td>AY546578.1</td>\n",
       "      <td>1996</td>\n",
       "    </tr>\n",
       "    <tr>\n",
       "      <th>...</th>\n",
       "      <td>...</td>\n",
       "      <td>...</td>\n",
       "      <td>...</td>\n",
       "      <td>...</td>\n",
       "      <td>...</td>\n",
       "      <td>...</td>\n",
       "    </tr>\n",
       "    <tr>\n",
       "      <th>56</th>\n",
       "      <td>UK-H17-5-93</td>\n",
       "      <td>Cod</td>\n",
       "      <td>Sea water</td>\n",
       "      <td>UK</td>\n",
       "      <td>AY546630.1</td>\n",
       "      <td>1993</td>\n",
       "    </tr>\n",
       "    <tr>\n",
       "      <th>57</th>\n",
       "      <td>UK-MLA98-6HE1</td>\n",
       "      <td>Herring</td>\n",
       "      <td>Sea water</td>\n",
       "      <td>UK</td>\n",
       "      <td>AY546631.1</td>\n",
       "      <td>1998</td>\n",
       "    </tr>\n",
       "    <tr>\n",
       "      <th>58</th>\n",
       "      <td>UK-MLA98-6PT11</td>\n",
       "      <td>Norway prout</td>\n",
       "      <td>Sea water</td>\n",
       "      <td>UK</td>\n",
       "      <td>AY546632.1</td>\n",
       "      <td>1998</td>\n",
       "    </tr>\n",
       "    <tr>\n",
       "      <th>59</th>\n",
       "      <td>US-Makah</td>\n",
       "      <td>Coho salmon</td>\n",
       "      <td>Fresh water</td>\n",
       "      <td>USA</td>\n",
       "      <td>U28747.1</td>\n",
       "      <td>1988</td>\n",
       "    </tr>\n",
       "    <tr>\n",
       "      <th>60</th>\n",
       "      <td>US-Goby1-5</td>\n",
       "      <td>Round goby</td>\n",
       "      <td>Unknown</td>\n",
       "      <td>USA</td>\n",
       "      <td>AB672615.1</td>\n",
       "      <td>2006</td>\n",
       "    </tr>\n",
       "  </tbody>\n",
       "</table>\n",
       "<p>61 rows × 6 columns</p>\n",
       "</div>"
      ],
      "text/plain": [
       "            Strain              Host        Water Country       ACCNo  Year\n",
       "0          AU-8-95     Rainbow trout  Fresh water      AU  AY546570.1  1995\n",
       "1      CH-FI262BFH     Rainbow trout  Fresh water      CH  AY546571.1  1999\n",
       "2          DK-1p40          Rockling    Sea water      DK  AY546575.1  1996\n",
       "3          DK-1p53  Atlantic Herring    Sea water      DK  AY546577.1  1996\n",
       "4          DK-1p55             Sprat    Sea water      DK  AY546578.1  1996\n",
       "..             ...               ...          ...     ...         ...   ...\n",
       "56     UK-H17-5-93               Cod    Sea water      UK  AY546630.1  1993\n",
       "57   UK-MLA98-6HE1           Herring    Sea water      UK  AY546631.1  1998\n",
       "58  UK-MLA98-6PT11      Norway prout    Sea water      UK  AY546632.1  1998\n",
       "59        US-Makah       Coho salmon  Fresh water     USA    U28747.1  1988\n",
       "60      US-Goby1-5        Round goby      Unknown     USA  AB672615.1  2006\n",
       "\n",
       "[61 rows x 6 columns]"
      ]
     },
     "execution_count": 3,
     "metadata": {},
     "output_type": "execute_result"
    }
   ],
   "source": [
    "pd.read_csv('data/metadata.csv')  "
   ]
  },
  {
   "cell_type": "markdown",
   "metadata": {},
   "source": [
    "### **6) Visualization**"
   ]
  },
  {
   "cell_type": "markdown",
   "metadata": {},
   "source": [
    "For visualization we will use `R` and `RStudio`.<br>\n",
    "Please open the next journal - `04_07_Lab_journal_2.Rmd` file and follow the guide."
   ]
  }
 ],
 "metadata": {
  "kernelspec": {
   "display_name": "phylo",
   "language": "python",
   "name": "python3"
  },
  "language_info": {
   "codemirror_mode": {
    "name": "ipython",
    "version": 3
   },
   "file_extension": ".py",
   "mimetype": "text/x-python",
   "name": "python",
   "nbconvert_exporter": "python",
   "pygments_lexer": "ipython3",
   "version": "3.12.4"
  }
 },
 "nbformat": 4,
 "nbformat_minor": 2
}
