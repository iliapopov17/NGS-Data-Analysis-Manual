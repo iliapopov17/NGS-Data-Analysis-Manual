{
 "cells": [
  {
   "cell_type": "markdown",
   "metadata": {},
   "source": [
    "## **Introduction**"
   ]
  },
  {
   "cell_type": "markdown",
   "metadata": {},
   "source": [
    "Here we will work with `PanACoTA` pipeline. This tool has many dependecies:\n",
    "\n",
    "- For `prepare` module: `mash` (to filter genomes)\n",
    "- For `annotate` module: `prokka` and/or `prodigal` (to uniformly annotate your genomes)\n",
    "- For `pangenome` module: `mmseqs` (to generate pangenomes)\n",
    "- For `align` module: `mafft` (to align persistent genome)\n",
    "- For `tree` module: At least one of those softwares, to infer a phylogenetic tree:\n",
    "    - `IQ Tree`\n",
    "    - `FastTreeMP`\n",
    "    - `FastME`\n",
    "    - `Quicktree`\n",
    "\n",
    "All of them but one will be installed with the `panacota.yaml` conda environment. The last one - `mash` please install yourself.<br>\n",
    "For more details please visit [`PanACoTA` GitHub repository](https://github.com/gem-pasteur/PanACoTA)"
   ]
  },
  {
   "cell_type": "markdown",
   "metadata": {},
   "source": [
    "## **Task**"
   ]
  },
  {
   "cell_type": "markdown",
   "metadata": {},
   "source": [
    "We've sequenced and assembled the genome. It's the genome of some organism, and we even know what kind of organism it is.\n",
    "- We download the genomes of its close relatives from public databases\n",
    "- We annotate them all together (so that there is a homogeneous annotation)\n",
    "- Build orthologous series\n",
    "- Extract the pangenome\n",
    "- Make gene alignment\n",
    "- Build a phylogenetic tree"
   ]
  },
  {
   "cell_type": "markdown",
   "metadata": {},
   "source": [
    "We'll be working with the _Shigella flexneri_ genome. It's genetically nested within _Escherichia_, but it's a very aggressive pathogen. The same pathogenicity factors are found in _E. marmotae_ isolated from other mammals.<br>\n",
    "So our target is _Shigella flexneri_. And for comparison, we want to download the genomes of _E. marmotae_ isolated from marmosets and analyse them further."
   ]
  },
  {
   "cell_type": "markdown",
   "metadata": {},
   "source": [
    "### **Step 1: Download genomes from the database and check their quality**"
   ]
  },
  {
   "cell_type": "markdown",
   "metadata": {},
   "source": [
    "As it was mention in the **Introduction** we will run `PanACoTA` pipeline.\n",
    "It has many dependecies and in the `panacota.yaml` cona environment all but one are already installed.\n",
    "The one missing is `mash`.\n",
    "It is needed for this step, but it is not available in `conda` or `pip`.\n",
    "It is distributed as binary. To install it on `Ubuntu` run this command in your terminal:\n",
    "\n",
    "```\n",
    "sudo apt install mash\n",
    "```\n",
    "\n",
    "For more details read the [`mash` tutorial](https://mash.readthedocs.io/en/latest/)\n",
    "\n",
    "`Mash` measures the distances between genomes:\n",
    "- if the distances are any small (i.e. we have some copies)\n",
    "- if the distances are too large (i.e. genomes so far away that nothing can be counted on them further).\n",
    "The programme discards them (this is a configurable parameter)"
   ]
  },
  {
   "cell_type": "markdown",
   "metadata": {},
   "source": [
    ">Quick Memo:\n",
    ">- `GenBank` - in general, all possible fasta files uploaded to `NCBI's GenBank` database\n",
    ">- `RefSeq` - an attempt to structure `GenBank`, a so-called ‘quality mark’ meaning that `NCBI` staff have analysed the data according to their own pipeline and approved its quality at a high level"
   ]
  },
  {
   "cell_type": "markdown",
   "metadata": {},
   "source": [
    "Let's break down the command below in parts:\n",
    "- `PanACoTA` - the name of the programme we are running\n",
    "- `prepare` - one of the modules of this programme\n",
    "- By key `-g` we pass what genomes we are downloading - quotes are very important\n",
    "- By key `-s` we choose between GenBank and RefSeq\n",
    "- By key `-l` we choose the level of assembly"
   ]
  },
  {
   "cell_type": "code",
   "execution_count": 14,
   "metadata": {},
   "outputs": [
    {
     "name": "stdout",
     "output_type": "stream",
     "text": [
      "\u001b[33m  !! Your genomes will be split when sequence contains at least 5'N' in a row. If you want to change this threshold, use '--cutn n' option (n=0 if you do not want to cut)\u001b[0m\n",
      "\u001b[33m  !! Your genomes will be filtered, and only the ones with 'L90' <= 100 and 'number of contigs' < 999 will be kept. If you want to change those thresholds, use '--l90' and '--nbcont' options.\u001b[0m\n",
      "\u001b[32m  * [2024-08-25 18:31:23] : INFO \u001b[0m PanACoTA version 1.4.0\u001b[0m\n",
      "\u001b[32m  * [2024-08-25 18:31:23] : INFO \u001b[0m Command used\n",
      " \t > PanACoTA prepare -g Escherichia marmotae -s refseq -l complete\u001b[0m\n",
      "\u001b[32m  * [2024-08-25 18:31:23] : INFO \u001b[0m 'PanACoTA prepare' will run on 1 core\u001b[0m\n",
      "\u001b[32m  * [2024-08-25 18:31:23] : INFO \u001b[0m Metadata for all genomes will be saved in Escherichia_marmotae/assembly_summary-Escherichia_marmotae.txt\u001b[0m\n",
      "\u001b[32m  * [2024-08-25 18:31:23] : INFO \u001b[0m From refseq: Downloading all genomes of NCBI species = Escherichia marmotae (Only those assembly levels: complete). \u001b[0m\n",
      "\u001b[32m  * [2024-08-25 18:32:32] : INFO \u001b[0m Uncompressing genome files.\u001b[0m\n",
      "\u001b[32m  * [2024-08-25 18:32:34] : INFO \u001b[0m 13 refseq genome(s) downloaded\u001b[0m\n",
      "\u001b[32m  * [2024-08-25 18:32:34] : INFO \u001b[0m Total number of genomes for Escherichia_marmotae: 13\u001b[0m\n",
      "\u001b[32m  * [2024-08-25 18:32:34] : INFO \u001b[0m Cutting genomes at each time there are at least 5 'N' in a row, and then, calculating genome size, number of contigs and L90.\u001b[0m\n",
      "Analysis: ███████████████ 13/13 (100%) - Elapsed Time: 0:00:02 - Time:  0:00:02\n",
      "\u001b[32m  * [2024-08-25 18:32:37] : INFO \u001b[0m Sorting all 13 genomes by quality\u001b[0m\n",
      "\u001b[32m  * [2024-08-25 18:32:37] : INFO \u001b[0m 13 genomes after quality control (0 discarded)\u001b[0m\n",
      "\u001b[32m  * [2024-08-25 18:32:37] : INFO \u001b[0m Starting filtering steps according to distance between genomes.\u001b[0m\n",
      "\u001b[32m  * [2024-08-25 18:32:37] : INFO \u001b[0m Sketching all genomes...\u001b[0m\n",
      "\u001b[32m  * [2024-08-25 18:32:41] : INFO \u001b[0m Computing pairwise distances between all genomes\u001b[0m\n",
      "\u001b[32m  * [2024-08-25 18:32:41] : INFO \u001b[0m Reading matrix from txt file generated by Mash.\u001b[0m\n",
      "\u001b[32m  * [2024-08-25 18:32:41] : INFO \u001b[0m Saving matrix to npz file to be loaded quicker if needed later\u001b[0m\n",
      "\u001b[32m  * [2024-08-25 18:32:41] : INFO \u001b[0m Starting iterative discarding steps\u001b[0m\n",
      "Genomes compared: ██████████████████████████████ 13/13 Elapsed Time: 0:00:00 - \n",
      "\u001b[32m  * [2024-08-25 18:32:41] : INFO \u001b[0m Final number of genomes in dataset: 13\u001b[0m\n",
      "\u001b[32m  * [2024-08-25 18:32:41] : INFO \u001b[0m Final list of genomes in the dataset: Escherichia_marmotae/LSTINFO-Escherichia_marmotae-filtered-0.0001_0.06.txt\u001b[0m\n",
      "\u001b[32m  * [2024-08-25 18:32:41] : INFO \u001b[0m List of genomes discarded by minhash steps: Escherichia_marmotae/discarded-by-minhash-Escherichia_marmotae-0.0001_0.06.txt\u001b[0m\n",
      "\u001b[32m  * [2024-08-25 18:32:41] : INFO \u001b[0m End\u001b[0m\n"
     ]
    }
   ],
   "source": [
    "! PanACoTA prepare -g 'Escherichia marmotae' -s refseq -l complete"
   ]
  },
  {
   "cell_type": "markdown",
   "metadata": {},
   "source": [
    "Let's see what we have after executing this command"
   ]
  },
  {
   "cell_type": "code",
   "execution_count": 1,
   "metadata": {},
   "outputs": [
    {
     "name": "stdout",
     "output_type": "stream",
     "text": [
      "Database_init\n",
      "LSTINFO-Escherichia_marmotae-filtered-0.0001_0.06.txt\n",
      "PanACoTA_prepare_Escherichia_marmotae.log\n",
      "PanACoTA_prepare_Escherichia_marmotae.log.details\n",
      "PanACoTA_prepare_Escherichia_marmotae.log.err\n",
      "assembly_summary-Escherichia_marmotae.txt\n",
      "discarded-by-L90_nbcont-Escherichia_marmotae.lst\n",
      "discarded-by-minhash-Escherichia_marmotae-0.0001_0.06.txt\n",
      "mash_files\n",
      "refseq\n",
      "tmp_files\n"
     ]
    }
   ],
   "source": [
    "! ls Escherichia_marmotae"
   ]
  },
  {
   "cell_type": "markdown",
   "metadata": {},
   "source": [
    "- `PanACoTA_prepare_Escherichia_marmotae.log` - file with log of command execution\n",
    "- `PanACoTA_prepare_Escherichia_marmotae.log.details` - file with detailed log of command execution\n",
    "- `PanACoTA_prepare_Escherichia_marmotae.log.err` - error log (if there were any), it is always created, but if there were no errors, the file will be empty\n",
    "- `assembly_summary-Escherichia_marmotae.txt` - statistics on a specific assembly of _Escherichia marmotae_\n",
    "- `discarded-by-minhash-Escherichia_marmotae-0.0001_0.06.txt` - file with what `mash` discarded (it discarded anything closer than `0.0001` and anything further than `0.06`)\n",
    "- `LSTINFO-Escherichia_marmotae-filtered-0.0001e_0.06.txt` - a list of all the files that `PanACoTA` fragmented "
   ]
  },
  {
   "cell_type": "markdown",
   "metadata": {},
   "source": [
    "Now let's look in the `Database_init` directory"
   ]
  },
  {
   "cell_type": "code",
   "execution_count": 3,
   "metadata": {},
   "outputs": [
    {
     "name": "stdout",
     "output_type": "stream",
     "text": [
      "GCF_002900365.1_ASM290036v1_genomic.fna\n",
      "GCF_013636045.1_ASM1363604v1_genomic.fna\n",
      "GCF_013636235.1_ASM1363623v1_genomic.fna\n",
      "GCF_013732895.1_ASM1373289v1_genomic.fna\n",
      "GCF_013745515.1_ASM1374551v1_genomic.fna\n",
      "GCF_013746655.1_ASM1374665v1_genomic.fna\n",
      "GCF_022592155.1_ASM2259215v1_genomic.fna\n",
      "GCF_029717905.1_ASM2971790v1_genomic.fna\n",
      "GCF_029719265.1_ASM2971926v1_genomic.fna\n",
      "GCF_029962465.1_ASM2996246v1_genomic.fna\n",
      "GCF_037055335.1_ASM3705533v1_genomic.fna\n",
      "GCF_900636405.1_41767_E01_genomic.fna\n",
      "GCF_900637015.1_46514_C01_genomic.fna\n"
     ]
    }
   ],
   "source": [
    "! ls Escherichia_marmotae/Database_init"
   ]
  },
  {
   "cell_type": "markdown",
   "metadata": {},
   "source": [
    "Thus `PanACoTA` downloaded 12 complete genomes (nucleotide genomic sequences) of _Escherichia marmotae_ from `RefSeq` into the `Escherichia_marmotae/Database_init directory`"
   ]
  },
  {
   "cell_type": "markdown",
   "metadata": {},
   "source": [
    "Add to all this our _Shigella flexneri_."
   ]
  },
  {
   "cell_type": "code",
   "execution_count": null,
   "metadata": {},
   "outputs": [],
   "source": [
    "! wget https://ftp.ncbi.nlm.nih.gov/genomes/all/GCF/000/007/405/GCF_000007405.1_ASM740v1/GCF_000007405.1_ASM740v1_genomic.fna.gz -P Escherichia_marmotae/Database_init/"
   ]
  },
  {
   "cell_type": "markdown",
   "metadata": {},
   "source": [
    "Let's unpack the archive"
   ]
  },
  {
   "cell_type": "code",
   "execution_count": 16,
   "metadata": {},
   "outputs": [],
   "source": [
    "! gzip -d Escherichia_marmotae/Database_init/GCF_000007405.1_ASM740v1_genomic.fna.gz"
   ]
  },
  {
   "cell_type": "markdown",
   "metadata": {},
   "source": [
    "The next step of `PanACoTA` takes as input a text file with a list of files containing genomes\n",
    "That's why we'll create it!"
   ]
  },
  {
   "cell_type": "code",
   "execution_count": 17,
   "metadata": {},
   "outputs": [],
   "source": [
    "! ls Escherichia_marmotae/Database_init/ > listFile "
   ]
  },
  {
   "cell_type": "markdown",
   "metadata": {},
   "source": [
    "Let's check this list"
   ]
  },
  {
   "cell_type": "code",
   "execution_count": 4,
   "metadata": {},
   "outputs": [
    {
     "name": "stdout",
     "output_type": "stream",
     "text": [
      "GCF_000007405.1_ASM740v1_genomic.fna\n",
      "GCF_002900365.1_ASM290036v1_genomic.fna\n",
      "GCF_013636045.1_ASM1363604v1_genomic.fna\n",
      "GCF_013636235.1_ASM1363623v1_genomic.fna\n",
      "GCF_013732895.1_ASM1373289v1_genomic.fna\n",
      "GCF_013745515.1_ASM1374551v1_genomic.fna\n",
      "GCF_013746655.1_ASM1374665v1_genomic.fna\n",
      "GCF_022592155.1_ASM2259215v1_genomic.fna\n",
      "GCF_029717905.1_ASM2971790v1_genomic.fna\n",
      "GCF_029719265.1_ASM2971926v1_genomic.fna\n",
      "GCF_029962465.1_ASM2996246v1_genomic.fna\n",
      "GCF_037055335.1_ASM3705533v1_genomic.fna\n",
      "GCF_900636405.1_41767_E01_genomic.fna\n",
      "GCF_900637015.1_46514_C01_genomic.fna\n"
     ]
    }
   ],
   "source": [
    "! cat listFile"
   ]
  },
  {
   "cell_type": "markdown",
   "metadata": {},
   "source": [
    "That's right\n",
    "These are the files that will be given as input in the next step of `PanACoTA` pipeline"
   ]
  },
  {
   "cell_type": "markdown",
   "metadata": {},
   "source": [
    "### **Step 2: Annotate the genomes**"
   ]
  },
  {
   "cell_type": "markdown",
   "metadata": {},
   "source": [
    "Running `PanACoTA` with the `annotate` mode<br>\n",
    "This mode of `PanACoTA` is basically a shell for using the `prokka` tool<br>\n",
    "Let's also break down the command below in parts:\n",
    "- `PanACoTA` - the name of the programme we are running\n",
    "- `annotate` - module of this programme that annotates genomes\n",
    "- By key `-d` we pass the directory with the genomes\n",
    "- By key `-r` we specify where to store the output files\n",
    "- By key `-n` we set some four-character name for the data, which will then be used in the pipeline\n",
    "- By key `-l` we specify what exactly genomes from the directory in `-d` key must be annotated\n",
    "- By key `--threads` we specify how much threads this command can use (if use `0` - automatically uses all available cores)\n",
    "\n",
    ">**IMPORTANT:** it takes a long time to execute the command (it took me 19 minutes)"
   ]
  },
  {
   "cell_type": "code",
   "execution_count": 18,
   "metadata": {},
   "outputs": [
    {
     "name": "stdout",
     "output_type": "stream",
     "text": [
      "\u001b[33m  !! Your genomes will be split when sequence contains at least 5'N' in a row. If you want to change this threshold, see --cutn option.\u001b[0m\n",
      "\u001b[33m  !! Your genomes will be filtered, and only the ones with 'L90' <= 100 and 'number of contigs' < 999 will be kept. If you want to change those thresholds, use '--l90' and '--nbcont' options.\u001b[0m\n",
      "\n",
      "\u001b[32m  * [2024-08-25 18:33:55] : INFO \u001b[0m PanACoTA version 1.4.0\u001b[0m\n",
      "\u001b[32m  * [2024-08-25 18:33:55] : INFO \u001b[0m Command used\n",
      " \t > PanACoTA annotate -d Escherichia_marmotae/Database_init/ -r Annotation -n EsMa -l listFile --threads 24\u001b[0m\n",
      "\u001b[32m  * [2024-08-25 18:33:55] : INFO \u001b[0m Reading genomes\u001b[0m\n",
      "\u001b[32m  * [2024-08-25 18:33:55] : INFO \u001b[0m Cutting genomes at each time there are at least 5 'N' in a row, and then, calculating genome size, number of contigs and L90.\u001b[0m\n",
      "Analysis: ███████████████ 14/14 (100%) - Elapsed Time: 0:00:02 - Time:  0:00:02\n",
      "\u001b[32m  * [2024-08-25 18:33:58] : INFO \u001b[0m Generating distribution of L90 and #contigs graphs.\u001b[0m\n",
      "\u001b[32m  * [2024-08-25 18:33:59] : INFO \u001b[0m -> Original sequences folder ('orig_name' column): Escherichia_marmotae/Database_init/ \u001b[0m\n",
      "\u001b[32m  * [2024-08-25 18:33:59] : INFO \u001b[0m \t-> If original sequence not found in Escherichia_marmotae/Database_init/, look for it in Annotation/tmp_files, as it must be a concatenation of several input sequence files.\u001b[0m\n",
      "\u001b[32m  * [2024-08-25 18:33:59] : INFO \u001b[0m -> Folder with sequence files that will be used for annotation ('to_annotate' column): Annotation/tmp_files\u001b[0m\n",
      "\u001b[32m  * [2024-08-25 18:33:59] : INFO \u001b[0m Renaming kept genomes according to their quality (14 genomes)\u001b[0m\n",
      "\u001b[32m  * [2024-08-25 18:33:59] : INFO \u001b[0m Annotating all genomes with prokka\u001b[0m\n",
      "Annotation:                              0/14 (  0%) - Elapsed Time: 0:16:23 - [tbl2asn-forever] Found Prokka input, correcting dates in .gbf|.sqn files.\n",
      "[tbl2asn-forever] Correcting dates in Annotation/tmp_files/GCF_900637015.1_46514_C01_genomic.fna_prokka-split5N.fna-prokkaRes/EsMa.0824.00003.gbf\n",
      "Annotation:                              0/14 (  0%) - Elapsed Time: 0:16:24 - [tbl2asn-forever] Correcting dates in Annotation/tmp_files/GCF_900637015.1_46514_C01_genomic.fna_prokka-split5N.fna-prokkaRes/EsMa.0824.00003.sqn\n",
      "Annotation:                              0/14 (  0%) - Elapsed Time: 0:16:25 - [tbl2asn-forever] Dates changed from 01-JAN-2019 to 25-AUG-2024\n",
      "Annotation: ██                           1/14 (  7%) - Elapsed Time: 0:17:04 - [tbl2asn-forever] Found Prokka input, correcting dates in .gbf|.sqn files.\n",
      "[tbl2asn-forever] Correcting dates in Annotation/tmp_files/GCF_000007405.1_ASM740v1_genomic.fna_prokka-split5N.fna-prokkaRes/EsMa.0824.00001.gbf\n",
      "Annotation: ██                           1/14 (  7%) - Elapsed Time: 0:17:06 - [tbl2asn-forever] Correcting dates in Annotation/tmp_files/GCF_000007405.1_ASM740v1_genomic.fna_prokka-split5N.fna-prokkaRes/EsMa.0824.00001.sqn\n",
      "Annotation: ██                           1/14 (  7%) - Elapsed Time: 0:17:06 - [tbl2asn-forever] Dates changed from 01-JAN-2019 to 25-AUG-2024\n",
      "Annotation: ████                         2/14 ( 14%) - Elapsed Time: 0:17:10 - [tbl2asn-forever] Found Prokka input, correcting dates in .gbf|.sqn files.\n",
      "[tbl2asn-forever] Correcting dates in Annotation/tmp_files/GCF_013636045.1_ASM1363604v1_genomic.fna_prokka-split5N.fna-prokkaRes/EsMa.0824.00004.gbf\n",
      "Annotation: ████                         2/14 ( 14%) - Elapsed Time: 0:17:12 - [tbl2asn-forever] Correcting dates in Annotation/tmp_files/GCF_013636045.1_ASM1363604v1_genomic.fna_prokka-split5N.fna-prokkaRes/EsMa.0824.00004.sqn\n",
      "Annotation: ████                         2/14 ( 14%) - Elapsed Time: 0:17:12 - [tbl2asn-forever] Dates changed from 01-JAN-2019 to 25-AUG-2024\n",
      "Annotation: ██████                       3/14 ( 21%) - Elapsed Time: 0:17:24 - [tbl2asn-forever] Found Prokka input, correcting dates in .gbf|.sqn files.\n",
      "[tbl2asn-forever] Correcting dates in Annotation/tmp_files/GCF_029962465.1_ASM2996246v1_genomic.fna_prokka-split5N.fna-prokkaRes/EsMa.0824.00005.gbf\n",
      "Annotation: ██████                       3/14 ( 21%) - Elapsed Time: 0:17:25 - [tbl2asn-forever] Correcting dates in Annotation/tmp_files/GCF_029962465.1_ASM2996246v1_genomic.fna_prokka-split5N.fna-prokkaRes/EsMa.0824.00005.sqn\n",
      "Annotation: ██████                       3/14 ( 21%) - Elapsed Time: 0:17:26 - [tbl2asn-forever] Dates changed from 01-JAN-2019 to 25-AUG-2024\n",
      "Annotation: ████████                     4/14 ( 28%) - Elapsed Time: 0:17:52 - [tbl2asn-forever] Found Prokka input, correcting dates in .gbf|.sqn files.\n",
      "[tbl2asn-forever] Correcting dates in Annotation/tmp_files/GCF_029717905.1_ASM2971790v1_genomic.fna_prokka-split5N.fna-prokkaRes/EsMa.0824.00014.gbf\n",
      "Annotation: ████████                     4/14 ( 28%) - Elapsed Time: 0:17:54 - [tbl2asn-forever] Correcting dates in Annotation/tmp_files/GCF_029717905.1_ASM2971790v1_genomic.fna_prokka-split5N.fna-prokkaRes/EsMa.0824.00014.sqn\n",
      "Annotation: ████████                     4/14 ( 28%) - Elapsed Time: 0:17:55 - [tbl2asn-forever] Dates changed from 01-JAN-2019 to 25-AUG-2024\n",
      "Annotation: ██████████                   5/14 ( 35%) - Elapsed Time: 0:18:16 - [tbl2asn-forever] Found Prokka input, correcting dates in .gbf|.sqn files.\n",
      "[tbl2asn-forever] Correcting dates in Annotation/tmp_files/GCF_002900365.1_ASM290036v1_genomic.fna_prokka-split5N.fna-prokkaRes/EsMa.0824.00006.gbf\n",
      "Annotation: ██████████                   5/14 ( 35%) - Elapsed Time: 0:18:17 - [tbl2asn-forever] Correcting dates in Annotation/tmp_files/GCF_002900365.1_ASM290036v1_genomic.fna_prokka-split5N.fna-prokkaRes/EsMa.0824.00006.sqn\n",
      "Annotation: ██████████                   5/14 ( 35%) - Elapsed Time: 0:18:18 - [tbl2asn-forever] Dates changed from 01-JAN-2019 to 25-AUG-2024\n",
      "Annotation: ████████████                 6/14 ( 42%) - Elapsed Time: 0:18:27 - [tbl2asn-forever] Found Prokka input, correcting dates in .gbf|.sqn files.\n",
      "[tbl2asn-forever] Correcting dates in Annotation/tmp_files/GCF_900636405.1_41767_E01_genomic.fna_prokka-split5N.fna-prokkaRes/EsMa.0824.00002.gbf\n",
      "Annotation: ████████████                 6/14 ( 42%) - Elapsed Time: 0:18:28 - [tbl2asn-forever] Correcting dates in Annotation/tmp_files/GCF_900636405.1_41767_E01_genomic.fna_prokka-split5N.fna-prokkaRes/EsMa.0824.00002.sqn\n",
      "Annotation: ████████████                 6/14 ( 42%) - Elapsed Time: 0:18:29 - [tbl2asn-forever] Dates changed from 01-JAN-2019 to 25-AUG-2024\n",
      "Annotation: ██████████████               7/14 ( 50%) - Elapsed Time: 0:18:40 - [tbl2asn-forever] Found Prokka input, correcting dates in .gbf|.sqn files.\n",
      "[tbl2asn-forever] Correcting dates in Annotation/tmp_files/GCF_013745515.1_ASM1374551v1_genomic.fna_prokka-split5N.fna-prokkaRes/EsMa.0824.00008.gbf\n",
      "Annotation: ██████████████               7/14 ( 50%) - Elapsed Time: 0:18:41 - [tbl2asn-forever] Correcting dates in Annotation/tmp_files/GCF_013745515.1_ASM1374551v1_genomic.fna_prokka-split5N.fna-prokkaRes/EsMa.0824.00008.sqn\n",
      "Annotation: ██████████████               7/14 ( 50%) - Elapsed Time: 0:18:42 - [tbl2asn-forever] Dates changed from 01-JAN-2019 to 25-AUG-2024\n",
      "Annotation: ████████████████             8/14 ( 57%) - Elapsed Time: 0:18:54 - [tbl2asn-forever] Found Prokka input, correcting dates in .gbf|.sqn files.\n",
      "[tbl2asn-forever] Correcting dates in Annotation/tmp_files/GCF_013636235.1_ASM1363623v1_genomic.fna_prokka-split5N.fna-prokkaRes/EsMa.0824.00007.gbf\n",
      "Annotation: ████████████████             8/14 ( 57%) - Elapsed Time: 0:18:55 - [tbl2asn-forever] Correcting dates in Annotation/tmp_files/GCF_013636235.1_ASM1363623v1_genomic.fna_prokka-split5N.fna-prokkaRes/EsMa.0824.00007.sqn\n",
      "Annotation: ████████████████             8/14 ( 57%) - Elapsed Time: 0:18:56 - [tbl2asn-forever] Dates changed from 01-JAN-2019 to 25-AUG-2024\n",
      "Annotation: ██████████████████           9/14 ( 64%) - Elapsed Time: 0:19:01 - [tbl2asn-forever] Found Prokka input, correcting dates in .gbf|.sqn files.\n",
      "[tbl2asn-forever] Correcting dates in Annotation/tmp_files/GCF_037055335.1_ASM3705533v1_genomic.fna_prokka-split5N.fna-prokkaRes/EsMa.0824.00011.gbf\n",
      "Annotation: ██████████████████           9/14 ( 64%) - Elapsed Time: 0:19:02 - [tbl2asn-forever] Correcting dates in Annotation/tmp_files/GCF_037055335.1_ASM3705533v1_genomic.fna_prokka-split5N.fna-prokkaRes/EsMa.0824.00011.sqn\n",
      "Annotation: ██████████████████           9/14 ( 64%) - Elapsed Time: 0:19:03 - [tbl2asn-forever] Dates changed from 01-JAN-2019 to 25-AUG-2024\n",
      "Annotation: ███████████████████         10/14 ( 71%) - Elapsed Time: 0:19:13 - [tbl2asn-forever] Found Prokka input, correcting dates in .gbf|.sqn files.\n",
      "[tbl2asn-forever] Correcting dates in Annotation/tmp_files/GCF_029719265.1_ASM2971926v1_genomic.fna_prokka-split5N.fna-prokkaRes/EsMa.0824.00012.gbf\n",
      "Annotation: ███████████████████         10/14 ( 71%) - Elapsed Time: 0:19:15 - [tbl2asn-forever] Correcting dates in Annotation/tmp_files/GCF_029719265.1_ASM2971926v1_genomic.fna_prokka-split5N.fna-prokkaRes/EsMa.0824.00012.sqn\n",
      "Annotation: ███████████████████         10/14 ( 71%) - Elapsed Time: 0:19:15 - [tbl2asn-forever] Found Prokka input, correcting dates in .gbf|.sqn files.\n",
      "[tbl2asn-forever] Correcting dates in Annotation/tmp_files/GCF_013746655.1_ASM1374665v1_genomic.fna_prokka-split5N.fna-prokkaRes/EsMa.0824.00010.gbf\n",
      "Annotation: ███████████████████         10/14 ( 71%) - Elapsed Time: 0:19:15 - [tbl2asn-forever] Found Prokka input, correcting dates in .gbf|.sqn files.\n",
      "[tbl2asn-forever] Correcting dates in Annotation/tmp_files/GCF_013732895.1_ASM1373289v1_genomic.fna_prokka-split5N.fna-prokkaRes/EsMa.0824.00013.gbf\n",
      "Annotation: ███████████████████         10/14 ( 71%) - Elapsed Time: 0:19:15 - [tbl2asn-forever] Dates changed from 01-JAN-2019 to 25-AUG-2024\n",
      "Annotation: ███████████████████         10/14 ( 71%) - Elapsed Time: 0:19:16 - [tbl2asn-forever] Correcting dates in Annotation/tmp_files/GCF_013746655.1_ASM1374665v1_genomic.fna_prokka-split5N.fna-prokkaRes/EsMa.0824.00010.sqn\n",
      "Annotation: ███████████████████         10/14 ( 71%) - Elapsed Time: 0:19:16 - [tbl2asn-forever] Correcting dates in Annotation/tmp_files/GCF_013732895.1_ASM1373289v1_genomic.fna_prokka-split5N.fna-prokkaRes/EsMa.0824.00013.sqn\n",
      "Annotation: ███████████████████         10/14 ( 71%) - Elapsed Time: 0:19:17 - [tbl2asn-forever] Dates changed from 01-JAN-2019 to 25-AUG-2024\n",
      "Annotation: █████████████████████       11/14 ( 78%) - Elapsed Time: 0:19:17 - [tbl2asn-forever] Dates changed from 01-JAN-2019 to 25-AUG-2024\n",
      "Annotation: █████████████████████████   13/14 ( 92%) - Elapsed Time: 0:19:36 - [tbl2asn-forever] Found Prokka input, correcting dates in .gbf|.sqn files.\n",
      "[tbl2asn-forever] Correcting dates in Annotation/tmp_files/GCF_022592155.1_ASM2259215v1_genomic.fna_prokka-split5N.fna-prokkaRes/EsMa.0824.00009.gbf\n",
      "Annotation: █████████████████████████   13/14 ( 92%) - Elapsed Time: 0:19:37 - [tbl2asn-forever] Correcting dates in Annotation/tmp_files/GCF_022592155.1_ASM2259215v1_genomic.fna_prokka-split5N.fna-prokkaRes/EsMa.0824.00009.sqn\n",
      "Annotation: █████████████████████████   13/14 ( 92%) - Elapsed Time: 0:19:38 - [tbl2asn-forever] Dates changed from 01-JAN-2019 to 25-AUG-2024\n",
      "Annotation: ███████████████████████████ 14/14 (100%) - Elapsed Time: 0:19:40 - \n",
      "\u001b[32m  * [2024-08-25 18:53:39] : INFO \u001b[0m Formatting all genomes\u001b[0m\n",
      "Formatting genomes: ██████████████████████ 14/14 (100%) - Elapsed Time: 0:00:02\n",
      "\u001b[32m  * [2024-08-25 18:53:42] : INFO \u001b[0m Annotation step done.\u001b[0m\n"
     ]
    }
   ],
   "source": [
    "! PanACoTA annotate -d Escherichia_marmotae/Database_init/ -r Annotation -n EsMa -l listFile --threads 24"
   ]
  },
  {
   "cell_type": "markdown",
   "metadata": {},
   "source": [
    "Let's see what we got as a result of the annotation"
   ]
  },
  {
   "cell_type": "code",
   "execution_count": 5,
   "metadata": {},
   "outputs": [
    {
     "name": "stdout",
     "output_type": "stream",
     "text": [
      "Genes\t\t\t\t\tQC_L90-listFile.png\n",
      "LSTINFO\t\t\t\t\tQC_nb-contigs-listFile.png\n",
      "LSTINFO-.lst\t\t\t\tReplicons\n",
      "PanACoTA-annotate_listFile.log\t\tdiscarded-.lst\n",
      "PanACoTA-annotate_listFile.log.details\tgff3\n",
      "PanACoTA-annotate_listFile.log.err\ttmp_files\n",
      "Proteins\n"
     ]
    }
   ],
   "source": [
    "! ls Annotation"
   ]
  },
  {
   "cell_type": "markdown",
   "metadata": {},
   "source": [
    "We now have an `Annotation` folder, and in it: `Proteins`, `Genes`, `Replicons`, `gff3`, `LSTINFO`"
   ]
  },
  {
   "cell_type": "markdown",
   "metadata": {},
   "source": [
    "#### **Step 2.1. `Proteins` directory**"
   ]
  },
  {
   "cell_type": "markdown",
   "metadata": {},
   "source": [
    "Let's look at the `Annotation/Proteins/` directory, what is stored in it?"
   ]
  },
  {
   "cell_type": "code",
   "execution_count": 6,
   "metadata": {},
   "outputs": [
    {
     "name": "stdout",
     "output_type": "stream",
     "text": [
      "EsMa.0824.00001.prt  EsMa.0824.00006.prt  EsMa.0824.00011.prt\n",
      "EsMa.0824.00002.prt  EsMa.0824.00007.prt  EsMa.0824.00012.prt\n",
      "EsMa.0824.00003.prt  EsMa.0824.00008.prt  EsMa.0824.00013.prt\n",
      "EsMa.0824.00004.prt  EsMa.0824.00009.prt  EsMa.0824.00014.prt\n",
      "EsMa.0824.00005.prt  EsMa.0824.00010.prt  EsMa.All.prt\n"
     ]
    }
   ],
   "source": [
    "! ls Annotation/Proteins/"
   ]
  },
  {
   "cell_type": "markdown",
   "metadata": {},
   "source": [
    "So, we have 15 files in this folder (14 files for each organism and 1 common file)\n",
    "- `EsMa` is the name we set in the `-n` key.\n",
    "- `0824` is the launch ID - August 24.\n",
    "- `00001-00014` - organism sequence number (IMPORTANT: the files are not always in the exact order in which they were uploaded to listFile)<br>\n",
    "\n",
    "Let's take a look at `Annotation/Proteins/EsMa.0824.00001.prt`"
   ]
  },
  {
   "cell_type": "code",
   "execution_count": 7,
   "metadata": {},
   "outputs": [
    {
     "name": "stdout",
     "output_type": "stream",
     "text": [
      ">EsMa.0824.00001.0001b_00001 2463 thrA | Bifunctional aspartokinase/homoserine dehydrogenase 1 | NA | similar to AA sequence:UniProtKB:P00561 | COG:COG0460\n",
      "MRVLKFGGTSVANAERFLRVADILESNARQGQVATVLSAPAKITNHLVAMIEKTISGQDA\n",
      "LPNISDAERIFAELLTGLAAAQPGFPLAQLKTFVDQEFAQIKHVLHGISLLGQCPDSINA\n",
      "ALICRGEKMSIAIMAGVLEARGHNVTVIDPVEKLLAVGHYLESTVDIAESTRRIAASRIP\n",
      "ADHMVLMAGFTAGNEKGELVVLGRNGSDYSAAVLAACLRADCCEIWTDVDGVYTCDPRQV\n",
      "PDARLLKSMSYQEAMELSYFGAKVLHPRTITPIAQFQIPCLIKNTGNPQAPGTLIGASRD\n",
      "EDELPVKGISNLNNMAMFSVSGPGMKGMVGMAARVFAAMSRARISVVLITQSSSEYSISF\n",
      "CVPQSDCVRAERAMQEEFYLELKEGLLEPLAVTERLAIISVVGDGMRTLRGISAKFFAAL\n",
      "ARANINIVAIAQGSSERSISVVVNNDDATTGVRVTHQMLFNTDQVIEVFVIGVGGVGGAL\n",
      "LEQLKRQQSWLKNKHIDLRVCGVANSKALLTSVHGLNLENWQEELAQAKEPFNLGRLIRL\n"
     ]
    }
   ],
   "source": [
    "! head -10 Annotation/Proteins/EsMa.0824.00001.prt"
   ]
  },
  {
   "cell_type": "markdown",
   "metadata": {},
   "source": [
    "And inside each `.prt` file, we see the amino acid sequences of all the proteins that `PanACoTA` predicted for us!\n",
    "Let's turn our attention to line 1:"
   ]
  },
  {
   "cell_type": "code",
   "execution_count": 8,
   "metadata": {},
   "outputs": [
    {
     "name": "stdout",
     "output_type": "stream",
     "text": [
      ">EsMa.0824.00001.0001b_00001 2463 thrA | Bifunctional aspartokinase/homoserine dehydrogenase 1 | NA | similar to AA sequence:UniProtKB:P00561 | COG:COG0460\n"
     ]
    }
   ],
   "source": [
    "! head -1 Annotation/Proteins/EsMa.0824.00001.prt"
   ]
  },
  {
   "cell_type": "markdown",
   "metadata": {},
   "source": [
    "- `>EsMa.0824.00001.` - the name of the genome in the `PanACoTA`'s annotation\n",
    "- `0001b` - replicon number\n",
    "- `_00001` - frame number\n",
    "- `2463` - length\n",
    "- `thrA` - protein's name\n",
    "- `Bifunctional aspartokinase/homoserine dehydrogenase 1` - protein's function\n",
    "- `similar to AA sequence:UniProtKB:P00561` - the basis for predicting the protein and its function\n",
    "- `COG:COG0460` - COG ID"
   ]
  },
  {
   "cell_type": "markdown",
   "metadata": {},
   "source": [
    "#### **Step 2.2. `LSTINFO-.lst` file**"
   ]
  },
  {
   "cell_type": "markdown",
   "metadata": {},
   "source": [
    "Now, let's look at the `Annotation/LSTINFO-.lst` file"
   ]
  },
  {
   "cell_type": "code",
   "execution_count": 9,
   "metadata": {},
   "outputs": [
    {
     "name": "stdout",
     "output_type": "stream",
     "text": [
      "gembase_name\torig_name\tto_annotate\tgsize\tnb_conts\tL90\n",
      "EsMa.0824.00001\tGCF_000007405.1_ASM740v1_genomic.fna\tAnnotation/tmp_files/GCF_000007405.1_ASM740v1_genomic.fna_prokka-split5N.fna\t4599354\t1\t1\n",
      "EsMa.0824.00002\tGCF_900636405.1_41767_E01_genomic.fna\tAnnotation/tmp_files/GCF_900636405.1_41767_E01_genomic.fna_prokka-split5N.fna\t4857140\t1\t1\n",
      "EsMa.0824.00003\tGCF_900637015.1_46514_C01_genomic.fna\tAnnotation/tmp_files/GCF_900637015.1_46514_C01_genomic.fna_prokka-split5N.fna\t4450344\t1\t1\n",
      "EsMa.0824.00004\tGCF_013636045.1_ASM1363604v1_genomic.fna\tAnnotation/tmp_files/GCF_013636045.1_ASM1363604v1_genomic.fna_prokka-split5N.fna\t4637518\t2\t1\n",
      "EsMa.0824.00005\tGCF_029962465.1_ASM2996246v1_genomic.fna\tAnnotation/tmp_files/GCF_029962465.1_ASM2996246v1_genomic.fna_prokka-split5N.fna\t4669757\t2\t1\n",
      "EsMa.0824.00006\tGCF_002900365.1_ASM290036v1_genomic.fna\tAnnotation/tmp_files/GCF_002900365.1_ASM290036v1_genomic.fna_prokka-split5N.fna\t4896291\t3\t1\n",
      "EsMa.0824.00007\tGCF_013636235.1_ASM1363623v1_genomic.fna\tAnnotation/tmp_files/GCF_013636235.1_ASM1363623v1_genomic.fna_prokka-split5N.fna\t4981845\t3\t1\n",
      "EsMa.0824.00008\tGCF_013745515.1_ASM1374551v1_genomic.fna\tAnnotation/tmp_files/GCF_013745515.1_ASM1374551v1_genomic.fna_prokka-split5N.fna\t4887958\t3\t1\n",
      "EsMa.0824.00009\tGCF_022592155.1_ASM2259215v1_genomic.fna\tAnnotation/tmp_files/GCF_022592155.1_ASM2259215v1_genomic.fna_prokka-split5N.fna\t5200167\t3\t1\n",
      "EsMa.0824.00010\tGCF_013746655.1_ASM1374665v1_genomic.fna\tAnnotation/tmp_files/GCF_013746655.1_ASM1374665v1_genomic.fna_prokka-split5N.fna\t5094503\t4\t1\n",
      "EsMa.0824.00011\tGCF_037055335.1_ASM3705533v1_genomic.fna\tAnnotation/tmp_files/GCF_037055335.1_ASM3705533v1_genomic.fna_prokka-split5N.fna\t5022908\t4\t1\n",
      "EsMa.0824.00012\tGCF_029719265.1_ASM2971926v1_genomic.fna\tAnnotation/tmp_files/GCF_029719265.1_ASM2971926v1_genomic.fna_prokka-split5N.fna\t5075061\t5\t1\n",
      "EsMa.0824.00013\tGCF_013732895.1_ASM1373289v1_genomic.fna\tAnnotation/tmp_files/GCF_013732895.1_ASM1373289v1_genomic.fna_prokka-split5N.fna\t5083937\t6\t1\n",
      "EsMa.0824.00014\tGCF_029717905.1_ASM2971790v1_genomic.fna\tAnnotation/tmp_files/GCF_029717905.1_ASM2971790v1_genomic.fna_prokka-split5N.fna\t4780041\t7\t1\n"
     ]
    }
   ],
   "source": [
    "! cat Annotation/LSTINFO-.lst"
   ]
  },
  {
   "cell_type": "markdown",
   "metadata": {},
   "source": [
    "- `EsMa.0824.00001` - the name that `PanACoTA` renamed the file to (by `-n` key)\n",
    "- `GCF_000007405.1_ASM740v1_genomic.fna` - the name from which `PanACoTA` was renaming\n",
    "- `Annotation/tmp_files/GCF_000007405.1_ASM740v1_genomic.fna_prokka-split5N.fna`- a folder containing what `PanACoTA` eventually annotated\n",
    "- `4599354` - genome size"
   ]
  },
  {
   "cell_type": "markdown",
   "metadata": {},
   "source": [
    "#### **Step 2.3. `Genes` directory**"
   ]
  },
  {
   "cell_type": "markdown",
   "metadata": {},
   "source": [
    "Let's take a look at the contents of the `Genes` directory"
   ]
  },
  {
   "cell_type": "code",
   "execution_count": 10,
   "metadata": {},
   "outputs": [
    {
     "name": "stdout",
     "output_type": "stream",
     "text": [
      "EsMa.0824.00001.gen  EsMa.0824.00006.gen  EsMa.0824.00011.gen\n",
      "EsMa.0824.00002.gen  EsMa.0824.00007.gen  EsMa.0824.00012.gen\n",
      "EsMa.0824.00003.gen  EsMa.0824.00008.gen  EsMa.0824.00013.gen\n",
      "EsMa.0824.00004.gen  EsMa.0824.00009.gen  EsMa.0824.00014.gen\n",
      "EsMa.0824.00005.gen  EsMa.0824.00010.gen\n"
     ]
    }
   ],
   "source": [
    "! ls Annotation/Genes/"
   ]
  },
  {
   "cell_type": "markdown",
   "metadata": {},
   "source": [
    "So we have 14 files in this folder (14 files for each organism)"
   ]
  },
  {
   "cell_type": "code",
   "execution_count": 11,
   "metadata": {},
   "outputs": [
    {
     "name": "stdout",
     "output_type": "stream",
     "text": [
      ">EsMa.0824.00001.0001b_00001 2463 thrA | Bifunctional aspartokinase/homoserine dehydrogenase 1 | NA | similar to AA sequence:UniProtKB:P00561 | COG:COG0460\n",
      "ATGCGAGTGTTGAAGTTCGGCGGTACATCAGTGGCAAATGCAGAACGTTTTCTGCGTGTT\n",
      "GCCGATATTCTGGAAAGCAATGCCAGGCAGGGGCAGGTGGCCACCGTCCTCTCTGCCCCC\n",
      "GCCAAAATCACCAACCACCTGGTGGCGATGATTGAAAAAACCATTAGCGGCCAGGATGCT\n",
      "TTACCCAATATCAGCGATGCCGAACGTATTTTTGCCGAACTTTTGACGGGACTCGCCGCC\n",
      "GCCCAGCCGGGGTTCCCGCTGGCGCAATTGAAAACTTTCGTCGATCAGGAATTTGCCCAA\n",
      "ATAAAACATGTCCTGCATGGCATTAGTTTGTTGGGGCAGTGCCCGGATAGCATCAACGCT\n",
      "GCGCTGATTTGCCGTGGCGAGAAAATGTCGATCGCCATTATGGCCGGCGTGTTAGAAGCG\n",
      "CGTGGTCACAACGTTACCGTTATCGATCCGGTCGAAAAACTGCTGGCAGTGGGGCATTAC\n",
      "CTCGAATCTACCGTCGATATTGCTGAGTCCACCCGCCGTATTGCGGCAAGCCGCATTCCG\n"
     ]
    }
   ],
   "source": [
    "! head -10 Annotation/Genes/EsMa.0824.00001.gen"
   ]
  },
  {
   "cell_type": "markdown",
   "metadata": {},
   "source": [
    "So here we have nucleotide sequences! The names of genes and proteins are the same!"
   ]
  },
  {
   "cell_type": "markdown",
   "metadata": {},
   "source": [
    "#### **Step 2.4. `Replicons` directory**"
   ]
  },
  {
   "cell_type": "markdown",
   "metadata": {},
   "source": [
    "We also have a directory called `Replicons`, but it's a boring directory that just holds actually the original nucleotide sequences, but just under code numbers specified in the `-n` key"
   ]
  },
  {
   "cell_type": "code",
   "execution_count": 12,
   "metadata": {},
   "outputs": [
    {
     "name": "stdout",
     "output_type": "stream",
     "text": [
      "EsMa.0824.00001.fna  EsMa.0824.00006.fna  EsMa.0824.00011.fna\n",
      "EsMa.0824.00002.fna  EsMa.0824.00007.fna  EsMa.0824.00012.fna\n",
      "EsMa.0824.00003.fna  EsMa.0824.00008.fna  EsMa.0824.00013.fna\n",
      "EsMa.0824.00004.fna  EsMa.0824.00009.fna  EsMa.0824.00014.fna\n",
      "EsMa.0824.00005.fna  EsMa.0824.00010.fna\n"
     ]
    }
   ],
   "source": [
    "! ls Annotation/Replicons/"
   ]
  },
  {
   "cell_type": "code",
   "execution_count": 13,
   "metadata": {},
   "outputs": [
    {
     "name": "stdout",
     "output_type": "stream",
     "text": [
      ">EsMa.0824.00001.0001 4599354\n",
      "AGCTTTTCATTCTGACTGCAACGGGCAATATGTCTCTGTGTGGATTAAAAAAAGAGTGTC\n",
      "TGATAGCAGCTTCTGAACTGGTTACCTGCCGTGAGTAAATTAAAATTTTATTGACTTAGG\n",
      "TCACTAAATACTTTAACCAATATAGGCATAGCGCACAGACAGATAAAAATTACAGAGTAC\n",
      "ACAACATCCATGAAACGCATTAGCACCACCATTACCACCACCATCACCATTACCACAGGT\n",
      "AACGGTGCGGGCTGACGCGTACAGGAAACACAGAAAAAAGCCCGCACCTGACAGTGCGGG\n",
      "CTTTTTTTTCGACCAAAGGTAACGAGGTAACAACCATGCGAGTGTTGAAGTTCGGCGGTA\n",
      "CATCAGTGGCAAATGCAGAACGTTTTCTGCGTGTTGCCGATATTCTGGAAAGCAATGCCA\n",
      "GGCAGGGGCAGGTGGCCACCGTCCTCTCTGCCCCCGCCAAAATCACCAACCACCTGGTGG\n",
      "CGATGATTGAAAAAACCATTAGCGGCCAGGATGCTTTACCCAATATCAGCGATGCCGAAC\n"
     ]
    }
   ],
   "source": [
    "! head Annotation/Replicons/EsMa.0824.00001.fna"
   ]
  },
  {
   "cell_type": "markdown",
   "metadata": {},
   "source": [
    "#### **Step 2.5. `LSTINFO` directory**"
   ]
  },
  {
   "cell_type": "markdown",
   "metadata": {},
   "source": [
    "And we have a directory called `LSTINFO`"
   ]
  },
  {
   "cell_type": "code",
   "execution_count": 14,
   "metadata": {},
   "outputs": [
    {
     "name": "stdout",
     "output_type": "stream",
     "text": [
      "EsMa.0824.00001.lst  EsMa.0824.00006.lst  EsMa.0824.00011.lst\n",
      "EsMa.0824.00002.lst  EsMa.0824.00007.lst  EsMa.0824.00012.lst\n",
      "EsMa.0824.00003.lst  EsMa.0824.00008.lst  EsMa.0824.00013.lst\n",
      "EsMa.0824.00004.lst  EsMa.0824.00009.lst  EsMa.0824.00014.lst\n",
      "EsMa.0824.00005.lst  EsMa.0824.00010.lst\n"
     ]
    }
   ],
   "source": [
    "! ls Annotation/LSTINFO/"
   ]
  },
  {
   "cell_type": "code",
   "execution_count": 16,
   "metadata": {},
   "outputs": [
    {
     "name": "stdout",
     "output_type": "stream",
     "text": [
      "336\t2798\tD\tCDS\tEsMa.0824.00001.0001b_00001\tthrA\t| Bifunctional aspartokinase/homoserine dehydrogenase 1 | NA | similar to AA sequence:UniProtKB:P00561 | COG:COG0460\n",
      "2800\t3732\tD\tCDS\tEsMa.0824.00001.0001i_00002\tthrB\t| Homoserine kinase | 2.7.1.39 | similar to AA sequence:UniProtKB:P00547 | COG:COG0083\n",
      "3733\t5019\tD\tCDS\tEsMa.0824.00001.0001i_00003\tthrC\t| Threonine synthase | 4.2.3.1 | similar to AA sequence:UniProtKB:P00934 | COG:COG0498\n",
      "5233\t5529\tD\tCDS\tEsMa.0824.00001.0001i_00004\tNA\t| hypothetical protein | NA | NA | NA\n",
      "5682\t6458\tC\tCDS\tEsMa.0824.00001.0001i_00005\tyaaA\t| Peroxide stress resistance protein YaaA | NA | similar to AA sequence:UniProtKB:P0A8I3 | COG:COG3022\n",
      "6528\t6896\tC\tCDS\tEsMa.0824.00001.0001i_00006\talsT_1\t| Amino-acid carrier protein AlsT | NA | similar to AA sequence:UniProtKB:Q45068 | COG:COG1115\n",
      "6918\t7958\tC\tCDS\tEsMa.0824.00001.0001i_00007\talsT_2\t| Amino-acid carrier protein AlsT | NA | similar to AA sequence:UniProtKB:Q45068 | COG:COG1115\n",
      "8237\t9190\tD\tCDS\tEsMa.0824.00001.0001i_00008\ttalB\t| Transaldolase B | 2.2.1.2 | similar to AA sequence:UniProtKB:P0A870 | COG:COG0176\n",
      "9305\t9892\tD\tCDS\tEsMa.0824.00001.0001i_00009\tmog\t| Molybdopterin adenylyltransferase | 2.7.7.75 | similar to AA sequence:UniProtKB:P0AF03 | COG:COG0521\n",
      "9927\t10493\tC\tCDS\tEsMa.0824.00001.0001i_00010\tsatP\t| Succinate-acetate/proton symporter SatP | NA | similar to AA sequence:UniProtKB:P0AC98 | COG:COG1584\n"
     ]
    }
   ],
   "source": [
    "! head -10 Annotation/LSTINFO/EsMa.0824.00001.lst"
   ]
  },
  {
   "cell_type": "markdown",
   "metadata": {},
   "source": [
    "This is a tabular format of all annotated features in the organism!\n",
    "This is especially convenient if we work with genomes using programming languages (e.g. `Python` and `pandas`)"
   ]
  },
  {
   "cell_type": "markdown",
   "metadata": {},
   "source": [
    "#### **Step 2.6. `tmp_files` directory**"
   ]
  },
  {
   "cell_type": "code",
   "execution_count": 39,
   "metadata": {},
   "outputs": [
    {
     "name": "stdout",
     "output_type": "stream",
     "text": [
      "GCF_000007405.1_ASM740v1_genomic.fna_prokka-split5N.fna\n",
      "GCF_000007405.1_ASM740v1_genomic.fna_prokka-split5N.fna-prokka.log\n",
      "GCF_000007405.1_ASM740v1_genomic.fna_prokka-split5N.fna-prokkaRes\n",
      "GCF_002900365.1_ASM290036v1_genomic.fna_prokka-split5N.fna\n",
      "GCF_002900365.1_ASM290036v1_genomic.fna_prokka-split5N.fna-prokka.log\n",
      "GCF_002900365.1_ASM290036v1_genomic.fna_prokka-split5N.fna-prokkaRes\n",
      "GCF_013636045.1_ASM1363604v1_genomic.fna_prokka-split5N.fna\n",
      "GCF_013636045.1_ASM1363604v1_genomic.fna_prokka-split5N.fna-prokka.log\n",
      "GCF_013636045.1_ASM1363604v1_genomic.fna_prokka-split5N.fna-prokkaRes\n",
      "GCF_013636235.1_ASM1363623v1_genomic.fna_prokka-split5N.fna\n"
     ]
    }
   ],
   "source": [
    "! ls -U Annotation/tmp_files/ | head -10"
   ]
  },
  {
   "cell_type": "markdown",
   "metadata": {},
   "source": [
    "The `tmp_files` directory contains logs on temporary files<br>\n",
    "What is it for?<br>\n",
    "If, let's say, something that should be there is not found in the genome under study, the first thing to do is to study these files - most likely `prokka` crashed with an error and you can read the details in these temporary files"
   ]
  },
  {
   "cell_type": "markdown",
   "metadata": {},
   "source": [
    "### **Step 3: Build orthological series**"
   ]
  },
  {
   "cell_type": "markdown",
   "metadata": {},
   "source": [
    "This command builds the pangenome<br>\n",
    "Let's also break down the command below in parts:\n",
    "- `PanACoTA` - the name of the programme we are running\n",
    "- `pangenome` - module of this programme that builds the pangenome\n",
    "- By key `-l` we pass the `LSTINFO-.lst` file from the **Step 2.2.**\n",
    "- By key `-n` we pass the four-character name for the data, which was set previously\n",
    "- By key `-d` we pass the directory with the proteins (since `PanACoTA` builds the pangenome by protein sequence similarity, it only needs the protein directory)\n",
    "- By key `-o` we specify where to store the output files\n",
    "- By the key `-i` we establish the level of similarity (identity) of the sequences"
   ]
  },
  {
   "cell_type": "code",
   "execution_count": 19,
   "metadata": {},
   "outputs": [
    {
     "name": "stdout",
     "output_type": "stream",
     "text": [
      "\u001b[32m  * [2024-08-25 18:54:07] : INFO \u001b[0m PanACoTA version 1.4.0\u001b[0m\n",
      "\u001b[32m  * [2024-08-25 18:54:07] : INFO \u001b[0m Command used\n",
      " \t > PanACoTA pangenome -l Annotation/LSTINFO-.lst -n EsMa -d Annotation/Proteins/ -o Pangenome -i 0.8\u001b[0m\n",
      "\u001b[32m  * [2024-08-25 18:54:07] : INFO \u001b[0m Building bank with all proteins to Annotation/Proteins/EsMa.All.prt\u001b[0m\n",
      "Building bank: ███████████████████████████ 14/14 (100%) - Elapsed Time: 0:00:00\n",
      "\u001b[32m  * [2024-08-25 18:54:08] : INFO \u001b[0m Will run MMseqs2 with:\n",
      "\t- minimum sequence identity = 80.0%\n",
      "\t- cluster mode 1\u001b[0m\n",
      "\u001b[32m  * [2024-08-25 18:54:08] : INFO \u001b[0m Creating database\u001b[0m\n",
      "|            ◐         |  -  Elapsed Time: 0:00:03\n",
      "\u001b[32m  * [2024-08-25 18:54:11] : INFO \u001b[0m Clustering proteins...\u001b[0m\n",
      "|                   ◐  |  -  Elapsed Time: 0:00:23\n",
      "\u001b[32m  * [2024-08-25 18:54:36] : INFO \u001b[0m Converting mmseqs results to pangenome file\u001b[0m\n",
      "\u001b[32m  * [2024-08-25 18:54:36] : INFO \u001b[0m Pangenome has 9694 families.\u001b[0m\n",
      "\u001b[32m  * [2024-08-25 18:54:36] : INFO \u001b[0m Retrieving information from pan families\u001b[0m\n",
      "\u001b[32m  * [2024-08-25 18:54:36] : INFO \u001b[0m Generating qualitative and quantitative matrix, and summary file\u001b[0m\n",
      "\u001b[32m  * [2024-08-25 18:54:37] : INFO \u001b[0m DONE\u001b[0m\n"
     ]
    }
   ],
   "source": [
    "! PanACoTA pangenome -l Annotation/LSTINFO-.lst -n EsMa -d Annotation/Proteins/ -o Pangenome -i 0.8 "
   ]
  },
  {
   "cell_type": "markdown",
   "metadata": {},
   "source": [
    "Let's take a look at the log file"
   ]
  },
  {
   "cell_type": "code",
   "execution_count": 1,
   "metadata": {},
   "outputs": [
    {
     "name": "stdout",
     "output_type": "stream",
     "text": [
      "[2024-08-25 18:54:07] :: INFO :: PanACoTA version 1.4.0\n",
      "[2024-08-25 18:54:07] :: INFO :: Command used\n",
      " \t > PanACoTA pangenome -l Annotation/LSTINFO-.lst -n EsMa -d Annotation/Proteins/ -o Pangenome -i 0.8\n",
      "[2024-08-25 18:54:07] :: INFO :: Building bank with all proteins to Annotation/Proteins/EsMa.All.prt\n",
      "[2024-08-25 18:54:08] :: INFO :: Will run MMseqs2 with:\n",
      "\t- minimum sequence identity = 80.0%\n",
      "\t- cluster mode 1\n",
      "[2024-08-25 18:54:08] :: INFO :: Creating database\n",
      "[2024-08-25 18:54:11] :: INFO :: Clustering proteins...\n",
      "[2024-08-25 18:54:36] :: INFO :: Converting mmseqs results to pangenome file\n",
      "[2024-08-25 18:54:36] :: INFO :: Pangenome has 9694 families.\n",
      "[2024-08-25 18:54:36] :: INFO :: Retrieving information from pan families\n",
      "[2024-08-25 18:54:36] :: INFO :: Generating qualitative and quantitative matrix, and summary file\n",
      "[2024-08-25 18:54:37] :: INFO :: DONE\n"
     ]
    }
   ],
   "source": [
    "! cat Pangenome/PanACoTA-pangenome_EsMa.log"
   ]
  },
  {
   "cell_type": "markdown",
   "metadata": {},
   "source": [
    "`Pangenome has 9694 families.`<br>\n",
    "That is, in this command, `PanACoTA` counted a total of `9694` protein families."
   ]
  },
  {
   "cell_type": "markdown",
   "metadata": {},
   "source": [
    "In this step, we took the annotated genomes, we took the proteins from them<br>\n",
    "And then the orthology table is constructed with them<br>\n",
    "The outcome of this step will be lists of genes grouped together<br>\n",
    "As output, we're going to see a bunch of logs, and one single table"
   ]
  },
  {
   "cell_type": "code",
   "execution_count": 17,
   "metadata": {},
   "outputs": [
    {
     "name": "stdout",
     "output_type": "stream",
     "text": [
      "PanACoTA-pangenome_EsMa.log\n",
      "PanACoTA-pangenome_EsMa.log.details\n",
      "PanACoTA-pangenome_EsMa.log.err\n",
      "PanGenome-EsMa.All.prt-clust-0.8-mode1.lst\n",
      "PanGenome-EsMa.All.prt-clust-0.8-mode1.lst.bin\n",
      "PanGenome-EsMa.All.prt-clust-0.8-mode1.lst.quali.txt\n",
      "PanGenome-EsMa.All.prt-clust-0.8-mode1.lst.quanti.txt\n",
      "PanGenome-EsMa.All.prt-clust-0.8-mode1.lst.summary.txt\n",
      "mmseq_EsMa.All.prt_0.8-mode1.log\n",
      "tmp_EsMa.All.prt_0.8-mode1\n"
     ]
    }
   ],
   "source": [
    "! ls Pangenome/"
   ]
  },
  {
   "cell_type": "markdown",
   "metadata": {},
   "source": [
    "The only file of interest is `PanGenome-EsMa.All.prt-clust-0.8-mode1.lst`<br>\n",
    "Let's take a look at it"
   ]
  },
  {
   "cell_type": "code",
   "execution_count": 18,
   "metadata": {},
   "outputs": [
    {
     "name": "stdout",
     "output_type": "stream",
     "text": [
      "1 EsMa.0824.00001.0001i_04241 EsMa.0824.00002.0001i_00106 EsMa.0824.00003.0001i_00093 EsMa.0824.00004.0001i_00095 EsMa.0824.00005.0001i_00094 EsMa.0824.00006.0001i_03340 EsMa.0824.00007.0001i_02672 EsMa.0824.00008.0001i_00094 EsMa.0824.00009.0001i_00094 EsMa.0824.00010.0001i_04572 EsMa.0824.00011.0001i_02424 EsMa.0824.00012.0001i_02999 EsMa.0824.00013.0001i_02846 EsMa.0824.00014.0001i_00094\n",
      "2 EsMa.0824.00001.0001i_03873 EsMa.0824.00002.0001i_00130 EsMa.0824.00003.0001i_00117 EsMa.0824.00004.0001i_00119 EsMa.0824.00005.0001i_00118 EsMa.0824.00006.0001i_03364 EsMa.0824.00007.0001i_02648 EsMa.0824.00008.0001i_00118 EsMa.0824.00009.0001i_00126 EsMa.0824.00010.0001i_04604 EsMa.0824.00011.0001i_02400 EsMa.0824.00012.0001i_03032 EsMa.0824.00013.0001i_02821 EsMa.0824.00014.0001i_00126\n",
      "3 EsMa.0824.00008.0002i_04583 EsMa.0824.00010.0002i_04636 EsMa.0824.00012.0002i_04658\n",
      "4 EsMa.0824.00008.0002i_04649 EsMa.0824.00010.0002i_04668 EsMa.0824.00012.0002i_04736\n",
      "5 EsMa.0824.00007.0003i_04731 EsMa.0824.00008.0002i_04616 EsMa.0824.00010.0002i_04700 EsMa.0824.00012.0002i_04701 EsMa.0824.00012.0003i_04789\n",
      "6 EsMa.0824.00010.0003i_04833\n",
      "7 EsMa.0824.00001.0001i_02181 EsMa.0824.00002.0001i_02692 EsMa.0824.00003.0001i_02407 EsMa.0824.00004.0001i_02595 EsMa.0824.00005.0001i_02480 EsMa.0824.00006.0001i_00413 EsMa.0824.00007.0001i_00212 EsMa.0824.00008.0001i_02711 EsMa.0824.00009.0001i_02866 EsMa.0824.00010.0001i_02477 EsMa.0824.00011.0001i_00009 EsMa.0824.00011.0001i_04359 EsMa.0824.00012.0001i_01000 EsMa.0824.00013.0001i_01030 EsMa.0824.00014.0001i_02416\n",
      "8 EsMa.0824.00005.0001i_02448 EsMa.0824.00011.0001i_00041 EsMa.0824.00011.0001i_04391 EsMa.0824.00011.0001i_04451\n",
      "9 EsMa.0824.00002.0001i_03089 EsMa.0824.00003.0001i_02788 EsMa.0824.00005.0001i_02414 EsMa.0824.00008.0001i_02644 EsMa.0824.00008.0001i_02862 EsMa.0824.00011.0001i_00075 EsMa.0824.00011.0001i_04425 EsMa.0824.00011.0001i_04485 EsMa.0824.00014.0001i_02479\n",
      "10 EsMa.0824.00001.0001i_02131 EsMa.0824.00002.0001i_02651 EsMa.0824.00003.0001i_02366 EsMa.0824.00004.0001i_02431 EsMa.0824.00005.0001i_02379 EsMa.0824.00006.0001i_00454 EsMa.0824.00007.0001i_00253 EsMa.0824.00008.0001i_02607 EsMa.0824.00009.0001i_02686 EsMa.0824.00010.0001i_02436 EsMa.0824.00011.0001i_00110 EsMa.0824.00012.0001i_00951 EsMa.0824.00013.0001i_00978 EsMa.0824.00014.0001i_02375\n"
     ]
    }
   ],
   "source": [
    "! head -10 Pangenome/PanGenome-EsMa.All.prt-clust-0.8-mode1.lst"
   ]
  },
  {
   "cell_type": "markdown",
   "metadata": {},
   "source": [
    "In this file, each line corresponds to one orthologous row<br>\n",
    "The identifiers of all the genes that fall into this row are written in the line with a separator<br>\n",
    "For example, in line 6 we have one gene - it means that it is a singleton (it is so one, and no one has anything similar)<br>\n",
    "Long rows are orthologous groups with many genes in them"
   ]
  },
  {
   "cell_type": "markdown",
   "metadata": {},
   "source": [
    "Further after this step, from the orthologous series, we identify the `core` - that is, the genes encoding proteins that occur in a single copy in each genome"
   ]
  },
  {
   "cell_type": "markdown",
   "metadata": {},
   "source": [
    "### **Step 4: Extract pangenome**"
   ]
  },
  {
   "cell_type": "markdown",
   "metadata": {},
   "source": [
    "Let's also break down the command below in parts:\n",
    "- `PanACoTA` - the name of the programme we are running\n",
    "- `corepers` - module of this programme that identifies and extracts `core`\n",
    "- By key `-p` we pass the `PanGenome-EsMa.All.prt-clust-0.8-mode1.lst` file\n",
    "- By key `-o` we specify where to store the output files"
   ]
  },
  {
   "cell_type": "code",
   "execution_count": 20,
   "metadata": {},
   "outputs": [
    {
     "name": "stdout",
     "output_type": "stream",
     "text": [
      "\u001b[32m  * [2024-08-25 18:54:45] : INFO \u001b[0m PanACoTA version 1.4.0\u001b[0m\n",
      "\u001b[32m  * [2024-08-25 18:54:45] : INFO \u001b[0m Command used\n",
      " \t > PanACoTA corepers -p Pangenome/PanGenome-EsMa.All.prt-clust-0.8-mode1.lst -o Coregenome\u001b[0m\n",
      "\u001b[32m  * [2024-08-25 18:54:45] : INFO \u001b[0m Will generate a CoreGenome.\u001b[0m\n",
      "\u001b[32m  * [2024-08-25 18:54:45] : INFO \u001b[0m Retrieving info from binary file\u001b[0m\n",
      "\u001b[32m  * [2024-08-25 18:54:45] : INFO \u001b[0m Generating Persistent genome of a dataset containing 14 genomes\u001b[0m\n",
      "\u001b[32m  * [2024-08-25 18:54:45] : INFO \u001b[0m The core genome contains 2709 families, each one having exactly 14 members, from the 14 different genomes.\u001b[0m\n",
      "\u001b[32m  * [2024-08-25 18:54:45] : INFO \u001b[0m Persistent genome step done.\u001b[0m\n"
     ]
    }
   ],
   "source": [
    "! PanACoTA corepers -p Pangenome/PanGenome-EsMa.All.prt-clust-0.8-mode1.lst -o Coregenome"
   ]
  },
  {
   "cell_type": "markdown",
   "metadata": {},
   "source": [
    "Let's look at the log file"
   ]
  },
  {
   "cell_type": "code",
   "execution_count": 2,
   "metadata": {},
   "outputs": [
    {
     "name": "stdout",
     "output_type": "stream",
     "text": [
      "[2024-08-25 18:54:45] :: INFO :: PanACoTA version 1.4.0\n",
      "[2024-08-25 18:54:45] :: INFO :: Command used\n",
      " \t > PanACoTA corepers -p Pangenome/PanGenome-EsMa.All.prt-clust-0.8-mode1.lst -o Coregenome\n",
      "[2024-08-25 18:54:45] :: INFO :: Will generate a CoreGenome.\n",
      "[2024-08-25 18:54:45] :: INFO :: Retrieving info from binary file\n",
      "[2024-08-25 18:54:45] :: INFO :: Generating Persistent genome of a dataset containing 14 genomes\n",
      "[2024-08-25 18:54:45] :: INFO :: The core genome contains 2709 families, each one having exactly 14 members, from the 14 different genomes.\n",
      "[2024-08-25 18:54:45] :: INFO :: Persistent genome step done.\n"
     ]
    }
   ],
   "source": [
    "! cat Coregenome/PanACoTA-corepers.log"
   ]
  },
  {
   "cell_type": "markdown",
   "metadata": {},
   "source": [
    "`The core genome contains 2709 families, each one having exactly 14 members, from the 14 different genomes.`<br>\n",
    "That is, out of `9694` protein families, `2709` are single-copy and universal families"
   ]
  },
  {
   "cell_type": "markdown",
   "metadata": {},
   "source": [
    "Now let's take a look at the output"
   ]
  },
  {
   "cell_type": "code",
   "execution_count": 19,
   "metadata": {},
   "outputs": [
    {
     "name": "stdout",
     "output_type": "stream",
     "text": [
      "PanACoTA-corepers.log\n",
      "PanACoTA-corepers.log.err\n",
      "PersGenome_PanGenome-EsMa.All.prt-clust-0.8-mode1.lst-all_1.lst\n"
     ]
    }
   ],
   "source": [
    "! ls Coregenome/"
   ]
  },
  {
   "cell_type": "markdown",
   "metadata": {},
   "source": [
    "We only have logs and one table - `PersGenome_PanGenome-EsMa.All.prt-clust-0.8-mode1.lst-all_1.lst`<br>\n",
    "Let's take a look at it"
   ]
  },
  {
   "cell_type": "code",
   "execution_count": 20,
   "metadata": {},
   "outputs": [
    {
     "name": "stdout",
     "output_type": "stream",
     "text": [
      "1 EsMa.0824.00001.0001i_04241 EsMa.0824.00002.0001i_00106 EsMa.0824.00003.0001i_00093 EsMa.0824.00004.0001i_00095 EsMa.0824.00005.0001i_00094 EsMa.0824.00006.0001i_03340 EsMa.0824.00007.0001i_02672 EsMa.0824.00008.0001i_00094 EsMa.0824.00009.0001i_00094 EsMa.0824.00010.0001i_04572 EsMa.0824.00011.0001i_02424 EsMa.0824.00012.0001i_02999 EsMa.0824.00013.0001i_02846 EsMa.0824.00014.0001i_00094\n",
      "2 EsMa.0824.00001.0001i_03873 EsMa.0824.00002.0001i_00130 EsMa.0824.00003.0001i_00117 EsMa.0824.00004.0001i_00119 EsMa.0824.00005.0001i_00118 EsMa.0824.00006.0001i_03364 EsMa.0824.00007.0001i_02648 EsMa.0824.00008.0001i_00118 EsMa.0824.00009.0001i_00126 EsMa.0824.00010.0001i_04604 EsMa.0824.00011.0001i_02400 EsMa.0824.00012.0001i_03032 EsMa.0824.00013.0001i_02821 EsMa.0824.00014.0001i_00126\n",
      "10 EsMa.0824.00001.0001i_02131 EsMa.0824.00002.0001i_02651 EsMa.0824.00003.0001i_02366 EsMa.0824.00004.0001i_02431 EsMa.0824.00005.0001i_02379 EsMa.0824.00006.0001i_00454 EsMa.0824.00007.0001i_00253 EsMa.0824.00008.0001i_02607 EsMa.0824.00009.0001i_02686 EsMa.0824.00010.0001i_02436 EsMa.0824.00011.0001i_00110 EsMa.0824.00012.0001i_00951 EsMa.0824.00013.0001i_00978 EsMa.0824.00014.0001i_02375\n",
      "11 EsMa.0824.00001.0001i_02083 EsMa.0824.00002.0001i_02617 EsMa.0824.00003.0001i_02332 EsMa.0824.00004.0001i_02399 EsMa.0824.00005.0001i_02347 EsMa.0824.00006.0001i_00487 EsMa.0824.00007.0001i_00287 EsMa.0824.00008.0001i_02575 EsMa.0824.00009.0001i_02653 EsMa.0824.00010.0001i_02404 EsMa.0824.00011.0001i_00142 EsMa.0824.00012.0001i_00918 EsMa.0824.00013.0001i_00944 EsMa.0824.00014.0001i_02342\n",
      "12 EsMa.0824.00001.0001i_01323 EsMa.0824.00002.0001i_02588 EsMa.0824.00003.0001i_02303 EsMa.0824.00004.0001i_02370 EsMa.0824.00005.0001i_02318 EsMa.0824.00006.0001i_01160 EsMa.0824.00007.0001i_00316 EsMa.0824.00008.0001i_02546 EsMa.0824.00009.0001i_02534 EsMa.0824.00010.0001i_02375 EsMa.0824.00011.0001i_00174 EsMa.0824.00012.0001i_00889 EsMa.0824.00013.0001i_00915 EsMa.0824.00014.0001i_02313\n",
      "14 EsMa.0824.00001.0001i_01389 EsMa.0824.00002.0001i_02519 EsMa.0824.00003.0001i_02241 EsMa.0824.00004.0001i_02307 EsMa.0824.00005.0001i_02256 EsMa.0824.00006.0001i_01096 EsMa.0824.00007.0001i_00379 EsMa.0824.00008.0001i_02424 EsMa.0824.00009.0001i_02389 EsMa.0824.00010.0001i_02244 EsMa.0824.00011.0001i_00240 EsMa.0824.00012.0001i_00759 EsMa.0824.00013.0001i_00851 EsMa.0824.00014.0001i_02250\n",
      "15 EsMa.0824.00001.0001i_01420 EsMa.0824.00002.0001i_02486 EsMa.0824.00003.0001i_02209 EsMa.0824.00004.0001i_02275 EsMa.0824.00005.0001i_02224 EsMa.0824.00006.0001i_01062 EsMa.0824.00007.0001i_00411 EsMa.0824.00008.0001i_02391 EsMa.0824.00009.0001i_02356 EsMa.0824.00010.0001i_02211 EsMa.0824.00011.0001i_00272 EsMa.0824.00012.0001i_00727 EsMa.0824.00013.0001i_00819 EsMa.0824.00014.0001i_02217\n",
      "16 EsMa.0824.00001.0001i_01485 EsMa.0824.00002.0001i_02455 EsMa.0824.00003.0001i_02177 EsMa.0824.00004.0001i_02244 EsMa.0824.00005.0001i_02192 EsMa.0824.00006.0001i_01030 EsMa.0824.00007.0001i_00442 EsMa.0824.00008.0001i_02360 EsMa.0824.00009.0001i_02325 EsMa.0824.00010.0001i_02180 EsMa.0824.00011.0001i_00304 EsMa.0824.00012.0001i_00696 EsMa.0824.00013.0001i_00787 EsMa.0824.00014.0001i_02174\n",
      "20 EsMa.0824.00001.0001i_01791 EsMa.0824.00002.0001i_02262 EsMa.0824.00003.0001i_01989 EsMa.0824.00004.0001i_02098 EsMa.0824.00005.0001i_01999 EsMa.0824.00006.0001i_00822 EsMa.0824.00007.0001i_00574 EsMa.0824.00008.0001i_02152 EsMa.0824.00009.0001i_02124 EsMa.0824.00010.0001i_01983 EsMa.0824.00011.0001i_00496 EsMa.0824.00012.0001i_00561 EsMa.0824.00013.0001i_00575 EsMa.0824.00014.0001i_02021\n",
      "22 EsMa.0824.00001.0001i_01879 EsMa.0824.00002.0001i_02202 EsMa.0824.00003.0001i_01929 EsMa.0824.00004.0001i_02038 EsMa.0824.00005.0001i_01936 EsMa.0824.00006.0001i_00757 EsMa.0824.00007.0001i_00637 EsMa.0824.00008.0001i_02089 EsMa.0824.00009.0001i_02064 EsMa.0824.00010.0001i_01923 EsMa.0824.00011.0001i_00560 EsMa.0824.00012.0001i_00501 EsMa.0824.00013.0001i_00512 EsMa.0824.00014.0001i_01961\n"
     ]
    }
   ],
   "source": [
    "! head -10 Coregenome/PersGenome_PanGenome-EsMa.All.prt-clust-0.8-mode1.lst-all_1.lst"
   ]
  },
  {
   "cell_type": "markdown",
   "metadata": {},
   "source": [
    "So here we are left with only those genes, those orthologues, which are in a single copy in all the organisms we have analysed"
   ]
  },
  {
   "cell_type": "markdown",
   "metadata": {},
   "source": [
    "At this step, it is possible to build more than just coregens<br>\n",
    "The `corepers` module has many more arguments, such as:\n",
    "\n",
    "- `-t` <tol>: % (between 0 and 1) of the persistent genome: a family is considered as persistent if it contains exactly one member in at least tol% of the genomes, and is absent in all other genomes. Default value for t is 1, meaning that all genomes must have a unique member. This corresponds to the coregenome (so no need to put this \n",
    "option if you want a coregenome). More relaxed definitions of a persistent genome can be used by using -X or -M options (see below). \n",
    "- `-X`: add this option if you want to relax a little the definition of the persistent genome, to get a mixed persistent genome. With -X option, a family is considered as persistent if at least tol% (tol defined by -t <tol> parameter, see above) of the genomes have exactly one member in the family, but the other genomes can have either 0, either several members in the family. This is useful to add the families where, in some genomes, 1 protein has been split in several parts, because of sequencing or assembly error(s). \n",
    "- `-M`: not compatible with -X. With this option, you get the multi persistent genome. It includes the strict and mixed persistent, but is even wider: the only condition for a family to be persistent is that it must have at least one member in at least tol% (tol still defined by -t <tol> parameter) of the genomes (independent of the copy number). "
   ]
  },
  {
   "cell_type": "markdown",
   "metadata": {},
   "source": [
    "### **Step 5: Aligning the sequence of core gene sequences**"
   ]
  },
  {
   "cell_type": "markdown",
   "metadata": {},
   "source": [
    "For each of our objects, we have an amino acid sequence and a nucleotide sequence. That is, we can do alignments of both.<br>\n",
    "For biological analysis, the protein sequence is preferred because:\n",
    "1. Larger alphabet = more letter variants - 20 vs. 4 for nucleotide sequences\n",
    "2. Amino acids have a more conservative structure (nucleotides are more variable, there are nonsynonymous substitutions, and amino acids are under stronger selection and it is easier for us to match conservative parts)\n",
    "However, when aligning amino acid sequences, we find it difficult to ‘go back’ and account for nucleotide substitutions<br>\n",
    "But there is a trick - we take the nucleotide sequences, translate them into amino acids and sort of align the amino acids, preserving the original triplets of nucleotides that were underneath those amino acids\n",
    "Then:\n",
    "- We can account for honest correct reading frame shifts - like a single nucleotide dropout in a nucleotide alignment (i.e. we allow for a situation that is impossible in an amino acid alignment)\n",
    "- And at the same time we have information about the amino acid structure of the protein - a combination of two levels of information"
   ]
  },
  {
   "cell_type": "markdown",
   "metadata": {},
   "source": [
    "Let's also break down the command below in parts:\n",
    "- `PanACoTA` - the name of the programme we are running\n",
    "- `align` - module of this programme that aligns sequences with `mafft`\n",
    "- By key `-c` we pass the `PersGenome_PanGenome-EsMa.All.prt-clust-0.8-mode1.lst-all_1.lst` file\n",
    "- By key `-l` we pass the `LSTINFO-.lst` file from the **Step 2.2.**\n",
    "- By key `-n` we pass the four-character name for the data, which was set previously\n",
    "- By key `-d` we pass the path to the output directory from **Step 2.**\n",
    "- By key `-o` we specify where to store the output files"
   ]
  },
  {
   "cell_type": "code",
   "execution_count": 21,
   "metadata": {},
   "outputs": [
    {
     "name": "stdout",
     "output_type": "stream",
     "text": [
      "\u001b[32m  * [2024-08-25 18:54:49] : INFO \u001b[0m PanACoTA version 1.4.0\u001b[0m\n",
      "\u001b[32m  * [2024-08-25 18:54:49] : INFO \u001b[0m Command used\n",
      " \t > PanACoTA align -c Coregenome/PersGenome_PanGenome-EsMa.All.prt-clust-0.8-mode1.lst-all_1.lst -l Annotation/LSTINFO-.lst -n EsMa -d Annotation/ -o Alignment\u001b[0m\n",
      "\u001b[32m  * [2024-08-25 18:54:49] : INFO \u001b[0m Found 14 genomes.\u001b[0m\n",
      "\u001b[32m  * [2024-08-25 18:54:49] : INFO \u001b[0m Reading PersGenome and constructing lists of missing genomes in each family.\u001b[0m\n",
      "\u001b[32m  * [2024-08-25 18:54:49] : INFO \u001b[0m Getting all persistent proteins and classify by strain.\u001b[0m\n",
      "\u001b[32m  * [2024-08-25 18:55:10] : INFO \u001b[0m Extracting proteins and genes from all genomes\u001b[0m\n",
      "Extraction:████████████████ 14/14 (100%) - Elapsed Time: 0:03:44 Time:  0:03:44\n",
      "\u001b[32m  * [2024-08-25 18:58:55] : INFO \u001b[0m Starting alignment of all families: protein alignment, back-translation to nucleotides, and add missing genomes in the family\u001b[0m\n",
      "Alignment: ████████████████████████ 2709/2709 (100%) - Elapsed Time: 0:30:11 - \u001b[32m  * [2024-08-25 19:29:07] : INFO \u001b[0m Concatenating all nucl alignment files\u001b[0m\n",
      "Concatenation: ███████████████████████ 2709/2709 (100%) - Elapsed Time: 0:00:07\n",
      "\u001b[32m  * [2024-08-25 19:29:19] : INFO \u001b[0m Grouping nucleic alignments per genome\u001b[0m\n",
      "|               ◐      |  -  Elapsed Time: 0:00:01\n",
      "\u001b[32m  * [2024-08-25 19:29:20] : INFO \u001b[0m END\u001b[0m\n"
     ]
    }
   ],
   "source": [
    "! PanACoTA align -c Coregenome/PersGenome_PanGenome-EsMa.All.prt-clust-0.8-mode1.lst-all_1.lst -l Annotation/LSTINFO-.lst -n EsMa -d Annotation/ -o Alignment"
   ]
  },
  {
   "cell_type": "markdown",
   "metadata": {},
   "source": [
    "Let's go into the directory and look at the results"
   ]
  },
  {
   "cell_type": "code",
   "execution_count": 21,
   "metadata": {},
   "outputs": [
    {
     "name": "stdout",
     "output_type": "stream",
     "text": [
      "Align-EsMa  PanACoTA-align_EsMa.log\t     PanACoTA-align_EsMa.log.err\n",
      "List-EsMa   PanACoTA-align_EsMa.log.details  Phylo-EsMa\n"
     ]
    }
   ],
   "source": [
    "! ls Alignment"
   ]
  },
  {
   "cell_type": "markdown",
   "metadata": {},
   "source": [
    "We see a lot of log files<br>\n",
    "But now we are interested in the contents of the `Align-EsMa` directory"
   ]
  },
  {
   "cell_type": "markdown",
   "metadata": {},
   "source": [
    "#### **Step 5.1. `Align-EsMa` directory**"
   ]
  },
  {
   "cell_type": "code",
   "execution_count": 29,
   "metadata": {},
   "outputs": [
    {
     "name": "stdout",
     "output_type": "stream",
     "text": [
      "EsMa-complete.nucl.cat.aln\n",
      "EsMa-current.1.gen\n",
      "EsMa-current.1.miss.lst\n",
      "EsMa-current.1.prt\n",
      "EsMa-current.10.gen\n",
      "EsMa-current.10.miss.lst\n",
      "EsMa-current.10.prt\n",
      "EsMa-current.1000.gen\n",
      "EsMa-current.1000.miss.lst\n",
      "EsMa-current.1000.prt\n",
      "EsMa-current.1007.gen\n",
      "EsMa-current.1007.miss.lst\n",
      "EsMa-current.1007.prt\n",
      "EsMa-current.1009.gen\n",
      "EsMa-current.1009.miss.lst\n",
      "EsMa-current.1009.prt\n",
      "EsMa-current.1011.gen\n",
      "EsMa-current.1011.miss.lst\n",
      "EsMa-current.1011.prt\n",
      "EsMa-current.1012.gen\n",
      "ls: write error: Broken pipe\n"
     ]
    }
   ],
   "source": [
    "! ls -U Alignment/Align-EsMa | head -20"
   ]
  },
  {
   "cell_type": "markdown",
   "metadata": {},
   "source": [
    "There are a lot of files in this folder (more than 1000), so we displayed only 20 of them on the screen<br>\n",
    "But now each separate file is not one organism (as it was in the previous steps), but one orthologous series (and it contains sequences from different organisms that were glued together).\n",
    "\n",
    "- `.prt` files correspond to protein, i.e. there will be amino acid sequences inside.\n",
    "- `.gen` files correspond to nucleotides, so there will be nucleotide sequences inside. "
   ]
  },
  {
   "cell_type": "markdown",
   "metadata": {},
   "source": [
    "#### **Step 5.2. `Phylo-EsMa` directory**"
   ]
  },
  {
   "cell_type": "markdown",
   "metadata": {},
   "source": [
    "And now let's have a look at the contents of the `Phylo-EsMa` directory"
   ]
  },
  {
   "cell_type": "code",
   "execution_count": 30,
   "metadata": {},
   "outputs": [
    {
     "name": "stdout",
     "output_type": "stream",
     "text": [
      "EsMa.nucl.grp.aln\n"
     ]
    }
   ],
   "source": [
    "! ls Alignment/Phylo-EsMa/"
   ]
  },
  {
   "cell_type": "markdown",
   "metadata": {},
   "source": [
    "`EsMa.nucl.grp.aln` is the alignment itselft, the main result of running the `PanACoTA`'s pipeline `align` module. It is the concatenate of the core genes alignment. It is from this alignment that we will build the phylogenetic tree in the next step."
   ]
  },
  {
   "cell_type": "markdown",
   "metadata": {},
   "source": [
    "### **Step 6: Build a phylogenetic tree**"
   ]
  },
  {
   "cell_type": "markdown",
   "metadata": {},
   "source": [
    "Let's also break down the command below in parts:\n",
    "- `PanACoTA` - the name of the programme we are running\n",
    "- `tree` - module of this programme for phylogenetic tree construction\n",
    "- By key `-a` we pass the alignment file (`EsMa.nucl.grp.aln`)\n",
    "- By key `-s` we specify which tree building programme we want to use\n",
    "- By key `-o` we specify where to store the output files"
   ]
  },
  {
   "cell_type": "code",
   "execution_count": 1,
   "metadata": {},
   "outputs": [
    {
     "name": "stdout",
     "output_type": "stream",
     "text": [
      "\u001b[32m  * [2024-08-25 19:30:32] : INFO \u001b[0m PanACoTA version 1.4.0\u001b[0m\n",
      "\u001b[32m  * [2024-08-25 19:30:32] : INFO \u001b[0m Command used\n",
      " \t > PanACoTA tree -a Alignment/Phylo-EsMa/EsMa.nucl.grp.aln -s iqtree2 -o Tree\u001b[0m\n",
      "\u001b[32m  * [2024-08-25 19:30:32] : INFO \u001b[0m Running IQtree...\u001b[0m\n",
      "\u001b[32m  * [2024-08-25 19:31:16] : INFO \u001b[0m END\u001b[0m\n"
     ]
    }
   ],
   "source": [
    "! PanACoTA tree -a Alignment/Phylo-EsMa/EsMa.nucl.grp.aln -s iqtree2 -o Tree"
   ]
  },
  {
   "cell_type": "markdown",
   "metadata": {},
   "source": [
    "Let's look at the output!"
   ]
  },
  {
   "cell_type": "code",
   "execution_count": 33,
   "metadata": {},
   "outputs": [
    {
     "name": "stdout",
     "output_type": "stream",
     "text": [
      "EsMa.nucl.grp.aln.iqtree_tree.bionj   EsMa.nucl.grp.aln.iqtree_tree.treefile\n",
      "EsMa.nucl.grp.aln.iqtree_tree.ckp.gz  PanACoTA-tree-iqtree2.log\n",
      "EsMa.nucl.grp.aln.iqtree_tree.iqtree  PanACoTA-tree-iqtree2.log.details\n",
      "EsMa.nucl.grp.aln.iqtree_tree.log     PanACoTA-tree-iqtree2.log.err\n",
      "EsMa.nucl.grp.aln.iqtree_tree.mldist\n"
     ]
    }
   ],
   "source": [
    "! ls Tree"
   ]
  },
  {
   "cell_type": "markdown",
   "metadata": {},
   "source": [
    "- `PanACoTA-tree-iqtree2.log`\n",
    "- `PanACoTA-tree-iqtree2.log.details`\n",
    "- `PanACoTA-tree-iqtree2.log.err`\n",
    "\n",
    "It's all `PanACoTA`'s own logs"
   ]
  },
  {
   "cell_type": "markdown",
   "metadata": {},
   "source": [
    "- `EsMa.nucl.grp.aln.iqtree_tree.bionj` - this file contains the initial tree representation (tree draft)\n",
    "- `EsMa.nucl.grp.aln.iqtree_tree.treefile` - the very tree file we are interested in"
   ]
  },
  {
   "cell_type": "markdown",
   "metadata": {},
   "source": [
    "Let's take a look at it!"
   ]
  },
  {
   "cell_type": "code",
   "execution_count": 34,
   "metadata": {},
   "outputs": [
    {
     "name": "stdout",
     "output_type": "stream",
     "text": [
      "(EsMa.0824.00001:0.0899533237,((EsMa.0824.00002:0.0014558718,(((EsMa.0824.00003:0.0012307785,EsMa.0824.00012:0.0012870353):0.0002683664,(EsMa.0824.00004:0.0013314298,(EsMa.0824.00006:0.0026908476,((EsMa.0824.00009:0.0000384090,EsMa.0824.00010:0.0000274042):0.0015596552,EsMa.0824.00013:0.0014403274):0.0002421241):0.0003947757):0.0002574774):0.0000880096,(EsMa.0824.00007:0.0012606069,EsMa.0824.00008:0.0011876549):0.0002556339):0.0001349309):0.0002322047,EsMa.0824.00014:0.0012843745):0.0012230243,(EsMa.0824.00005:0.0000163401,EsMa.0824.00011:0.0001690095):0.0009982711);\n"
     ]
    }
   ],
   "source": [
    "! cat Tree/EsMa.nucl.grp.aln.iqtree_tree.treefile"
   ]
  },
  {
   "cell_type": "markdown",
   "metadata": {},
   "source": [
    "This is a tree in `Newick` format"
   ]
  },
  {
   "cell_type": "markdown",
   "metadata": {},
   "source": [
    "#### **Step 6.1. Tree visualization**"
   ]
  },
  {
   "cell_type": "markdown",
   "metadata": {},
   "source": [
    "For more details please visit [Phylogenetics handbook](https://github.com/iliapopov17/NGS-Handbook/tree/main/04_Phylogenetics)<br>\n",
    "Here we will not use `iTOL` or `FigTree` but we will visualize the tree in the fastest way possible - using pseudo-graphics"
   ]
  },
  {
   "cell_type": "markdown",
   "metadata": {},
   "source": [
    "Import `Phylo` module from `Biopython`"
   ]
  },
  {
   "cell_type": "code",
   "execution_count": 35,
   "metadata": {},
   "outputs": [],
   "source": [
    "from Bio import Phylo"
   ]
  },
  {
   "cell_type": "markdown",
   "metadata": {},
   "source": [
    "Read the `EsMa.nucl.grp.aln.iqtree_tree.treefile` file to the `tree` variable"
   ]
  },
  {
   "cell_type": "code",
   "execution_count": 36,
   "metadata": {},
   "outputs": [],
   "source": [
    "tree = Phylo.read(\"Tree/EsMa.nucl.grp.aln.iqtree_tree.treefile\", \"newick\")"
   ]
  },
  {
   "cell_type": "markdown",
   "metadata": {},
   "source": [
    "Visualize the tree!"
   ]
  },
  {
   "cell_type": "code",
   "execution_count": 37,
   "metadata": {},
   "outputs": [
    {
     "name": "stdout",
     "output_type": "stream",
     "text": [
      "  __________________________________________________________ EsMa.0824.00001\n",
      " |\n",
      " , EsMa.0824.00002\n",
      " |\n",
      " |, EsMa.0824.00003\n",
      " ||\n",
      " || EsMa.0824.00012\n",
      " ||\n",
      " |, EsMa.0824.00004\n",
      " ||\n",
      " ||_ EsMa.0824.00006\n",
      " ||\n",
      "_||, EsMa.0824.00009\n",
      " |,|\n",
      " ||| EsMa.0824.00010\n",
      " ||\n",
      " || EsMa.0824.00013\n",
      " ||\n",
      " |, EsMa.0824.00007\n",
      " ||\n",
      " || EsMa.0824.00008\n",
      " |\n",
      " | EsMa.0824.00014\n",
      " |\n",
      " , EsMa.0824.00005\n",
      " |\n",
      " | EsMa.0824.00011\n",
      "\n"
     ]
    }
   ],
   "source": [
    "Phylo.draw_ascii(tree)"
   ]
  },
  {
   "cell_type": "markdown",
   "metadata": {},
   "source": [
    "That's right! The longest branch is _Shigella flexneri_."
   ]
  }
 ],
 "metadata": {
  "kernelspec": {
   "display_name": "panacota",
   "language": "python",
   "name": "python3"
  },
  "language_info": {
   "codemirror_mode": {
    "name": "ipython",
    "version": 3
   },
   "file_extension": ".py",
   "mimetype": "text/x-python",
   "name": "python",
   "nbconvert_exporter": "python",
   "pygments_lexer": "ipython3",
   "version": "3.12.4"
  }
 },
 "nbformat": 4,
 "nbformat_minor": 2
}
